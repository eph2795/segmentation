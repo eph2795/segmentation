{
 "cells": [
  {
   "cell_type": "markdown",
   "metadata": {},
   "source": [
    "## Install anaconda"
   ]
  },
  {
   "cell_type": "code",
   "execution_count": 1,
   "metadata": {},
   "outputs": [
    {
     "name": "stdout",
     "output_type": "stream",
     "text": [
      "--2019-11-11 10:54:39--  https://repo.anaconda.com/archive/Anaconda3-2019.10-Linux-x86_64.sh\n",
      "Resolving repo.anaconda.com (repo.anaconda.com)... 104.16.131.3, 104.16.130.3, 2606:4700::6810:8303, ...\n",
      "Connecting to repo.anaconda.com (repo.anaconda.com)|104.16.131.3|:443... connected.\n",
      "HTTP request sent, awaiting response... 200 OK\n",
      "Length: 530308481 (506M) [application/x-sh]\n",
      "Saving to: ‘Anaconda3-2019.10-Linux-x86_64.sh’\n",
      "\n",
      "Anaconda3-2019.10-L 100%[===================>] 505.74M  11.2MB/s    in 48s     \n",
      "\n",
      "2019-11-11 10:55:27 (10.5 MB/s) - ‘Anaconda3-2019.10-Linux-x86_64.sh’ saved [530308481/530308481]\n",
      "\n"
     ]
    }
   ],
   "source": [
    "%%bash\n",
    "wget https://repo.anaconda.com/archive/Anaconda3-2019.10-Linux-x86_64.sh\n",
    "chmod 777 Anaconda3-2019.10-Linux-x86_64.sh\n",
    "./Anaconda3-2019.10-Linux-x86_64.sh"
   ]
  },
  {
   "cell_type": "markdown",
   "metadata": {},
   "source": [
    "## Add new kernel to jupyter"
   ]
  },
  {
   "cell_type": "code",
   "execution_count": null,
   "metadata": {},
   "outputs": [],
   "source": [
    "%%bash\n",
    "conda create --name py37 python=3.7\n",
    "conda install ipykernel\n",
    "python -m ipykernel install --user --name py37 --display-name \"Conda python 3.7\""
   ]
  }
 ],
 "metadata": {
  "kernelspec": {
   "display_name": "Python 3",
   "language": "python",
   "name": "python3"
  },
  "language_info": {
   "codemirror_mode": {
    "name": "ipython",
    "version": 3
   },
   "file_extension": ".py",
   "mimetype": "text/x-python",
   "name": "python",
   "nbconvert_exporter": "python",
   "pygments_lexer": "ipython3",
   "version": "3.5.2"
  }
 },
 "nbformat": 4,
 "nbformat_minor": 2
}
