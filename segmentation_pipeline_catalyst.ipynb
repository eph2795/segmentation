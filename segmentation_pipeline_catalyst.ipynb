{
 "cells": [
  {
   "cell_type": "code",
   "execution_count": 1,
   "metadata": {},
   "outputs": [],
   "source": [
    "import os\n",
    "os.environ[\"CUDA_VISIBLE_DEVICES\"] = \"1\""
   ]
  },
  {
   "cell_type": "code",
   "execution_count": 2,
   "metadata": {},
   "outputs": [
    {
     "data": {
      "text/plain": [
       "509"
      ]
     },
     "execution_count": 2,
     "metadata": {},
     "output_type": "execute_result"
    }
   ],
   "source": [
    "len(os.listdir('./data/SPE_carb10_58_box3/NLM'))"
   ]
  },
  {
   "cell_type": "code",
   "execution_count": 3,
   "metadata": {},
   "outputs": [],
   "source": [
    "import imageio\n",
    "import numpy as np\n",
    "from tqdm import tqdm"
   ]
  },
  {
   "cell_type": "code",
   "execution_count": 4,
   "metadata": {},
   "outputs": [],
   "source": [
    "import matplotlib.pyplot as plt"
   ]
  },
  {
   "cell_type": "code",
   "execution_count": 5,
   "metadata": {},
   "outputs": [],
   "source": [
    "from stack_segmentation.stack import Stack"
   ]
  },
  {
   "cell_type": "code",
   "execution_count": 6,
   "metadata": {},
   "outputs": [],
   "source": [
    "from sklearn.metrics import f1_score, average_precision_score, precision_score, recall_score"
   ]
  },
  {
   "cell_type": "code",
   "execution_count": 50,
   "metadata": {},
   "outputs": [],
   "source": [
    "folder_path = './data/Urna_34/'"
   ]
  },
  {
   "cell_type": "code",
   "execution_count": 51,
   "metadata": {},
   "outputs": [
    {
     "name": "stderr",
     "output_type": "stream",
     "text": [
      "700it [00:00, 930.36it/s]\n",
      "100%|██████████| 700/700 [00:06<00:00, 102.89it/s]\n"
     ]
    }
   ],
   "source": [
    "stack = Stack.read_from_source(folder_path)"
   ]
  },
  {
   "cell_type": "code",
   "execution_count": 52,
   "metadata": {},
   "outputs": [],
   "source": [
    "test_stack = stack"
   ]
  },
  {
   "cell_type": "code",
   "execution_count": 53,
   "metadata": {},
   "outputs": [
    {
     "name": "stderr",
     "output_type": "stream",
     "text": [
      "25200it [00:00, 255266.00it/s]\n",
      "100%|██████████| 25200/25200 [00:07<00:00, 3456.93it/s]\n"
     ]
    },
    {
     "data": {
      "text/plain": [
       "0.992094608266276"
      ]
     },
     "execution_count": 53,
     "metadata": {},
     "output_type": "execute_result"
    }
   ],
   "source": [
    "q = test_stack.apply(runner, model, patch_sizes=(128, 128, 1))\n",
    "q.measure(f1_score, threshold=0.5)"
   ]
  },
  {
   "cell_type": "code",
   "execution_count": 54,
   "metadata": {},
   "outputs": [
    {
     "name": "stderr",
     "output_type": "stream",
     "text": [
      "25200it [00:00, 49789.18it/s]\n",
      "100%|██████████| 25200/25200 [00:01<00:00, 14976.31it/s]\n"
     ]
    },
    {
     "data": {
      "text/plain": [
       "0.9917943396327201"
      ]
     },
     "execution_count": 54,
     "metadata": {},
     "output_type": "execute_result"
    }
   ],
   "source": [
    "q = test_stack.apply(runner, model, patch_sizes=(1, 128, 128))\n",
    "q.measure(f1_score, threshold=0.5)"
   ]
  },
  {
   "cell_type": "code",
   "execution_count": 55,
   "metadata": {},
   "outputs": [
    {
     "name": "stderr",
     "output_type": "stream",
     "text": [
      "25200it [00:00, 253441.99it/s]\n",
      "100%|██████████| 25200/25200 [00:01<00:00, 13826.21it/s]\n"
     ]
    },
    {
     "data": {
      "text/plain": [
       "0.9917861691453652"
      ]
     },
     "execution_count": 55,
     "metadata": {},
     "output_type": "execute_result"
    }
   ],
   "source": [
    "q = test_stack.apply(runner, model, patch_sizes=(128, 1, 128))\n",
    "q.measure(f1_score, threshold=0.5)"
   ]
  },
  {
   "cell_type": "code",
   "execution_count": 48,
   "metadata": {},
   "outputs": [
    {
     "name": "stderr",
     "output_type": "stream",
     "text": [
      " 95%|█████████▌| 20/21 [29:03<01:27, 87.37s/it]/home/evlavrukhin/anaconda3/envs/py37_geo/lib/python3.7/site-packages/sklearn/metrics/classification.py:1437: UndefinedMetricWarning:\n",
      "\n",
      "F-score is ill-defined and being set to 0.0 due to no predicted samples.\n",
      "\n",
      "100%|██████████| 21/21 [30:23<00:00, 85.03s/it]\n"
     ]
    }
   ],
   "source": [
    "values = []\n",
    "for t in tqdm(np.linspace(0, 1, 21)):\n",
    "    values.append(q.measure(f1_score, threshold=t))"
   ]
  },
  {
   "cell_type": "code",
   "execution_count": 29,
   "metadata": {},
   "outputs": [
    {
     "data": {
      "image/png": "[encoded data removed]",
      "text/plain": [
       "<Figure size 432x288 with 1 Axes>"
      ]
     },
     "metadata": {
      "needs_background": "light"
     },
     "output_type": "display_data"
    }
   ],
   "source": [
    "plt.plot(np.linspace(0, 1, 21), values)\n",
    "plt.xlim([0, 1])\n",
    "plt.show()"
   ]
  },
  {
   "cell_type": "code",
   "execution_count": null,
   "metadata": {},
   "outputs": [],
   "source": []
  },
  {
   "cell_type": "code",
   "execution_count": null,
   "metadata": {},
   "outputs": [],
   "source": []
  },
  {
   "cell_type": "code",
   "execution_count": 73,
   "metadata": {},
   "outputs": [],
   "source": [
    "def _split_stack(stack, _slice, patch_sizes):\n",
    "    return stack[_slice].slice_up(patch_sizes)\n",
    "\n",
    "def _make_slice(axis, start, stop):\n",
    "    _slice = [slice(None, None, None)] * 3\n",
    "    _slice[axis] = slice(start, stop, 1)\n",
    "    return tuple(_slice)\n",
    "    \n",
    "def train_val_test_stack_split(stack, \n",
    "                               patch_sizes=(128, 128, 1), \n",
    "                               axis=2,  train_size=2/3, val_size=1/6, test_size=1/6):\n",
    "    train_data = [_split_stack(stack, _make_slice(axis, \n",
    "                                                  0, \n",
    "                                                  int(stack.D * train_size)), patch_sizes)\n",
    "                  for stack in stacks]\n",
    "    val_data = [_split_stack(stack, _make_slice(axis, \n",
    "                                                int(stack.D * train_size), \n",
    "                                                int(stack.D * (train_size + val_size))), patch_sizes)\n",
    "                  for stack in stacks]\n",
    "    test_data = [_split_stack(stack, _make_slice(axis, \n",
    "                                                 int(stack.D * (train_size + val_size)),\n",
    "                                                 stack.D), patch_sizes)\n",
    "                  for stack in stacks]\n",
    "    return train_data, val_data, test_data"
   ]
  },
  {
   "cell_type": "code",
   "execution_count": null,
   "metadata": {},
   "outputs": [],
   "source": [
    "def handle_stacks(stacks, axis=2, train_size=2/3, val_size=1/6, test_size=1/6, patch_sizes=(128, 128, 1)):\n",
    "    train_data, val_data, test_data = train_val_test_stack_split(stacks, \n",
    "                                                                 patch_sizes, \n",
    "                                                                 axis, train_size, val_size, test_size)\n",
    "    \n",
    "    bs = 16\n",
    "    num_workers = 16\n",
    "    # patch_size = 256\n",
    "\n",
    "    data_transform = transforms.Compose([\n",
    "        Augmentor(\n",
    "            dict_key=\"features\",\n",
    "            augment_fn=lambda x: \\\n",
    "                torch.from_numpy(x.copy().astype(np.float32) / 255.).unsqueeze_(0)),\n",
    "        Augmentor(\n",
    "            dict_key=\"features\",\n",
    "            augment_fn=transforms.Normalize(\n",
    "                (0.5, ),\n",
    "                (0.5, ))),\n",
    "        Augmentor(\n",
    "            dict_key=\"targets\",\n",
    "            augment_fn=lambda x: \\\n",
    "                torch.from_numpy(x.copy().astype(np.float32) / 255.).unsqueeze_(0))\n",
    "    ])\n",
    "    \n",
    "    open_fn = lambda x: {'features': x['features'].squeeze(),\n",
    "                     'targets': x['targets'].squeeze()}\n",
    "\n",
    "    loaders = collections.OrderedDict()\n",
    "\n",
    "    train_loader = UtilsFactory.create_loader(\n",
    "        train_data, \n",
    "        open_fn=open_fn, \n",
    "        dict_transform=data_transform, \n",
    "        batch_size=bs, \n",
    "        num_workers=num_workers, \n",
    "        shuffle=True)\n",
    "\n",
    "    valid_loader = UtilsFactory.create_loader(\n",
    "        val_data, \n",
    "        open_fn=open_fn, \n",
    "        dict_transform=data_transform, \n",
    "        batch_size=bs, \n",
    "        num_workers=num_workers, \n",
    "        shuffle=False)\n",
    "\n",
    "    loaders[\"train\"] = train_loader\n",
    "    loaders[\"valid\"] = valid_loader\n",
    "    \n",
    "    from catalyst.contrib.models.segmentation import UNet\n",
    "    import torch\n",
    "    import torch.nn as nn\n",
    "    from catalyst.dl.experiments import SupervisedRunner\n",
    "    from datetime import datetime\n",
    "    import catalyst\n",
    "    from catalyst.dl.callbacks import EarlyStoppingCallback\n",
    "    \n",
    "    # experiment setup\n",
    "    num_epochs = 50\n",
    "    logdir = \"./logs/segmentation_notebook_{}\".format(str(datetime.now()))\n",
    "\n",
    "    # model, criterion, optimizer\n",
    "    model = UNet(num_classes=1, in_channels=1, num_filters=64, num_blocks=4)\n",
    "    criterion = nn.BCEWithLogitsLoss()\n",
    "    optimizer = torch.optim.Adam(model.parameters(), lr=1e-4)\n",
    "    scheduler = torch.optim.lr_scheduler.MultiStepLR(optimizer, milestones=[5, 10, 15], gamma=0.3)\n",
    "\n",
    "\n",
    "    # model runner\n",
    "    runner = SupervisedRunner(device='cuda:1')\n",
    "    # model training\n",
    "    runner.train(\n",
    "        model=model,\n",
    "        criterion=criterion,\n",
    "        optimizer=optimizer,\n",
    "        loaders=loaders,\n",
    "        callbacks=[EarlyStoppingCallback(patience=5)],\n",
    "        logdir=logdir,\n",
    "        num_epochs=num_epochs,\n",
    "        verbose=True\n",
    "    )"
   ]
  },
  {
   "cell_type": "code",
   "execution_count": null,
   "metadata": {},
   "outputs": [],
   "source": []
  },
  {
   "cell_type": "code",
   "execution_count": null,
   "metadata": {},
   "outputs": [],
   "source": []
  },
  {
   "cell_type": "code",
   "execution_count": 13,
   "metadata": {},
   "outputs": [
    {
     "name": "stderr",
     "output_type": "stream",
     "text": [
      "14400it [00:00, 124163.77it/s]\n",
      "5400it [00:00, 265508.96it/s]\n",
      "5760it [00:00, 255986.00it/s]\n"
     ]
    }
   ],
   "source": [
    "train_data = stack[:, :, :400].slice_up(patch_sizes=(128, 128, 1))\n",
    "val_data = stack[:, :, 400:550].slice_up(patch_sizes=(128, 128, 1))\n",
    "test_data = stack[:, :, 550:].slice_up(patch_sizes=(128, 128, 1))"
   ]
  },
  {
   "cell_type": "code",
   "execution_count": null,
   "metadata": {},
   "outputs": [],
   "source": [
    "runner.infer()"
   ]
  },
  {
   "cell_type": "code",
   "execution_count": 14,
   "metadata": {},
   "outputs": [],
   "source": [
    "# dataset_train = TomoDataset(X_train, Y_train)\n",
    "# dataset_test = TomoDataset(X_test, Y_test)"
   ]
  },
  {
   "cell_type": "code",
   "execution_count": 15,
   "metadata": {},
   "outputs": [],
   "source": [
    "import collections\n",
    "\n",
    "import torchvision\n",
    "import torchvision.transforms as transforms\n",
    "\n",
    "from catalyst.data.augmentor import Augmentor\n",
    "from catalyst.dl.utils import UtilsFactory"
   ]
  },
  {
   "cell_type": "code",
   "execution_count": 16,
   "metadata": {},
   "outputs": [],
   "source": [
    "bs = 16\n",
    "num_workers = 16\n",
    "# patch_size = 256\n",
    "\n",
    "data_transform = transforms.Compose([\n",
    "    Augmentor(\n",
    "        dict_key=\"features\",\n",
    "        augment_fn=lambda x: \\\n",
    "            torch.from_numpy(x.copy().astype(np.float32) / 255.).unsqueeze_(0)),\n",
    "    Augmentor(\n",
    "        dict_key=\"features\",\n",
    "        augment_fn=transforms.Normalize(\n",
    "            (0.5, ),\n",
    "            (0.5, ))),\n",
    "    Augmentor(\n",
    "        dict_key=\"targets\",\n",
    "        augment_fn=lambda x: \\\n",
    "            torch.from_numpy(x.copy().astype(np.float32) / 255.).unsqueeze_(0))\n",
    "])"
   ]
  },
  {
   "cell_type": "code",
   "execution_count": 17,
   "metadata": {},
   "outputs": [],
   "source": [
    "open_fn = lambda x: {'features': x['features'].squeeze(),\n",
    "                     'targets': x['targets'].squeeze()}\n",
    "\n",
    "loaders = collections.OrderedDict()\n",
    "\n",
    "train_loader = UtilsFactory.create_loader(\n",
    "    train_data, \n",
    "    open_fn=open_fn, \n",
    "    dict_transform=data_transform, \n",
    "    batch_size=bs, \n",
    "    num_workers=num_workers, \n",
    "    shuffle=True)\n",
    "\n",
    "valid_loader = UtilsFactory.create_loader(\n",
    "    val_data, \n",
    "    open_fn=open_fn, \n",
    "    dict_transform=data_transform, \n",
    "    batch_size=bs, \n",
    "    num_workers=num_workers, \n",
    "    shuffle=False)\n",
    "\n",
    "loaders[\"train\"] = train_loader\n",
    "loaders[\"valid\"] = valid_loader"
   ]
  },
  {
   "cell_type": "code",
   "execution_count": 18,
   "metadata": {},
   "outputs": [],
   "source": [
    "from catalyst.contrib.models.segmentation import UNet"
   ]
  },
  {
   "cell_type": "code",
   "execution_count": 19,
   "metadata": {},
   "outputs": [],
   "source": [
    "import torch\n",
    "import torch.nn as nn\n",
    "from catalyst.dl.experiments import SupervisedRunner"
   ]
  },
  {
   "cell_type": "code",
   "execution_count": 20,
   "metadata": {},
   "outputs": [],
   "source": [
    "from datetime import datetime"
   ]
  },
  {
   "cell_type": "code",
   "execution_count": 30,
   "metadata": {},
   "outputs": [],
   "source": [
    "import catalyst"
   ]
  },
  {
   "cell_type": "code",
   "execution_count": 31,
   "metadata": {},
   "outputs": [],
   "source": [
    "from catalyst.dl.callbacks import EarlyStoppingCallback"
   ]
  },
  {
   "cell_type": "code",
   "execution_count": 40,
   "metadata": {},
   "outputs": [],
   "source": [
    "# experiment setup\n",
    "num_epochs = 50\n",
    "logdir = \"./logs/segmentation_notebook_{}\".format(str(datetime.now()))\n",
    "\n",
    "# model, criterion, optimizer\n",
    "model = UNet(num_classes=1, in_channels=1, num_filters=64, num_blocks=4)\n",
    "criterion = nn.BCEWithLogitsLoss()\n",
    "optimizer = torch.optim.Adam(model.parameters(), lr=1e-4)\n",
    "scheduler = torch.optim.lr_scheduler.MultiStepLR(optimizer, milestones=[5, 10, 15], gamma=0.3)\n",
    "\n",
    "\n",
    "# model runner\n",
    "runner = SupervisedRunner(device='cuda:1')"
   ]
  },
  {
   "cell_type": "code",
   "execution_count": 41,
   "metadata": {
    "scrolled": true
   },
   "outputs": [
    {
     "name": "stdout",
     "output_type": "stream",
     "text": [
      "0/50 * Epoch (train): 100% 900/900 [01:43<00:00,  8.77it/s, _timers/_fps=212.263, loss=0.024]\n",
      "0/50 * Epoch (valid): 100% 338/338 [00:14<00:00, 23.18it/s, _timers/_fps=6749.358, loss=0.023]\n",
      "[2019-06-05 15:35:21,536] \n",
      "0/50 * Epoch 0 (train): _base/lr=0.0001 | _base/momentum=0.9000 | _timers/_fps=214.9745 | _timers/batch_time=0.0768 | _timers/data_time=0.0741 | _timers/model_time=0.0027 | loss=0.0619\n",
      "0/50 * Epoch 0 (valid): _base/lr=0.0001 | _base/momentum=0.9000 | _timers/_fps=4545.6962 | _timers/batch_time=0.0107 | _timers/data_time=0.0079 | _timers/model_time=0.0028 | loss=0.0239\n",
      "1/50 * Epoch (train): 100% 900/900 [01:44<00:00,  8.74it/s, _timers/_fps=215.545, loss=0.023]\n",
      "1/50 * Epoch (valid): 100% 338/338 [00:14<00:00, 23.35it/s, _timers/_fps=5373.438, loss=0.022]\n",
      "[2019-06-05 15:37:21,523] \n",
      "1/50 * Epoch 1 (train): _base/lr=0.0001 | _base/momentum=0.9000 | _timers/_fps=212.1835 | _timers/batch_time=0.0778 | _timers/data_time=0.0750 | _timers/model_time=0.0027 | loss=0.0226\n",
      "1/50 * Epoch 1 (valid): _base/lr=0.0001 | _base/momentum=0.9000 | _timers/_fps=4753.1523 | _timers/batch_time=0.0103 | _timers/data_time=0.0077 | _timers/model_time=0.0026 | loss=0.0220\n",
      "2/50 * Epoch (train): 100% 900/900 [01:45<00:00,  8.70it/s, _timers/_fps=210.373, loss=0.021] \n",
      "2/50 * Epoch (valid): 100% 338/338 [00:14<00:00, 23.63it/s, _timers/_fps=6739.868, loss=0.021]\n",
      "[2019-06-05 15:39:22,091] \n",
      "2/50 * Epoch 2 (train): _base/lr=0.0001 | _base/momentum=0.9000 | _timers/_fps=212.9601 | _timers/batch_time=0.0779 | _timers/data_time=0.0751 | _timers/model_time=0.0028 | loss=0.0215\n",
      "2/50 * Epoch 2 (valid): _base/lr=0.0001 | _base/momentum=0.9000 | _timers/_fps=4736.6821 | _timers/batch_time=0.0104 | _timers/data_time=0.0077 | _timers/model_time=0.0026 | loss=0.0209\n",
      "3/50 * Epoch (train): 100% 900/900 [01:45<00:00,  8.71it/s, _timers/_fps=212.436, loss=0.021]\n",
      "3/50 * Epoch (valid): 100% 338/338 [00:15<00:00, 22.23it/s, _timers/_fps=6817.928, loss=0.020]\n",
      "[2019-06-05 15:41:23,731] \n",
      "3/50 * Epoch 3 (train): _base/lr=0.0001 | _base/momentum=0.9000 | _timers/_fps=212.4943 | _timers/batch_time=0.0778 | _timers/data_time=0.0749 | _timers/model_time=0.0028 | loss=0.0210\n",
      "3/50 * Epoch 3 (valid): _base/lr=0.0001 | _base/momentum=0.9000 | _timers/_fps=4025.1665 | _timers/batch_time=0.0117 | _timers/data_time=0.0088 | _timers/model_time=0.0030 | loss=0.0202\n",
      "4/50 * Epoch (train): 100% 900/900 [01:45<00:00,  8.74it/s, _timers/_fps=215.378, loss=0.021]\n",
      "4/50 * Epoch (valid): 100% 338/338 [00:14<00:00, 22.70it/s, _timers/_fps=5953.062, loss=0.020]\n",
      "[2019-06-05 15:43:25,047] \n",
      "4/50 * Epoch 4 (train): _base/lr=0.0001 | _base/momentum=0.9000 | _timers/_fps=211.7036 | _timers/batch_time=0.0780 | _timers/data_time=0.0751 | _timers/model_time=0.0028 | loss=0.0205\n",
      "4/50 * Epoch 4 (valid): _base/lr=0.0001 | _base/momentum=0.9000 | _timers/_fps=4488.2297 | _timers/batch_time=0.0108 | _timers/data_time=0.0080 | _timers/model_time=0.0028 | loss=0.0198\n",
      "5/50 * Epoch (train): 100% 900/900 [01:45<00:00,  8.70it/s, _timers/_fps=205.729, loss=0.021]\n",
      "5/50 * Epoch (valid): 100% 338/338 [00:14<00:00, 22.97it/s, _timers/_fps=6028.464, loss=0.020]\n",
      "[2019-06-05 15:45:26,343] \n",
      "5/50 * Epoch 5 (train): _base/lr=0.0001 | _base/momentum=0.9000 | _timers/_fps=211.8796 | _timers/batch_time=0.0780 | _timers/data_time=0.0750 | _timers/model_time=0.0029 | loss=0.0201\n",
      "5/50 * Epoch 5 (valid): _base/lr=0.0001 | _base/momentum=0.9000 | _timers/_fps=4541.5373 | _timers/batch_time=0.0105 | _timers/data_time=0.0077 | _timers/model_time=0.0027 | loss=0.0196\n",
      "6/50 * Epoch (train): 100% 900/900 [01:45<00:00,  8.61it/s, _timers/_fps=202.014, loss=0.020]\n",
      "6/50 * Epoch (valid): 100% 338/338 [00:14<00:00, 23.12it/s, _timers/_fps=6421.286, loss=0.019]\n",
      "[2019-06-05 15:47:27,527] \n",
      "6/50 * Epoch 6 (train): _base/lr=0.0001 | _base/momentum=0.9000 | _timers/_fps=212.0683 | _timers/batch_time=0.0779 | _timers/data_time=0.0750 | _timers/model_time=0.0029 | loss=0.0198\n",
      "6/50 * Epoch 6 (valid): _base/lr=0.0001 | _base/momentum=0.9000 | _timers/_fps=4378.7518 | _timers/batch_time=0.0111 | _timers/data_time=0.0083 | _timers/model_time=0.0028 | loss=0.0192\n",
      "7/50 * Epoch (train): 100% 900/900 [01:45<00:00,  8.69it/s, _timers/_fps=209.924, loss=0.022]\n",
      "7/50 * Epoch (valid): 100% 338/338 [00:14<00:00, 22.83it/s, _timers/_fps=6934.167, loss=0.019]\n",
      "[2019-06-05 15:49:28,795] \n",
      "7/50 * Epoch 7 (train): _base/lr=0.0001 | _base/momentum=0.9000 | _timers/_fps=211.7236 | _timers/batch_time=0.0780 | _timers/data_time=0.0750 | _timers/model_time=0.0029 | loss=0.0195\n",
      "7/50 * Epoch 7 (valid): _base/lr=0.0001 | _base/momentum=0.9000 | _timers/_fps=4443.0559 | _timers/batch_time=0.0105 | _timers/data_time=0.0075 | _timers/model_time=0.0029 | loss=0.0189\n",
      "8/50 * Epoch (train): 100% 900/900 [01:45<00:00,  8.67it/s, _timers/_fps=203.954, loss=0.018]\n",
      "8/50 * Epoch (valid): 100% 338/338 [00:14<00:00, 23.61it/s, _timers/_fps=6612.362, loss=0.019]\n",
      "[2019-06-05 15:51:29,676] \n",
      "8/50 * Epoch 8 (train): _base/lr=0.0001 | _base/momentum=0.9000 | _timers/_fps=212.3386 | _timers/batch_time=0.0778 | _timers/data_time=0.0749 | _timers/model_time=0.0029 | loss=0.0192\n",
      "8/50 * Epoch 8 (valid): _base/lr=0.0001 | _base/momentum=0.9000 | _timers/_fps=4669.3878 | _timers/batch_time=0.0103 | _timers/data_time=0.0076 | _timers/model_time=0.0027 | loss=0.0188\n",
      "9/50 * Epoch (train): 100% 900/900 [01:45<00:00,  8.71it/s, _timers/_fps=206.868, loss=0.020]\n",
      "9/50 * Epoch (valid): 100% 338/338 [00:14<00:00, 23.02it/s, _timers/_fps=6578.011, loss=0.018]\n",
      "[2019-06-05 15:53:30,931] \n",
      "9/50 * Epoch 9 (train): _base/lr=0.0001 | _base/momentum=0.9000 | _timers/_fps=213.7971 | _timers/batch_time=0.0773 | _timers/data_time=0.0743 | _timers/model_time=0.0029 | loss=0.0190\n",
      "9/50 * Epoch 9 (valid): _base/lr=0.0001 | _base/momentum=0.9000 | _timers/_fps=4530.5632 | _timers/batch_time=0.0105 | _timers/data_time=0.0077 | _timers/model_time=0.0027 | loss=0.0185\n",
      "10/50 * Epoch (train): 100% 900/900 [01:45<00:00,  8.64it/s, _timers/_fps=203.136, loss=0.018]\n",
      "10/50 * Epoch (valid): 100% 338/338 [00:14<00:00, 22.53it/s, _timers/_fps=6396.194, loss=0.018]\n",
      "[2019-06-05 15:55:32,354] \n",
      "10/50 * Epoch 10 (train): _base/lr=0.0001 | _base/momentum=0.9000 | _timers/_fps=211.8085 | _timers/batch_time=0.0780 | _timers/data_time=0.0750 | _timers/model_time=0.0029 | loss=0.0188\n",
      "10/50 * Epoch 10 (valid): _base/lr=0.0001 | _base/momentum=0.9000 | _timers/_fps=4109.3237 | _timers/batch_time=0.0118 | _timers/data_time=0.0089 | _timers/model_time=0.0028 | loss=0.0185\n",
      "11/50 * Epoch (train): 100% 900/900 [01:45<00:00,  8.70it/s, _timers/_fps=211.275, loss=0.022]\n",
      "11/50 * Epoch (valid): 100% 338/338 [00:14<00:00, 22.62it/s, _timers/_fps=4034.924, loss=0.018]\n",
      "[2019-06-05 15:57:33,717] \n",
      "11/50 * Epoch 11 (train): _base/lr=0.0001 | _base/momentum=0.9000 | _timers/_fps=211.4360 | _timers/batch_time=0.0781 | _timers/data_time=0.0751 | _timers/model_time=0.0029 | loss=0.0187\n",
      "11/50 * Epoch 11 (valid): _base/lr=0.0001 | _base/momentum=0.9000 | _timers/_fps=4118.9425 | _timers/batch_time=0.0119 | _timers/data_time=0.0089 | _timers/model_time=0.0029 | loss=0.0183\n",
      "12/50 * Epoch (train): 100% 900/900 [01:45<00:00,  8.69it/s, _timers/_fps=209.957, loss=0.018]\n",
      "12/50 * Epoch (valid): 100% 338/338 [00:15<00:00, 22.53it/s, _timers/_fps=6280.073, loss=0.018]\n",
      "[2019-06-05 15:59:35,190] \n",
      "12/50 * Epoch 12 (train): _base/lr=0.0001 | _base/momentum=0.9000 | _timers/_fps=213.0939 | _timers/batch_time=0.0776 | _timers/data_time=0.0746 | _timers/model_time=0.0029 | loss=0.0185\n",
      "12/50 * Epoch 12 (valid): _base/lr=0.0001 | _base/momentum=0.9000 | _timers/_fps=3902.8021 | _timers/batch_time=0.0120 | _timers/data_time=0.0089 | _timers/model_time=0.0031 | loss=0.0183\n",
      "13/50 * Epoch (train): 100% 900/900 [01:45<00:00,  8.72it/s, _timers/_fps=212.442, loss=0.019]\n",
      "13/50 * Epoch (valid): 100% 338/338 [00:15<00:00, 22.00it/s, _timers/_fps=6904.204, loss=0.018]\n",
      "[2019-06-05 16:01:37,047] \n",
      "13/50 * Epoch 13 (train): _base/lr=0.0001 | _base/momentum=0.9000 | _timers/_fps=212.6486 | _timers/batch_time=0.0777 | _timers/data_time=0.0747 | _timers/model_time=0.0029 | loss=0.0184\n",
      "13/50 * Epoch 13 (valid): _base/lr=0.0001 | _base/momentum=0.9000 | _timers/_fps=3871.7951 | _timers/batch_time=0.0125 | _timers/data_time=0.0095 | _timers/model_time=0.0029 | loss=0.0182\n"
     ]
    },
    {
     "name": "stdout",
     "output_type": "stream",
     "text": [
      "14/50 * Epoch (train): 100% 900/900 [01:45<00:00,  8.70it/s, _timers/_fps=211.887, loss=0.018]\n",
      "14/50 * Epoch (valid): 100% 338/338 [00:15<00:00, 22.45it/s, _timers/_fps=5985.984, loss=0.018]\n",
      "[2019-06-05 16:03:38,542] \n",
      "14/50 * Epoch 14 (train): _base/lr=0.0001 | _base/momentum=0.9000 | _timers/_fps=216.2660 | _timers/batch_time=0.0764 | _timers/data_time=0.0734 | _timers/model_time=0.0030 | loss=0.0181\n",
      "14/50 * Epoch 14 (valid): _base/lr=0.0001 | _base/momentum=0.9000 | _timers/_fps=4524.7704 | _timers/batch_time=0.0108 | _timers/data_time=0.0080 | _timers/model_time=0.0027 | loss=0.0181\n",
      "15/50 * Epoch (train): 100% 900/900 [01:45<00:00,  8.68it/s, _timers/_fps=210.404, loss=0.019]\n",
      "15/50 * Epoch (valid): 100% 338/338 [00:14<00:00, 23.64it/s, _timers/_fps=6885.079, loss=0.018]\n",
      "[2019-06-05 16:05:39,242] \n",
      "15/50 * Epoch 15 (train): _base/lr=0.0001 | _base/momentum=0.9000 | _timers/_fps=211.4736 | _timers/batch_time=0.0782 | _timers/data_time=0.0753 | _timers/model_time=0.0029 | loss=0.0179\n",
      "15/50 * Epoch 15 (valid): _base/lr=0.0001 | _base/momentum=0.9000 | _timers/_fps=4778.3012 | _timers/batch_time=0.0104 | _timers/data_time=0.0078 | _timers/model_time=0.0026 | loss=0.0181\n",
      "16/50 * Epoch (train): 100% 900/900 [01:45<00:00,  8.67it/s, _timers/_fps=209.654, loss=0.017]\n",
      "16/50 * Epoch (valid): 100% 338/338 [00:14<00:00, 22.94it/s, _timers/_fps=7132.412, loss=0.018]\n",
      "[2019-06-05 16:07:40,403] \n",
      "16/50 * Epoch 16 (train): _base/lr=0.0001 | _base/momentum=0.9000 | _timers/_fps=212.3503 | _timers/batch_time=0.0777 | _timers/data_time=0.0748 | _timers/model_time=0.0029 | loss=0.0176\n",
      "16/50 * Epoch 16 (valid): _base/lr=0.0001 | _base/momentum=0.9000 | _timers/_fps=4490.6637 | _timers/batch_time=0.0105 | _timers/data_time=0.0077 | _timers/model_time=0.0028 | loss=0.0180\n",
      "17/50 * Epoch (train): 100% 900/900 [01:46<00:00,  8.69it/s, _timers/_fps=204.648, loss=0.017]\n",
      "17/50 * Epoch (valid): 100% 338/338 [00:14<00:00, 23.37it/s, _timers/_fps=6004.193, loss=0.018]\n",
      "[2019-06-05 16:09:41,394] \n",
      "17/50 * Epoch 17 (train): _base/lr=0.0001 | _base/momentum=0.9000 | _timers/_fps=212.4068 | _timers/batch_time=0.0778 | _timers/data_time=0.0749 | _timers/model_time=0.0029 | loss=0.0173\n",
      "17/50 * Epoch 17 (valid): _base/lr=0.0001 | _base/momentum=0.9000 | _timers/_fps=4410.5041 | _timers/batch_time=0.0108 | _timers/data_time=0.0080 | _timers/model_time=0.0027 | loss=0.0181\n",
      "18/50 * Epoch (train): 100% 900/900 [01:45<00:00,  8.71it/s, _timers/_fps=211.305, loss=0.018]\n",
      "18/50 * Epoch (valid): 100% 338/338 [00:14<00:00, 23.16it/s, _timers/_fps=6892.150, loss=0.018]\n",
      "[2019-06-05 16:11:42,309] \n",
      "18/50 * Epoch 18 (train): _base/lr=0.0001 | _base/momentum=0.9000 | _timers/_fps=211.5952 | _timers/batch_time=0.0780 | _timers/data_time=0.0750 | _timers/model_time=0.0029 | loss=0.0170\n",
      "18/50 * Epoch 18 (valid): _base/lr=0.0001 | _base/momentum=0.9000 | _timers/_fps=4670.0708 | _timers/batch_time=0.0108 | _timers/data_time=0.0081 | _timers/model_time=0.0027 | loss=0.0181\n",
      "19/50 * Epoch (train): 100% 900/900 [01:45<00:00,  8.70it/s, _timers/_fps=210.078, loss=0.017]\n",
      "19/50 * Epoch (valid): 100% 338/338 [00:14<00:00, 22.87it/s, _timers/_fps=6672.851, loss=0.018]\n",
      "[2019-06-05 16:13:43,542] \n",
      "19/50 * Epoch 19 (train): _base/lr=0.0001 | _base/momentum=0.9000 | _timers/_fps=211.3484 | _timers/batch_time=0.0782 | _timers/data_time=0.0753 | _timers/model_time=0.0029 | loss=0.0166\n",
      "19/50 * Epoch 19 (valid): _base/lr=0.0001 | _base/momentum=0.9000 | _timers/_fps=4434.8678 | _timers/batch_time=0.0110 | _timers/data_time=0.0081 | _timers/model_time=0.0028 | loss=0.0182\n",
      "20/50 * Epoch (train): 100% 900/900 [01:45<00:00,  8.70it/s, _timers/_fps=211.596, loss=0.015]\n",
      "20/50 * Epoch (valid): 100% 338/338 [00:14<00:00, 22.58it/s, _timers/_fps=6519.855, loss=0.018]\n",
      "[2019-06-05 16:15:44,940] \n",
      "20/50 * Epoch 20 (train): _base/lr=0.0001 | _base/momentum=0.9000 | _timers/_fps=212.9115 | _timers/batch_time=0.0776 | _timers/data_time=0.0746 | _timers/model_time=0.0029 | loss=0.0162\n",
      "20/50 * Epoch 20 (valid): _base/lr=0.0001 | _base/momentum=0.9000 | _timers/_fps=4261.6159 | _timers/batch_time=0.0114 | _timers/data_time=0.0085 | _timers/model_time=0.0029 | loss=0.0186\n",
      "21/50 * Epoch (train): 100% 900/900 [01:45<00:00,  8.70it/s, _timers/_fps=210.173, loss=0.017]\n",
      "21/50 * Epoch (valid): 100% 338/338 [00:14<00:00, 22.97it/s, _timers/_fps=5801.752, loss=0.019]\n",
      "Early stop at 21 epoch\n",
      "[2019-06-05 16:17:46,106] \n",
      "21/50 * Epoch 21 (train): _base/lr=0.0001 | _base/momentum=0.9000 | _timers/_fps=213.7431 | _timers/batch_time=0.0774 | _timers/data_time=0.0744 | _timers/model_time=0.0029 | loss=0.0158\n",
      "21/50 * Epoch 21 (valid): _base/lr=0.0001 | _base/momentum=0.9000 | _timers/_fps=4457.7312 | _timers/batch_time=0.0107 | _timers/data_time=0.0078 | _timers/model_time=0.0028 | loss=0.0191\n",
      "Top best models:\n",
      "logs/segmentation_notebook_2019-06-05 15:33:13.528135/checkpoints//train.16.pth\t0.0180\n",
      "logs/segmentation_notebook_2019-06-05 15:33:13.528135/checkpoints//train.14.pth\t0.0181\n",
      "logs/segmentation_notebook_2019-06-05 15:33:13.528135/checkpoints//train.15.pth\t0.0181\n"
     ]
    }
   ],
   "source": [
    "# model training\n",
    "runner.train(\n",
    "    model=model,\n",
    "    criterion=criterion,\n",
    "    optimizer=optimizer,\n",
    "    loaders=loaders,\n",
    "    callbacks=[EarlyStoppingCallback(patience=5)],\n",
    "    logdir=logdir,\n",
    "    num_epochs=num_epochs,\n",
    "    verbose=True\n",
    ")"
   ]
  },
  {
   "cell_type": "code",
   "execution_count": null,
   "metadata": {},
   "outputs": [],
   "source": []
  }
 ],
 "metadata": {
  "kernelspec": {
   "display_name": "py37_geo",
   "language": "python",
   "name": "py37_geo"
  },
  "language_info": {
   "codemirror_mode": {
    "name": "ipython",
    "version": 3
   },
   "file_extension": ".py",
   "mimetype": "text/x-python",
   "name": "python",
   "nbconvert_exporter": "python",
   "pygments_lexer": "ipython3",
   "version": "3.7.3"
  }
 },
 "nbformat": 4,
 "nbformat_minor": 2
}
