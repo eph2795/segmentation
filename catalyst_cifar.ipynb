{
 "cells": [
  {
   "cell_type": "code",
   "execution_count": 1,
   "metadata": {},
   "outputs": [
    {
     "name": "stdout",
     "output_type": "stream",
     "text": [
      "Files already downloaded and verified\n",
      "Files already downloaded and verified\n"
     ]
    }
   ],
   "source": [
    "import collections\n",
    "import torch\n",
    "import torchvision\n",
    "import torchvision.transforms as transforms\n",
    "\n",
    "\n",
    "bs = 32\n",
    "num_workers = 4\n",
    "\n",
    "data_transform = transforms.Compose([\n",
    "    transforms.ToTensor(),\n",
    "    transforms.Normalize((0.5, 0.5, 0.5), (0.5, 0.5, 0.5))])\n",
    "\n",
    "\n",
    "loaders = collections.OrderedDict()\n",
    "\n",
    "trainset = torchvision.datasets.CIFAR10(\n",
    "    root='./data', train=True,\n",
    "    download=True, transform=data_transform)\n",
    "trainloader = torch.utils.data.DataLoader(\n",
    "    trainset, batch_size=bs,\n",
    "    shuffle=True, num_workers=num_workers)\n",
    "\n",
    "testset = torchvision.datasets.CIFAR10(\n",
    "    root='./data', train=False,\n",
    "    download=True, transform=data_transform)\n",
    "testloader = torch.utils.data.DataLoader(\n",
    "    testset, batch_size=bs,\n",
    "    shuffle=False, num_workers=num_workers)\n",
    "\n",
    "loaders[\"train\"] = trainloader\n",
    "loaders[\"valid\"] = testloader\n"
   ]
  },
  {
   "cell_type": "code",
   "execution_count": 2,
   "metadata": {},
   "outputs": [],
   "source": [
    "import os\n",
    "os.environ[\"CUDA_VISIBLE_DEVICES\"] = \"1\""
   ]
  },
  {
   "cell_type": "code",
   "execution_count": 3,
   "metadata": {},
   "outputs": [],
   "source": [
    "import torch\n",
    "import torch.nn as nn\n",
    "import torch.nn.functional as F\n",
    "\n",
    "class Net(nn.Module):\n",
    "    def __init__(self):\n",
    "        super(Net, self).__init__()\n",
    "        self.conv1 = nn.Conv2d(3, 6, 5)\n",
    "        self.pool = nn.MaxPool2d(2, 2)\n",
    "        self.conv2 = nn.Conv2d(6, 16, 5)\n",
    "        self.fc1 = nn.Linear(16 * 5 * 5, 120)\n",
    "        self.fc2 = nn.Linear(120, 84)\n",
    "        self.fc3 = nn.Linear(84, 10)\n",
    "\n",
    "    def forward(self, x):\n",
    "        x = self.pool(F.relu(self.conv1(x)))\n",
    "        x = self.pool(F.relu(self.conv2(x)))\n",
    "        x = x.view(-1, 16 * 5 * 5)\n",
    "        x = F.relu(self.fc1(x))\n",
    "        x = F.relu(self.fc2(x))\n",
    "        x = self.fc3(x)\n",
    "        return x"
   ]
  },
  {
   "cell_type": "code",
   "execution_count": 3,
   "metadata": {},
   "outputs": [],
   "source": [
    "for x, y in trainloader:\n",
    "    break"
   ]
  },
  {
   "cell_type": "code",
   "execution_count": 4,
   "metadata": {},
   "outputs": [
    {
     "data": {
      "text/plain": [
       "(torch.Tensor, torch.Size([32, 3, 32, 32]))"
      ]
     },
     "execution_count": 4,
     "metadata": {},
     "output_type": "execute_result"
    }
   ],
   "source": [
    "type(x), x.size()"
   ]
  },
  {
   "cell_type": "code",
   "execution_count": 5,
   "metadata": {},
   "outputs": [
    {
     "data": {
      "text/plain": [
       "(torch.Tensor, torch.Size([32]))"
      ]
     },
     "execution_count": 5,
     "metadata": {},
     "output_type": "execute_result"
    }
   ],
   "source": [
    "type(y), y.size()"
   ]
  },
  {
   "cell_type": "code",
   "execution_count": 6,
   "metadata": {},
   "outputs": [],
   "source": [
    "device = 'cuda:1'"
   ]
  },
  {
   "cell_type": "code",
   "execution_count": 8,
   "metadata": {},
   "outputs": [],
   "source": [
    "model = Net().to(device)\n",
    "criterion = nn.CrossEntropyLoss()\n",
    "optimizer = torch.optim.Adam(model.parameters())"
   ]
  },
  {
   "cell_type": "code",
   "execution_count": 9,
   "metadata": {},
   "outputs": [],
   "source": [
    "from tqdm import tqdm"
   ]
  },
  {
   "cell_type": "code",
   "execution_count": 10,
   "metadata": {},
   "outputs": [
    {
     "name": "stderr",
     "output_type": "stream",
     "text": [
      "100%|██████████| 1563/1563 [00:07<00:00, 221.37it/s]\n",
      "100%|██████████| 1563/1563 [00:07<00:00, 220.77it/s]\n",
      "100%|██████████| 1563/1563 [00:07<00:00, 222.79it/s]\n",
      "100%|██████████| 1563/1563 [00:06<00:00, 237.29it/s]\n",
      "100%|██████████| 1563/1563 [00:06<00:00, 228.22it/s]\n",
      "100%|██████████| 1563/1563 [00:06<00:00, 236.55it/s]\n",
      "100%|██████████| 1563/1563 [00:06<00:00, 251.02it/s]\n",
      "100%|██████████| 1563/1563 [00:06<00:00, 228.71it/s]\n",
      "100%|██████████| 1563/1563 [00:06<00:00, 226.85it/s]\n",
      "100%|██████████| 1563/1563 [00:06<00:00, 226.47it/s]\n"
     ]
    }
   ],
   "source": [
    "losses = []\n",
    "for i in range(10):\n",
    "    for x, y in tqdm(trainloader):\n",
    "        forward = model(x.to(device))\n",
    "        loss = criterion(forward, y.to(device))\n",
    "        optimizer.zero_grad()\n",
    "        loss.backward()\n",
    "        optimizer.step()\n",
    "        losses.append(loss.cpu().data.numpy())"
   ]
  },
  {
   "cell_type": "code",
   "execution_count": 11,
   "metadata": {},
   "outputs": [],
   "source": [
    "import matplotlib.pyplot as plt\n",
    "import numpy as np"
   ]
  },
  {
   "cell_type": "code",
   "execution_count": 12,
   "metadata": {},
   "outputs": [
    {
     "data": {
      "image/png": "[encoded data removed]",
      "text/plain": [
       "<Figure size 432x288 with 1 Axes>"
      ]
     },
     "metadata": {
      "needs_background": "light"
     },
     "output_type": "display_data"
    }
   ],
   "source": [
    "plt.plot(np.arange(len(losses)), losses)\n",
    "plt.show()"
   ]
  },
  {
   "cell_type": "code",
   "execution_count": null,
   "metadata": {},
   "outputs": [],
   "source": []
  },
  {
   "cell_type": "code",
   "execution_count": null,
   "metadata": {},
   "outputs": [],
   "source": []
  },
  {
   "cell_type": "code",
   "execution_count": 4,
   "metadata": {},
   "outputs": [],
   "source": [
    "from catalyst.dl.experiments import SupervisedRunner\n",
    "\n",
    "# experiment setup\n",
    "num_epochs = 10\n",
    "logdir = \"./logs/cifar_simple_notebook_1\"\n",
    "\n",
    "# model, criterion, optimizer\n",
    "model = Net()\n",
    "criterion = nn.CrossEntropyLoss()\n",
    "optimizer = torch.optim.Adam(model.parameters())\n",
    "\n",
    "# model runner\n",
    "runner = SupervisedRunner()"
   ]
  },
  {
   "cell_type": "code",
   "execution_count": 5,
   "metadata": {},
   "outputs": [
    {
     "name": "stdout",
     "output_type": "stream",
     "text": [
      "0/10 * Epoch (train): 100% 1563/1563 [00:10<00:00, 152.09it/s, _timers/_fps=5769.580, loss=1.244] \n",
      "0/10 * Epoch (valid): 100% 313/313 [00:01<00:00, 258.08it/s, _timers/_fps=24200.816, loss=1.265]\n",
      "[2019-05-31 10:46:06,809] \n",
      "0/10 * Epoch 0 (train): _base/lr=0.0010 | _base/momentum=0.9000 | _timers/_fps=12859.5752 | _timers/batch_time=0.0026 | _timers/data_time=0.0018 | _timers/model_time=0.0008 | loss=1.5828\n",
      "0/10 * Epoch 0 (valid): _base/lr=0.0010 | _base/momentum=0.9000 | _timers/_fps=14520.0132 | _timers/batch_time=0.0025 | _timers/data_time=0.0019 | _timers/model_time=0.0006 | loss=1.3471\n",
      "1/10 * Epoch (train): 100% 1563/1563 [00:10<00:00, 148.11it/s, _timers/_fps=12672.810, loss=1.373]\n",
      "1/10 * Epoch (valid): 100% 313/313 [00:01<00:00, 254.99it/s, _timers/_fps=14267.857, loss=1.172]\n",
      "[2019-05-31 10:46:18,643] \n",
      "1/10 * Epoch 1 (train): _base/lr=0.0010 | _base/momentum=0.9000 | _timers/_fps=12145.7063 | _timers/batch_time=0.0027 | _timers/data_time=0.0019 | _timers/model_time=0.0008 | loss=1.2771\n",
      "1/10 * Epoch 1 (valid): _base/lr=0.0010 | _base/momentum=0.9000 | _timers/_fps=14041.0876 | _timers/batch_time=0.0026 | _timers/data_time=0.0020 | _timers/model_time=0.0006 | loss=1.2077\n",
      "2/10 * Epoch (train): 100% 1563/1563 [00:10<00:00, 152.48it/s, _timers/_fps=13470.266, loss=1.014]\n",
      "2/10 * Epoch (valid): 100% 313/313 [00:01<00:00, 239.15it/s, _timers/_fps=22166.429, loss=1.177]\n",
      "[2019-05-31 10:46:30,212] \n",
      "2/10 * Epoch 2 (train): _base/lr=0.0010 | _base/momentum=0.9000 | _timers/_fps=12605.3609 | _timers/batch_time=0.0026 | _timers/data_time=0.0019 | _timers/model_time=0.0007 | loss=1.1505\n",
      "2/10 * Epoch 2 (valid): _base/lr=0.0010 | _base/momentum=0.9000 | _timers/_fps=13063.4619 | _timers/batch_time=0.0028 | _timers/data_time=0.0021 | _timers/model_time=0.0007 | loss=1.1518\n",
      "3/10 * Epoch (train): 100% 1563/1563 [00:10<00:00, 152.36it/s, _timers/_fps=14125.208, loss=1.275]\n",
      "3/10 * Epoch (valid): 100% 313/313 [00:01<00:00, 246.35it/s, _timers/_fps=23822.813, loss=1.448]\n",
      "[2019-05-31 10:46:41,751] \n",
      "3/10 * Epoch 3 (train): _base/lr=0.0010 | _base/momentum=0.9000 | _timers/_fps=12504.9322 | _timers/batch_time=0.0026 | _timers/data_time=0.0019 | _timers/model_time=0.0008 | loss=1.0667\n",
      "3/10 * Epoch 3 (valid): _base/lr=0.0010 | _base/momentum=0.9000 | _timers/_fps=13557.6824 | _timers/batch_time=0.0027 | _timers/data_time=0.0020 | _timers/model_time=0.0007 | loss=1.1648\n",
      "4/10 * Epoch (train): 100% 1563/1563 [00:10<00:00, 149.80it/s, _timers/_fps=14122.236, loss=0.887]\n",
      "4/10 * Epoch (valid): 100% 313/313 [00:01<00:00, 245.00it/s, _timers/_fps=23489.277, loss=0.958]\n",
      "[2019-05-31 10:46:53,472] \n",
      "4/10 * Epoch 4 (train): _base/lr=0.0010 | _base/momentum=0.9000 | _timers/_fps=12426.0975 | _timers/batch_time=0.0027 | _timers/data_time=0.0019 | _timers/model_time=0.0008 | loss=1.0005\n",
      "4/10 * Epoch 4 (valid): _base/lr=0.0010 | _base/momentum=0.9000 | _timers/_fps=13509.6579 | _timers/batch_time=0.0027 | _timers/data_time=0.0020 | _timers/model_time=0.0007 | loss=1.0935\n",
      "5/10 * Epoch (train): 100% 1563/1563 [00:10<00:00, 150.70it/s, _timers/_fps=12157.403, loss=1.085]\n",
      "5/10 * Epoch (valid): 100% 313/313 [00:01<00:00, 247.31it/s, _timers/_fps=25638.534, loss=0.979]\n",
      "[2019-05-31 10:47:05,119] \n",
      "5/10 * Epoch 5 (train): _base/lr=0.0010 | _base/momentum=0.9000 | _timers/_fps=12638.9381 | _timers/batch_time=0.0026 | _timers/data_time=0.0018 | _timers/model_time=0.0007 | loss=0.9439\n",
      "5/10 * Epoch 5 (valid): _base/lr=0.0010 | _base/momentum=0.9000 | _timers/_fps=13649.2907 | _timers/batch_time=0.0027 | _timers/data_time=0.0020 | _timers/model_time=0.0006 | loss=1.0519\n",
      "6/10 * Epoch (train): 100% 1563/1563 [00:10<00:00, 152.74it/s, _timers/_fps=15831.296, loss=0.795]\n",
      "6/10 * Epoch (valid): 100% 313/313 [00:01<00:00, 254.92it/s, _timers/_fps=15795.896, loss=1.076]\n",
      "[2019-05-31 10:47:16,590] \n",
      "6/10 * Epoch 6 (train): _base/lr=0.0010 | _base/momentum=0.9000 | _timers/_fps=12817.7464 | _timers/batch_time=0.0026 | _timers/data_time=0.0019 | _timers/model_time=0.0007 | loss=0.9005\n",
      "6/10 * Epoch 6 (valid): _base/lr=0.0010 | _base/momentum=0.9000 | _timers/_fps=14096.8063 | _timers/batch_time=0.0026 | _timers/data_time=0.0020 | _timers/model_time=0.0006 | loss=1.0542\n",
      "7/10 * Epoch (train): 100% 1563/1563 [00:10<00:00, 149.46it/s, _timers/_fps=12413.774, loss=1.217]\n",
      "7/10 * Epoch (valid): 100% 313/313 [00:01<00:00, 232.14it/s, _timers/_fps=13494.644, loss=1.019]\n",
      "[2019-05-31 10:47:28,406] \n",
      "7/10 * Epoch 7 (train): _base/lr=0.0010 | _base/momentum=0.9000 | _timers/_fps=12424.3868 | _timers/batch_time=0.0027 | _timers/data_time=0.0019 | _timers/model_time=0.0007 | loss=0.8598\n",
      "7/10 * Epoch 7 (valid): _base/lr=0.0010 | _base/momentum=0.9000 | _timers/_fps=12894.1679 | _timers/batch_time=0.0028 | _timers/data_time=0.0021 | _timers/model_time=0.0007 | loss=1.0463\n",
      "8/10 * Epoch (train): 100% 1563/1563 [00:09<00:00, 156.55it/s, _timers/_fps=12425.266, loss=0.909]\n",
      "8/10 * Epoch (valid): 100% 313/313 [00:01<00:00, 257.32it/s, _timers/_fps=15928.997, loss=0.912]\n",
      "[2019-05-31 10:47:39,616] \n",
      "8/10 * Epoch 8 (train): _base/lr=0.0010 | _base/momentum=0.9000 | _timers/_fps=13141.3496 | _timers/batch_time=0.0025 | _timers/data_time=0.0018 | _timers/model_time=0.0007 | loss=0.8241\n",
      "8/10 * Epoch 8 (valid): _base/lr=0.0010 | _base/momentum=0.9000 | _timers/_fps=14165.0244 | _timers/batch_time=0.0026 | _timers/data_time=0.0019 | _timers/model_time=0.0006 | loss=1.0200\n",
      "9/10 * Epoch (train): 100% 1563/1563 [00:10<00:00, 157.78it/s, _timers/_fps=13390.974, loss=0.555]\n",
      "9/10 * Epoch (valid): 100% 313/313 [00:01<00:00, 251.74it/s, _timers/_fps=23164.951, loss=1.366]\n",
      "[2019-05-31 10:47:51,156] \n",
      "9/10 * Epoch 9 (train): _base/lr=0.0010 | _base/momentum=0.9000 | _timers/_fps=12438.1057 | _timers/batch_time=0.0026 | _timers/data_time=0.0019 | _timers/model_time=0.0007 | loss=0.7879\n",
      "9/10 * Epoch 9 (valid): _base/lr=0.0010 | _base/momentum=0.9000 | _timers/_fps=13810.4917 | _timers/batch_time=0.0027 | _timers/data_time=0.0020 | _timers/model_time=0.0006 | loss=1.0797\n",
      "Top best models:\n",
      "logs/cifar_simple_notebook_1/checkpoints//train.8.pth\t1.0200\n",
      "logs/cifar_simple_notebook_1/checkpoints//train.7.pth\t1.0463\n",
      "logs/cifar_simple_notebook_1/checkpoints//train.5.pth\t1.0519\n"
     ]
    }
   ],
   "source": [
    "# model training\n",
    "runner.train(\n",
    "    model=model,\n",
    "    criterion=criterion,\n",
    "    optimizer=optimizer,\n",
    "    loaders=loaders,\n",
    "    logdir=logdir,\n",
    "    num_epochs=num_epochs,\n",
    "    verbose=True\n",
    ")"
   ]
  },
  {
   "cell_type": "code",
   "execution_count": null,
   "metadata": {},
   "outputs": [],
   "source": []
  },
  {
   "cell_type": "code",
   "execution_count": null,
   "metadata": {},
   "outputs": [],
   "source": []
  },
  {
   "cell_type": "code",
   "execution_count": null,
   "metadata": {},
   "outputs": [],
   "source": []
  },
  {
   "cell_type": "code",
   "execution_count": null,
   "metadata": {},
   "outputs": [],
   "source": []
  }
 ],
 "metadata": {
  "kernelspec": {
   "display_name": "py37_geo",
   "language": "python",
   "name": "py37_geo"
  },
  "language_info": {
   "codemirror_mode": {
    "name": "ipython",
    "version": 3
   },
   "file_extension": ".py",
   "mimetype": "text/x-python",
   "name": "python",
   "nbconvert_exporter": "python",
   "pygments_lexer": "ipython3",
   "version": "3.7.3"
  }
 },
 "nbformat": 4,
 "nbformat_minor": 2
}
