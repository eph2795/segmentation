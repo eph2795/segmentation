{
 "cells": [
  {
   "cell_type": "code",
   "execution_count": 1,
   "metadata": {},
   "outputs": [],
   "source": [
    "# %load_ext autoreload\n",
    "# %autoreload 2"
   ]
  },
  {
   "cell_type": "code",
   "execution_count": 2,
   "metadata": {},
   "outputs": [],
   "source": [
    "import sys\n",
    "sys.path.append('../..')"
   ]
  },
  {
   "cell_type": "code",
   "execution_count": 3,
   "metadata": {},
   "outputs": [],
   "source": [
    "from tqdm import tqdm\n",
    "import numpy as np\n",
    "import matplotlib.pyplot as plt"
   ]
  },
  {
   "cell_type": "code",
   "execution_count": 4,
   "metadata": {},
   "outputs": [],
   "source": [
    "from stack_segmentation.stack import Stack"
   ]
  },
  {
   "cell_type": "code",
   "execution_count": 5,
   "metadata": {},
   "outputs": [],
   "source": [
    "from stack_segmentation.aug_pipelines import medium_aug\n",
    "from stack_segmentation.io import make_dataloader, collate_fn_basic\n",
    "from stack_segmentation.training import handle_stacks_data, make_model, train_loop\n",
    "from stack_segmentation.unet import UNet\n",
    "from stack_segmentation.pipeline_config import dataloaders_conf, model_conf, train_conf, loss_config"
   ]
  },
  {
   "cell_type": "code",
   "execution_count": 6,
   "metadata": {},
   "outputs": [],
   "source": [
    "from exp_config import data_conf"
   ]
  },
  {
   "cell_type": "markdown",
   "metadata": {},
   "source": [
    "## Parameters to tune"
   ]
  },
  {
   "cell_type": "code",
   "execution_count": 7,
   "metadata": {},
   "outputs": [],
   "source": [
    "train_conf['device'] = 'cuda:1'\n",
    "model_conf['device'] = 'cuda:1'"
   ]
  },
  {
   "cell_type": "code",
   "execution_count": 8,
   "metadata": {
    "scrolled": true
   },
   "outputs": [
    {
     "data": {
      "text/plain": [
       "{'conf_name': 'basic_lr1e-2_epoch300_soft_aug_k_2',\n",
       " 'stacks': [{'path': '../../data/carb96558',\n",
       "   'slice_train': (slice(None, None, None),\n",
       "    slice(None, None, None),\n",
       "    slice(None, 230, None)),\n",
       "   'slice_val': (slice(None, None, None),\n",
       "    slice(None, None, None),\n",
       "    slice(250, 470, None))},\n",
       "  {'path': '../../data/SoilB-2',\n",
       "   'slice_train': (slice(None, None, None),\n",
       "    slice(None, None, None),\n",
       "    slice(None, 230, None)),\n",
       "   'slice_val': (slice(None, None, None),\n",
       "    slice(None, None, None),\n",
       "    slice(240, 460, None))},\n",
       "  {'path': '../../data/Urna_22',\n",
       "   'slice_train': (slice(None, None, None),\n",
       "    slice(None, None, None),\n",
       "    slice(None, 220, None)),\n",
       "   'slice_val': (slice(None, None, None),\n",
       "    slice(None, None, None),\n",
       "    slice(245, 455, None))},\n",
       "  {'path': '../../data/carb96558',\n",
       "   'slice_test': (slice(None, None, None),\n",
       "    slice(None, None, None),\n",
       "    slice(490, None, None))},\n",
       "  {'path': '../../data/carb71',\n",
       "   'slice_test': (slice(None, None, None),\n",
       "    slice(None, None, None),\n",
       "    slice(None, None, None))},\n",
       "  {'path': '../../data/carbRNF',\n",
       "   'slice_test': (slice(None, None, None),\n",
       "    slice(None, None, None),\n",
       "    slice(None, None, None))},\n",
       "  {'path': '../../data/SPE_carb10_58_box3',\n",
       "   'slice_test': (slice(None, None, None),\n",
       "    slice(None, None, None),\n",
       "    slice(None, None, None))},\n",
       "  {'path': '../../data/SoilAh-1',\n",
       "   'slice_test': (slice(None, None, None),\n",
       "    slice(None, None, None),\n",
       "    slice(None, None, None))},\n",
       "  {'path': '../../data/SoilB-2',\n",
       "   'slice_test': (slice(None, None, None),\n",
       "    slice(None, None, None),\n",
       "    slice(None, None, None))},\n",
       "  {'path': '../../data/TeTree_subset1',\n",
       "   'slice_test': (slice(None, None, None),\n",
       "    slice(None, None, None),\n",
       "    slice(None, None, None))},\n",
       "  {'path': '../../data/TiTree_subset2',\n",
       "   'slice_test': (slice(None, None, None),\n",
       "    slice(None, None, None),\n",
       "    slice(None, None, None))},\n",
       "  {'path': '../../data/Urna_22',\n",
       "   'slice_test': (slice(None, None, None),\n",
       "    slice(None, None, None),\n",
       "    slice(None, None, None))},\n",
       "  {'path': '../../data/Urna_30',\n",
       "   'slice_test': (slice(None, None, None),\n",
       "    slice(None, None, None),\n",
       "    slice(None, None, None))},\n",
       "  {'path': '../../data/Urna_34',\n",
       "   'slice_test': (slice(None, None, None),\n",
       "    slice(None, None, None),\n",
       "    slice(None, None, None))}],\n",
       " 'patches': {'train': (128, 128, 1),\n",
       "  'val': (128, 128, 1),\n",
       "  'test': (128, 128, 1)}}"
      ]
     },
     "execution_count": 8,
     "metadata": {},
     "output_type": "execute_result"
    }
   ],
   "source": [
    "data_conf['conf_name'] = 'basic_lr1e-2_epoch300_soft_aug_k_2'\n",
    "data_conf"
   ]
  },
  {
   "cell_type": "code",
   "execution_count": 9,
   "metadata": {
    "scrolled": true
   },
   "outputs": [
    {
     "data": {
      "text/plain": [
       "{'train': {'batch_size': 32,\n",
       "  'num_workers': 8,\n",
       "  'shuffle': True,\n",
       "  'augmentation_pipeline': Compose([\n",
       "    OneOf([\n",
       "      RandomSizedCrop(always_apply=False, p=0.5, min_max_height=(64, 128), height=128, width=128, w2h_ratio=1.0, interpolation=1),\n",
       "      PadIfNeeded(always_apply=False, p=0.5, min_height=128, min_width=128, border_mode=4, value=None, mask_value=None),\n",
       "    ], p=1),\n",
       "    VerticalFlip(always_apply=False, p=0.5),\n",
       "    HorizontalFlip(always_apply=False, p=0.5),\n",
       "    RandomRotate90(always_apply=False, p=0.5),\n",
       "    Transpose(always_apply=False, p=0.5),\n",
       "  ], p=1.0, bbox_params=None, keypoint_params=None, additional_targets={})},\n",
       " 'val': {'batch_size': 32,\n",
       "  'num_workers': 8,\n",
       "  'shuffle': False,\n",
       "  'augmentation_pipeline': None},\n",
       " 'test': {'batch_size': 32,\n",
       "  'num_workers': 8,\n",
       "  'shuffle': True,\n",
       "  'augmentation_pipeline': None}}"
      ]
     },
     "execution_count": 9,
     "metadata": {},
     "output_type": "execute_result"
    }
   ],
   "source": [
    "from stack_segmentation.aug_pipelines import soft_aug\n",
    "dataloaders_conf['train']['augmentation_pipeline'] = soft_aug(original_height=128, original_width=128, k=2)\n",
    "dataloaders_conf"
   ]
  },
  {
   "cell_type": "code",
   "execution_count": 10,
   "metadata": {},
   "outputs": [
    {
     "data": {
      "text/plain": [
       "{'num_epochs': 300, 'device': 'cuda:1'}"
      ]
     },
     "execution_count": 10,
     "metadata": {},
     "output_type": "execute_result"
    }
   ],
   "source": [
    "train_conf['num_epochs'] = 300\n",
    "train_conf"
   ]
  },
  {
   "cell_type": "code",
   "execution_count": 11,
   "metadata": {},
   "outputs": [
    {
     "data": {
      "text/plain": [
       "{'device': 'cuda:1',\n",
       " 'opt_type': 'SGD',\n",
       " 'lr': 0.01,\n",
       " 'weight_decay': 0.0001,\n",
       " 'amsgrad': False,\n",
       " 'nesterov': True,\n",
       " 'momentum': 0.9,\n",
       " 'centered': False,\n",
       " 'min_lr': 1e-06,\n",
       " 'factor': 0.5,\n",
       " 'patience': 5,\n",
       " 'weight': None}"
      ]
     },
     "execution_count": 11,
     "metadata": {},
     "output_type": "execute_result"
    }
   ],
   "source": [
    "model_conf['opt_type'] = 'SGD'\n",
    "model_conf['lr'] = 1e-2\n",
    "model_conf['weight'] = None\n",
    "model_conf['nesterov'] = True\n",
    "model_conf"
   ]
  },
  {
   "cell_type": "code",
   "execution_count": 12,
   "metadata": {},
   "outputs": [
    {
     "data": {
      "text/plain": [
       "[{'loss': 'BCE', 'weight': 1, 'params': {}}]"
      ]
     },
     "execution_count": 12,
     "metadata": {},
     "output_type": "execute_result"
    }
   ],
   "source": [
    "loss_config =[\n",
    "    {'loss': 'BCE', 'weight': 1, 'params': {}},\n",
    "]\n",
    "loss_config"
   ]
  },
  {
   "cell_type": "code",
   "execution_count": 13,
   "metadata": {},
   "outputs": [
    {
     "data": {
      "text/plain": [
       "{'train': (128, 128, 1), 'val': (128, 128, 1), 'test': (128, 128, 1)}"
      ]
     },
     "execution_count": 13,
     "metadata": {},
     "output_type": "execute_result"
    }
   ],
   "source": [
    "data_conf['patches']"
   ]
  },
  {
   "cell_type": "markdown",
   "metadata": {},
   "source": [
    "## Prepare train, validation and test data"
   ]
  },
  {
   "cell_type": "code",
   "execution_count": 14,
   "metadata": {
    "scrolled": false
   },
   "outputs": [
    {
     "name": "stderr",
     "output_type": "stream",
     "text": [
      "720it [00:03, 214.20it/s]\n",
      "100%|██████████| 720/720 [00:07<00:00, 95.13it/s] \n",
      "8280it [00:00, 100638.79it/s]\n",
      "7920it [00:00, 245213.94it/s]\n",
      "700it [00:03, 225.41it/s]\n",
      "100%|██████████| 700/700 [00:06<00:00, 101.55it/s]\n",
      "8280it [00:00, 241469.29it/s]\n",
      "7920it [00:00, 236655.70it/s]\n",
      "710it [00:03, 217.33it/s]\n",
      "100%|██████████| 710/710 [00:07<00:00, 97.89it/s] \n",
      "7920it [00:00, 249582.17it/s]\n",
      "7560it [00:00, 82209.27it/s]\n",
      "720it [00:00, 808.97it/s]\n",
      "100%|██████████| 720/720 [00:07<00:00, 95.07it/s] \n",
      "8280it [00:00, 239555.48it/s]\n",
      "720it [00:03, 227.13it/s]\n",
      "100%|██████████| 720/720 [00:07<00:00, 93.26it/s] \n",
      "25920it [00:00, 138475.07it/s]\n",
      "700it [00:03, 228.48it/s]\n",
      "100%|██████████| 700/700 [00:06<00:00, 102.16it/s]\n",
      "25200it [00:00, 231027.99it/s]\n",
      "509it [00:01, 379.43it/s]\n",
      "100%|██████████| 509/509 [00:02<00:00, 194.70it/s]\n",
      "8144it [00:00, 63573.48it/s]\n",
      "700it [00:03, 228.54it/s]\n",
      "100%|██████████| 700/700 [00:07<00:00, 98.70it/s] \n",
      "25200it [00:00, 224761.75it/s]\n",
      "700it [00:00, 838.79it/s]\n",
      "100%|██████████| 700/700 [00:07<00:00, 98.89it/s] \n",
      "25200it [00:00, 116031.25it/s]\n",
      "710it [00:04, 157.69it/s]\n",
      "100%|██████████| 710/710 [00:07<00:00, 96.74it/s] \n",
      "25560it [00:00, 219914.65it/s]\n",
      "710it [00:04, 157.01it/s]\n",
      "100%|██████████| 710/710 [00:07<00:00, 96.66it/s] \n",
      "25560it [00:00, 106587.77it/s]\n",
      "710it [00:00, 777.91it/s]\n",
      "100%|██████████| 710/710 [00:07<00:00, 96.62it/s] \n",
      "25560it [00:00, 234378.60it/s]\n",
      "710it [00:03, 214.94it/s]\n",
      "100%|██████████| 710/710 [00:07<00:00, 98.19it/s] \n",
      "25560it [00:00, 224742.90it/s]\n",
      "700it [00:03, 211.64it/s]\n",
      "100%|██████████| 700/700 [00:06<00:00, 100.60it/s]\n",
      "25200it [00:00, 229022.63it/s]\n"
     ]
    }
   ],
   "source": [
    "data_train, data_val, data_test = handle_stacks_data(**data_conf)"
   ]
  },
  {
   "cell_type": "code",
   "execution_count": 15,
   "metadata": {
    "scrolled": true
   },
   "outputs": [
    {
     "data": {
      "text/plain": [
       "(24480, 23400, 11)"
      ]
     },
     "execution_count": 15,
     "metadata": {},
     "output_type": "execute_result"
    }
   ],
   "source": [
    "len(data_train), len(data_val), len(data_test)"
   ]
  },
  {
   "cell_type": "code",
   "execution_count": 16,
   "metadata": {},
   "outputs": [],
   "source": [
    "dataloader_train = make_dataloader(\n",
    "    samples=data_train, \n",
    "    collate_fn=collate_fn_basic,\n",
    "    **dataloaders_conf['train']\n",
    ")\n",
    "\n",
    "dataloader_val = make_dataloader(\n",
    "    samples=data_val, \n",
    "    collate_fn=collate_fn_basic,\n",
    "    **dataloaders_conf['val']\n",
    ")\n",
    "\n",
    "dataloaders_test = {\n",
    "    name: make_dataloader(\n",
    "        samples=data, \n",
    "        collate_fn=collate_fn_basic,\n",
    "        **dataloaders_conf['test']\n",
    "    ) for name, data in data_test.items()}"
   ]
  },
  {
   "cell_type": "markdown",
   "metadata": {},
   "source": [
    "## Create model and metrics"
   ]
  },
  {
   "cell_type": "code",
   "execution_count": 17,
   "metadata": {},
   "outputs": [],
   "source": [
    "from stack_segmentation.metrics import accuracy, precision, recall, f1, pr_auc, iou"
   ]
  },
  {
   "cell_type": "code",
   "execution_count": 18,
   "metadata": {},
   "outputs": [],
   "source": [
    "metrics = {\n",
    "    'accuracy': accuracy, \n",
    "    'precision': precision, \n",
    "    'recall': recall, \n",
    "    'f1': f1,\n",
    "    'pr_auc': pr_auc, \n",
    "    'iou': iou,\n",
    "}"
   ]
  },
  {
   "cell_type": "code",
   "execution_count": 19,
   "metadata": {},
   "outputs": [],
   "source": [
    "device = 'cuda:1'"
   ]
  },
  {
   "cell_type": "code",
   "execution_count": 20,
   "metadata": {},
   "outputs": [],
   "source": [
    "model, criterion, optimizer, scheduler = make_model(loss_config=loss_config, **model_conf)"
   ]
  },
  {
   "cell_type": "markdown",
   "metadata": {},
   "source": [
    "## Run experiment"
   ]
  },
  {
   "cell_type": "code",
   "execution_count": 21,
   "metadata": {},
   "outputs": [
    {
     "name": "stderr",
     "output_type": "stream",
     "text": [
      "\r",
      "  0%|          | 0/765 [00:00<?, ?it/s]"
     ]
    },
    {
     "name": "stdout",
     "output_type": "stream",
     "text": [
      "Epoch 0...\n"
     ]
    },
    {
     "name": "stderr",
     "output_type": "stream",
     "text": [
      "100%|██████████| 765/765 [02:33<00:00,  4.98it/s]\n",
      "  0%|          | 0/732 [00:00<?, ?it/s]"
     ]
    },
    {
     "name": "stdout",
     "output_type": "stream",
     "text": [
      "Mean train loss: 0.0598\n"
     ]
    },
    {
     "name": "stderr",
     "output_type": "stream",
     "text": [
      "100%|██████████| 732/732 [00:52<00:00, 13.94it/s]\n"
     ]
    },
    {
     "name": "stdout",
     "output_type": "stream",
     "text": [
      "Mean val loss: 0.02915\n"
     ]
    },
    {
     "name": "stderr",
     "output_type": "stream",
     "text": [
      "\r",
      "  0%|          | 0/765 [00:00<?, ?it/s]"
     ]
    },
    {
     "name": "stdout",
     "output_type": "stream",
     "text": [
      "Epoch 1...\n"
     ]
    },
    {
     "name": "stderr",
     "output_type": "stream",
     "text": [
      "100%|██████████| 765/765 [02:34<00:00,  4.96it/s]\n",
      "  0%|          | 0/732 [00:00<?, ?it/s]"
     ]
    },
    {
     "name": "stdout",
     "output_type": "stream",
     "text": [
      "Mean train loss: 0.033043\n"
     ]
    },
    {
     "name": "stderr",
     "output_type": "stream",
     "text": [
      "100%|██████████| 732/732 [00:53<00:00, 13.75it/s]\n"
     ]
    },
    {
     "name": "stdout",
     "output_type": "stream",
     "text": [
      "Mean val loss: 0.022011\n"
     ]
    },
    {
     "name": "stderr",
     "output_type": "stream",
     "text": [
      "\r",
      "  0%|          | 0/765 [00:00<?, ?it/s]"
     ]
    },
    {
     "name": "stdout",
     "output_type": "stream",
     "text": [
      "Epoch 2...\n"
     ]
    },
    {
     "name": "stderr",
     "output_type": "stream",
     "text": [
      "100%|██████████| 765/765 [02:35<00:00,  4.93it/s]\n",
      "  0%|          | 0/732 [00:00<?, ?it/s]"
     ]
    },
    {
     "name": "stdout",
     "output_type": "stream",
     "text": [
      "Mean train loss: 0.031409\n"
     ]
    },
    {
     "name": "stderr",
     "output_type": "stream",
     "text": [
      "100%|██████████| 732/732 [00:52<00:00, 13.84it/s]\n",
      "  0%|          | 0/765 [00:00<?, ?it/s]"
     ]
    },
    {
     "name": "stdout",
     "output_type": "stream",
     "text": [
      "Mean val loss: 0.020671\n",
      "Epoch 3...\n"
     ]
    },
    {
     "name": "stderr",
     "output_type": "stream",
     "text": [
      "100%|██████████| 765/765 [02:34<00:00,  4.96it/s]\n",
      "  0%|          | 0/732 [00:00<?, ?it/s]"
     ]
    },
    {
     "name": "stdout",
     "output_type": "stream",
     "text": [
      "Mean train loss: 0.031083\n"
     ]
    },
    {
     "name": "stderr",
     "output_type": "stream",
     "text": [
      "100%|██████████| 732/732 [00:52<00:00, 13.87it/s]\n",
      "  0%|          | 0/765 [00:00<?, ?it/s]"
     ]
    },
    {
     "name": "stdout",
     "output_type": "stream",
     "text": [
      "Mean val loss: 0.019985\n",
      "Epoch 4...\n"
     ]
    },
    {
     "name": "stderr",
     "output_type": "stream",
     "text": [
      "100%|██████████| 765/765 [02:34<00:00,  4.96it/s]\n",
      "  0%|          | 0/732 [00:00<?, ?it/s]"
     ]
    },
    {
     "name": "stdout",
     "output_type": "stream",
     "text": [
      "Mean train loss: 0.03074\n"
     ]
    },
    {
     "name": "stderr",
     "output_type": "stream",
     "text": [
      "100%|██████████| 732/732 [00:52<00:00, 13.88it/s]\n"
     ]
    },
    {
     "name": "stdout",
     "output_type": "stream",
     "text": [
      "Mean val loss: 0.01995\n"
     ]
    },
    {
     "name": "stderr",
     "output_type": "stream",
     "text": [
      "\r",
      "  0%|          | 0/765 [00:00<?, ?it/s]"
     ]
    },
    {
     "name": "stdout",
     "output_type": "stream",
     "text": [
      "Epoch 5...\n"
     ]
    },
    {
     "name": "stderr",
     "output_type": "stream",
     "text": [
      "100%|██████████| 732/732 [00:52<00:00, 13.87it/s]\n",
      "  0%|          | 0/765 [00:00<?, ?it/s]"
     ]
    },
    {
     "name": "stdout",
     "output_type": "stream",
     "text": [
      "Mean val loss: 0.019554\n",
      "Epoch 6...\n"
     ]
    },
    {
     "name": "stderr",
     "output_type": "stream",
     "text": [
      "100%|██████████| 765/765 [02:34<00:00,  4.95it/s]\n",
      "  0%|          | 0/732 [00:00<?, ?it/s]"
     ]
    },
    {
     "name": "stdout",
     "output_type": "stream",
     "text": [
      "Mean train loss: 0.030145\n"
     ]
    },
    {
     "name": "stderr",
     "output_type": "stream",
     "text": [
      "100%|██████████| 732/732 [00:52<00:00, 13.82it/s]\n",
      "  0%|          | 0/765 [00:00<?, ?it/s]"
     ]
    },
    {
     "name": "stdout",
     "output_type": "stream",
     "text": [
      "Mean val loss: 0.0198\n",
      "EarlyStopping counter: 1 out of 10\n",
      "Epoch 7...\n"
     ]
    },
    {
     "name": "stderr",
     "output_type": "stream",
     "text": [
      "100%|██████████| 765/765 [02:34<00:00,  4.95it/s]\n",
      "  0%|          | 0/732 [00:00<?, ?it/s]"
     ]
    },
    {
     "name": "stdout",
     "output_type": "stream",
     "text": [
      "Mean train loss: 0.029916\n"
     ]
    },
    {
     "name": "stderr",
     "output_type": "stream",
     "text": [
      "100%|██████████| 732/732 [00:52<00:00, 13.84it/s]\n"
     ]
    },
    {
     "name": "stdout",
     "output_type": "stream",
     "text": [
      "Mean val loss: 0.019084\n",
      "Epoch 8...\n"
     ]
    },
    {
     "name": "stderr",
     "output_type": "stream",
     "text": [
      " 75%|███████▍  | 572/765 [01:55<00:39,  4.95it/s]IOPub message rate exceeded.\n",
      "The notebook server will temporarily stop sending output\n",
      "to the client in order to avoid crashing it.\n",
      "To change this limit, set the config variable\n",
      "`--NotebookApp.iopub_msg_rate_limit`.\n",
      "\n",
      "Current values:\n",
      "NotebookApp.iopub_msg_rate_limit=1000.0 (msgs/sec)\n",
      "NotebookApp.rate_limit_window=3.0 (secs)\n",
      "\n",
      "100%|██████████| 765/765 [02:34<00:00,  4.94it/s]\n",
      "  0%|          | 0/732 [00:00<?, ?it/s]"
     ]
    },
    {
     "name": "stdout",
     "output_type": "stream",
     "text": [
      "Mean train loss: 0.029241\n"
     ]
    },
    {
     "name": "stderr",
     "output_type": "stream",
     "text": [
      "100%|██████████| 732/732 [00:52<00:00, 13.86it/s]\n",
      "  0%|          | 0/765 [00:00<?, ?it/s]"
     ]
    },
    {
     "name": "stdout",
     "output_type": "stream",
     "text": [
      "Mean val loss: 0.017937\n",
      "Epoch 16...\n"
     ]
    },
    {
     "name": "stderr",
     "output_type": "stream",
     "text": [
      "100%|██████████| 765/765 [02:34<00:00,  4.95it/s]\n",
      "  0%|          | 0/732 [00:00<?, ?it/s]"
     ]
    },
    {
     "name": "stdout",
     "output_type": "stream",
     "text": [
      "Mean train loss: 0.029405\n"
     ]
    },
    {
     "name": "stderr",
     "output_type": "stream",
     "text": [
      "100%|██████████| 732/732 [00:52<00:00, 13.87it/s]\n",
      "  0%|          | 0/765 [00:00<?, ?it/s]"
     ]
    },
    {
     "name": "stdout",
     "output_type": "stream",
     "text": [
      "Mean val loss: 0.018477\n",
      "EarlyStopping counter: 1 out of 10\n",
      "Epoch 17...\n"
     ]
    },
    {
     "name": "stderr",
     "output_type": "stream",
     "text": [
      "100%|██████████| 765/765 [02:34<00:00,  4.95it/s]\n",
      "  0%|          | 0/732 [00:00<?, ?it/s]"
     ]
    },
    {
     "name": "stdout",
     "output_type": "stream",
     "text": [
      "Mean train loss: 0.029217\n"
     ]
    },
    {
     "name": "stderr",
     "output_type": "stream",
     "text": [
      " 38%|███▊      | 275/732 [00:20<00:32, 14.06it/s]IOPub message rate exceeded.\n",
      "The notebook server will temporarily stop sending output\n",
      "to the client in order to avoid crashing it.\n",
      "To change this limit, set the config variable\n",
      "`--NotebookApp.iopub_msg_rate_limit`.\n",
      "\n",
      "Current values:\n",
      "NotebookApp.iopub_msg_rate_limit=1000.0 (msgs/sec)\n",
      "NotebookApp.rate_limit_window=3.0 (secs)\n",
      "\n",
      "100%|██████████| 765/765 [02:34<00:00,  4.95it/s]\n",
      "  0%|          | 0/732 [00:00<?, ?it/s]"
     ]
    },
    {
     "name": "stdout",
     "output_type": "stream",
     "text": [
      "Mean train loss: 0.028626\n"
     ]
    },
    {
     "name": "stderr",
     "output_type": "stream",
     "text": [
      "100%|██████████| 732/732 [00:52<00:00, 13.86it/s]\n",
      "  0%|          | 0/765 [00:00<?, ?it/s]"
     ]
    },
    {
     "name": "stdout",
     "output_type": "stream",
     "text": [
      "Mean val loss: 0.01728\n",
      "EarlyStopping counter: 1 out of 10\n",
      "Epoch 25...\n"
     ]
    },
    {
     "name": "stderr",
     "output_type": "stream",
     "text": [
      "100%|██████████| 765/765 [02:34<00:00,  4.95it/s]\n",
      "  0%|          | 0/732 [00:00<?, ?it/s]"
     ]
    },
    {
     "name": "stdout",
     "output_type": "stream",
     "text": [
      "Mean train loss: 0.028705\n"
     ]
    },
    {
     "name": "stderr",
     "output_type": "stream",
     "text": [
      "100%|██████████| 732/732 [00:52<00:00, 13.87it/s]\n",
      "  0%|          | 0/765 [00:00<?, ?it/s]"
     ]
    },
    {
     "name": "stdout",
     "output_type": "stream",
     "text": [
      "Mean val loss: 0.017551\n",
      "EarlyStopping counter: 2 out of 10\n",
      "Epoch 26...\n"
     ]
    },
    {
     "name": "stderr",
     "output_type": "stream",
     "text": [
      "100%|██████████| 765/765 [02:34<00:00,  4.95it/s]\n",
      "  0%|          | 0/732 [00:00<?, ?it/s]"
     ]
    },
    {
     "name": "stdout",
     "output_type": "stream",
     "text": [
      "Mean train loss: 0.028489\n"
     ]
    },
    {
     "name": "stderr",
     "output_type": "stream",
     "text": [
      " 98%|█████████▊| 721/732 [00:51<00:00, 13.99it/s]IOPub message rate exceeded.\n",
      "The notebook server will temporarily stop sending output\n",
      "to the client in order to avoid crashing it.\n",
      "To change this limit, set the config variable\n",
      "`--NotebookApp.iopub_msg_rate_limit`.\n",
      "\n",
      "Current values:\n",
      "NotebookApp.iopub_msg_rate_limit=1000.0 (msgs/sec)\n",
      "NotebookApp.rate_limit_window=3.0 (secs)\n",
      "\n",
      "100%|██████████| 765/765 [02:34<00:00,  4.95it/s]\n",
      "  0%|          | 0/732 [00:00<?, ?it/s]"
     ]
    },
    {
     "name": "stdout",
     "output_type": "stream",
     "text": [
      "Mean train loss: 0.028103\n"
     ]
    },
    {
     "name": "stderr",
     "output_type": "stream",
     "text": [
      "100%|██████████| 732/732 [00:52<00:00, 13.85it/s]\n",
      "  0%|          | 0/765 [00:00<?, ?it/s]"
     ]
    },
    {
     "name": "stdout",
     "output_type": "stream",
     "text": [
      "Mean val loss: 0.017297\n",
      "EarlyStopping counter: 1 out of 10\n",
      "Epoch 34...\n"
     ]
    },
    {
     "name": "stderr",
     "output_type": "stream",
     "text": [
      "100%|██████████| 765/765 [02:34<00:00,  4.95it/s]\n",
      "  0%|          | 0/732 [00:00<?, ?it/s]"
     ]
    },
    {
     "name": "stdout",
     "output_type": "stream",
     "text": [
      "Mean train loss: 0.028116\n"
     ]
    },
    {
     "name": "stderr",
     "output_type": "stream",
     "text": [
      "100%|██████████| 732/732 [00:52<00:00, 13.86it/s]\n",
      "  0%|          | 0/765 [00:00<?, ?it/s]"
     ]
    },
    {
     "name": "stdout",
     "output_type": "stream",
     "text": [
      "Mean val loss: 0.017431\n",
      "EarlyStopping counter: 2 out of 10\n",
      "Epoch 35...\n"
     ]
    },
    {
     "name": "stderr",
     "output_type": "stream",
     "text": [
      "100%|██████████| 765/765 [02:34<00:00,  4.95it/s]\n",
      "  0%|          | 0/732 [00:00<?, ?it/s]"
     ]
    },
    {
     "name": "stdout",
     "output_type": "stream",
     "text": [
      "Mean train loss: 0.028008\n"
     ]
    },
    {
     "name": "stderr",
     "output_type": "stream",
     "text": [
      "100%|██████████| 732/732 [00:52<00:00, 13.84it/s]\n",
      "  0%|          | 0/765 [00:00<?, ?it/s]"
     ]
    },
    {
     "name": "stdout",
     "output_type": "stream",
     "text": [
      "Mean val loss: 0.016821\n",
      "EarlyStopping counter: 3 out of 10\n",
      "Epoch 36...\n"
     ]
    },
    {
     "name": "stderr",
     "output_type": "stream",
     "text": [
      " 22%|██▏       | 166/765 [00:33<02:00,  4.97it/s]IOPub message rate exceeded.\n",
      "The notebook server will temporarily stop sending output\n",
      "to the client in order to avoid crashing it.\n",
      "To change this limit, set the config variable\n",
      "`--NotebookApp.iopub_msg_rate_limit`.\n",
      "\n",
      "Current values:\n",
      "NotebookApp.iopub_msg_rate_limit=1000.0 (msgs/sec)\n",
      "NotebookApp.rate_limit_window=3.0 (secs)\n",
      "\n",
      "100%|██████████| 765/765 [02:34<00:00,  4.95it/s]\n",
      "  0%|          | 0/732 [00:00<?, ?it/s]"
     ]
    },
    {
     "name": "stdout",
     "output_type": "stream",
     "text": [
      "Mean train loss: 0.027797\n"
     ]
    },
    {
     "name": "stderr",
     "output_type": "stream",
     "text": [
      "100%|██████████| 732/732 [00:52<00:00, 13.87it/s]\n",
      "  0%|          | 0/765 [00:00<?, ?it/s]"
     ]
    },
    {
     "name": "stdout",
     "output_type": "stream",
     "text": [
      "Mean val loss: 0.017188\n",
      "EarlyStopping counter: 4 out of 10\n",
      "Epoch 44...\n"
     ]
    },
    {
     "name": "stderr",
     "output_type": "stream",
     "text": [
      "100%|██████████| 765/765 [02:34<00:00,  4.95it/s]\n",
      "  0%|          | 0/732 [00:00<?, ?it/s]"
     ]
    },
    {
     "name": "stdout",
     "output_type": "stream",
     "text": [
      "Mean train loss: 0.027666\n"
     ]
    },
    {
     "name": "stderr",
     "output_type": "stream",
     "text": [
      "100%|██████████| 732/732 [00:52<00:00, 13.86it/s]\n",
      "  0%|          | 0/765 [00:00<?, ?it/s]"
     ]
    },
    {
     "name": "stdout",
     "output_type": "stream",
     "text": [
      "Mean val loss: 0.016725\n",
      "EarlyStopping counter: 5 out of 10\n",
      "Epoch 45...\n"
     ]
    },
    {
     "name": "stderr",
     "output_type": "stream",
     "text": [
      "100%|██████████| 765/765 [02:34<00:00,  4.95it/s]\n",
      "  0%|          | 0/732 [00:00<?, ?it/s]"
     ]
    },
    {
     "name": "stdout",
     "output_type": "stream",
     "text": [
      "Mean train loss: 0.027634\n"
     ]
    },
    {
     "name": "stderr",
     "output_type": "stream",
     "text": [
      " 33%|███▎      | 245/732 [00:18<00:34, 13.95it/s]IOPub message rate exceeded.\n",
      "The notebook server will temporarily stop sending output\n",
      "to the client in order to avoid crashing it.\n",
      "To change this limit, set the config variable\n",
      "`--NotebookApp.iopub_msg_rate_limit`.\n",
      "\n",
      "Current values:\n",
      "NotebookApp.iopub_msg_rate_limit=1000.0 (msgs/sec)\n",
      "NotebookApp.rate_limit_window=3.0 (secs)\n",
      "\n",
      "100%|██████████| 765/765 [02:34<00:00,  4.95it/s]\n",
      "  0%|          | 0/732 [00:00<?, ?it/s]"
     ]
    },
    {
     "name": "stdout",
     "output_type": "stream",
     "text": [
      "Mean train loss: 0.027441\n"
     ]
    },
    {
     "name": "stderr",
     "output_type": "stream",
     "text": [
      "100%|██████████| 732/732 [00:52<00:00, 13.88it/s]\n",
      "  0%|          | 0/765 [00:00<?, ?it/s]"
     ]
    },
    {
     "name": "stdout",
     "output_type": "stream",
     "text": [
      "Mean val loss: 0.01561\n",
      "Epoch 53...\n"
     ]
    },
    {
     "name": "stderr",
     "output_type": "stream",
     "text": [
      "100%|██████████| 765/765 [02:34<00:00,  4.95it/s]\n",
      "  0%|          | 0/732 [00:00<?, ?it/s]"
     ]
    },
    {
     "name": "stdout",
     "output_type": "stream",
     "text": [
      "Mean train loss: 0.027662\n"
     ]
    },
    {
     "name": "stderr",
     "output_type": "stream",
     "text": [
      "100%|██████████| 732/732 [00:52<00:00, 13.87it/s]\n",
      "  0%|          | 0/765 [00:00<?, ?it/s]"
     ]
    },
    {
     "name": "stdout",
     "output_type": "stream",
     "text": [
      "Mean val loss: 0.016357\n",
      "EarlyStopping counter: 1 out of 10\n",
      "Epoch 54...\n"
     ]
    },
    {
     "name": "stderr",
     "output_type": "stream",
     "text": [
      "100%|██████████| 765/765 [02:34<00:00,  4.95it/s]\n",
      "  0%|          | 0/732 [00:00<?, ?it/s]"
     ]
    },
    {
     "name": "stdout",
     "output_type": "stream",
     "text": [
      "Mean train loss: 0.027624\n"
     ]
    },
    {
     "name": "stderr",
     "output_type": "stream",
     "text": [
      " 51%|█████     | 373/732 [00:27<00:25, 14.06it/s]IOPub message rate exceeded.\n",
      "The notebook server will temporarily stop sending output\n",
      "to the client in order to avoid crashing it.\n",
      "To change this limit, set the config variable\n",
      "`--NotebookApp.iopub_msg_rate_limit`.\n",
      "\n",
      "Current values:\n",
      "NotebookApp.iopub_msg_rate_limit=1000.0 (msgs/sec)\n",
      "NotebookApp.rate_limit_window=3.0 (secs)\n",
      "\n",
      "100%|██████████| 732/732 [00:52<00:00, 13.87it/s]\n",
      "  0%|          | 0/765 [00:00<?, ?it/s]"
     ]
    },
    {
     "name": "stdout",
     "output_type": "stream",
     "text": [
      "Mean val loss: 0.016247\n",
      "EarlyStopping counter: 9 out of 10\n",
      "Epoch 62...\n"
     ]
    },
    {
     "name": "stderr",
     "output_type": "stream",
     "text": [
      "100%|██████████| 765/765 [02:34<00:00,  4.95it/s]\n",
      "  0%|          | 0/732 [00:00<?, ?it/s]"
     ]
    },
    {
     "name": "stdout",
     "output_type": "stream",
     "text": [
      "Mean train loss: 0.027111\n"
     ]
    },
    {
     "name": "stderr",
     "output_type": "stream",
     "text": [
      "100%|██████████| 732/732 [00:52<00:00, 13.88it/s]\n",
      "  0%|          | 0/259 [00:00<?, ?it/s]"
     ]
    },
    {
     "name": "stdout",
     "output_type": "stream",
     "text": [
      "Mean val loss: 0.01619\n",
      "EarlyStopping counter: 10 out of 10\n"
     ]
    },
    {
     "name": "stderr",
     "output_type": "stream",
     "text": [
      "100%|██████████| 259/259 [02:46<00:00,  1.56it/s]\n",
      "100%|██████████| 810/810 [08:52<00:00,  1.52it/s]\n",
      " 77%|███████▋  | 607/788 [06:49<02:01,  1.49it/s]IOPub message rate exceeded.\n",
      "The notebook server will temporarily stop sending output\n",
      "to the client in order to avoid crashing it.\n",
      "To change this limit, set the config variable\n",
      "`--NotebookApp.iopub_msg_rate_limit`.\n",
      "\n",
      "Current values:\n",
      "NotebookApp.iopub_msg_rate_limit=1000.0 (msgs/sec)\n",
      "NotebookApp.rate_limit_window=3.0 (secs)\n",
      "\n"
     ]
    }
   ],
   "source": [
    "results = train_loop(\n",
    "    model=model,\n",
    "    dataloader_train=dataloader_train, \n",
    "    dataloader_val=dataloader_val,\n",
    "    dataloaders_test=dataloaders_test,\n",
    "    criterion=criterion, \n",
    "    optimizer=optimizer, \n",
    "    scheduler=scheduler,\n",
    "    metrics=metrics,\n",
    "    exp_name=data_conf['conf_name'],\n",
    "    **train_conf)"
   ]
  },
  {
   "cell_type": "markdown",
   "metadata": {},
   "source": [
    "## Dump experiment results"
   ]
  },
  {
   "cell_type": "code",
   "execution_count": 37,
   "metadata": {},
   "outputs": [],
   "source": [
    "import pickle\n",
    "import json"
   ]
  },
  {
   "cell_type": "code",
   "execution_count": 35,
   "metadata": {},
   "outputs": [],
   "source": [
    "p = './{}_exp_results.pkl'.format(data_conf['conf_name'])\n",
    "with open(p, 'wb') as f:\n",
    "    pickle.dump(results, f)"
   ]
  },
  {
   "cell_type": "code",
   "execution_count": 24,
   "metadata": {},
   "outputs": [],
   "source": [
    "# p = './{}_exp_results.pkl'.format(data_conf['conf_name'])\n",
    "# with open(p, 'rb') as f:\n",
    "#     results = pickle.load(f)"
   ]
  },
  {
   "cell_type": "code",
   "execution_count": 11,
   "metadata": {},
   "outputs": [
    {
     "data": {
      "text/plain": [
       "IncompatibleKeys(missing_keys=[], unexpected_keys=[])"
      ]
     },
     "execution_count": 11,
     "metadata": {},
     "output_type": "execute_result"
    }
   ],
   "source": [
    "import torch\n",
    "model.load_state_dict(torch.load('./{}.pt'.format(data_conf['conf_name'])))"
   ]
  },
  {
   "cell_type": "markdown",
   "metadata": {},
   "source": [
    "## Train and validation losses"
   ]
  },
  {
   "cell_type": "code",
   "execution_count": 36,
   "metadata": {},
   "outputs": [],
   "source": [
    "from itertools import chain"
   ]
  },
  {
   "cell_type": "code",
   "execution_count": 26,
   "metadata": {},
   "outputs": [],
   "source": [
    "train_losses = list(chain(*[item for item in results['train_losses']]))\n",
    "val_losses = list(chain(*[item for item in results['val_losses']]))"
   ]
  },
  {
   "cell_type": "code",
   "execution_count": 27,
   "metadata": {},
   "outputs": [],
   "source": [
    "def moving_average(a, n=5) :\n",
    "    ret = np.cumsum([a[0]] * (n - 1) + a, dtype=float)\n",
    "    ret[n:] = ret[n:] - ret[:-n]\n",
    "    return ret[n - 1:] / n"
   ]
  },
  {
   "cell_type": "code",
   "execution_count": 28,
   "metadata": {},
   "outputs": [
    {
     "data": {
      "image/png": "[encoded data removed]",
      "text/plain": [
       "<Figure size 720x720 with 1 Axes>"
      ]
     },
     "metadata": {
      "needs_background": "light"
     },
     "output_type": "display_data"
    }
   ],
   "source": [
    "plt.figure(figsize=(10, 10))\n",
    "plt.title('Moving-averaged batch losses')\n",
    "plt.plot(np.arange(len(train_losses)), moving_average(train_losses), label='train')\n",
    "plt.plot(np.arange(len(val_losses)), moving_average(val_losses), label='validation')\n",
    "\n",
    "plt.legend(loc='best')\n",
    "plt.yscale('log')\n",
    "\n",
    "# plt.ylim([1e-2, 1])\n",
    "plt.show()"
   ]
  },
  {
   "cell_type": "code",
   "execution_count": 29,
   "metadata": {
    "scrolled": true
   },
   "outputs": [],
   "source": [
    "mean_train_loss = [np.mean(item) for item in results['train_losses']]\n",
    "mean_val_loss = [np.mean(item) for item in results['val_losses']]"
   ]
  },
  {
   "cell_type": "code",
   "execution_count": 30,
   "metadata": {},
   "outputs": [
    {
     "data": {
      "image/png": "[encoded data removed]",
      "text/plain": [
       "<Figure size 720x720 with 1 Axes>"
      ]
     },
     "metadata": {
      "needs_background": "light"
     },
     "output_type": "display_data"
    }
   ],
   "source": [
    "plt.figure(figsize=(10, 10))\n",
    "plt.title('Epoch losses')\n",
    "plt.plot(np.arange(len(mean_train_loss)) + 1, mean_train_loss, label='train')\n",
    "plt.plot(np.arange(len(mean_val_loss)) + 1, mean_val_loss, label='val')\n",
    "\n",
    "plt.yscale('log')\n",
    "plt.legend(loc='best')\n",
    "\n",
    "plt.xlim([1, len(mean_train_loss) + 1])\n",
    "plt.show()"
   ]
  },
  {
   "cell_type": "markdown",
   "metadata": {},
   "source": [
    "## Results"
   ]
  },
  {
   "cell_type": "code",
   "execution_count": 31,
   "metadata": {},
   "outputs": [],
   "source": [
    "import pandas as pd"
   ]
  },
  {
   "cell_type": "code",
   "execution_count": 32,
   "metadata": {},
   "outputs": [],
   "source": [
    "from visualization_utils import make_df"
   ]
  },
  {
   "cell_type": "code",
   "execution_count": 33,
   "metadata": {},
   "outputs": [
    {
     "data": {
      "text/html": [
       "<div>\n",
       "<style scoped>\n",
       "    .dataframe tbody tr th:only-of-type {\n",
       "        vertical-align: middle;\n",
       "    }\n",
       "\n",
       "    .dataframe tbody tr th {\n",
       "        vertical-align: top;\n",
       "    }\n",
       "\n",
       "    .dataframe thead th {\n",
       "        text-align: right;\n",
       "    }\n",
       "</style>\n",
       "<table border=\"1\" class=\"dataframe\">\n",
       "  <thead>\n",
       "    <tr style=\"text-align: right;\">\n",
       "      <th></th>\n",
       "      <th>accuracy</th>\n",
       "      <th>precision</th>\n",
       "      <th>recall</th>\n",
       "      <th>f1</th>\n",
       "      <th>pr_auc</th>\n",
       "      <th>iou</th>\n",
       "      <th>stack</th>\n",
       "      <th>model</th>\n",
       "    </tr>\n",
       "  </thead>\n",
       "  <tbody>\n",
       "    <tr>\n",
       "      <th>0</th>\n",
       "      <td>0.996010</td>\n",
       "      <td>0.965395</td>\n",
       "      <td>0.984354</td>\n",
       "      <td>0.974783</td>\n",
       "      <td>0.998108</td>\n",
       "      <td>0.950806</td>\n",
       "      <td>carb96558</td>\n",
       "      <td>basic</td>\n",
       "    </tr>\n",
       "    <tr>\n",
       "      <th>1</th>\n",
       "      <td>0.988377</td>\n",
       "      <td>0.927443</td>\n",
       "      <td>0.983134</td>\n",
       "      <td>0.954477</td>\n",
       "      <td>0.994126</td>\n",
       "      <td>0.912918</td>\n",
       "      <td>carb71</td>\n",
       "      <td>basic</td>\n",
       "    </tr>\n",
       "    <tr>\n",
       "      <th>2</th>\n",
       "      <td>0.971275</td>\n",
       "      <td>0.996194</td>\n",
       "      <td>0.767893</td>\n",
       "      <td>0.867271</td>\n",
       "      <td>0.988616</td>\n",
       "      <td>0.765647</td>\n",
       "      <td>carbRNF</td>\n",
       "      <td>basic</td>\n",
       "    </tr>\n",
       "    <tr>\n",
       "      <th>3</th>\n",
       "      <td>0.990021</td>\n",
       "      <td>0.997339</td>\n",
       "      <td>0.913862</td>\n",
       "      <td>0.953778</td>\n",
       "      <td>0.997149</td>\n",
       "      <td>0.911640</td>\n",
       "      <td>SPE_carb10_58_box3</td>\n",
       "      <td>basic</td>\n",
       "    </tr>\n",
       "    <tr>\n",
       "      <th>4</th>\n",
       "      <td>0.992481</td>\n",
       "      <td>0.988382</td>\n",
       "      <td>0.931597</td>\n",
       "      <td>0.959149</td>\n",
       "      <td>0.995531</td>\n",
       "      <td>0.921505</td>\n",
       "      <td>SoilAh-1</td>\n",
       "      <td>basic</td>\n",
       "    </tr>\n",
       "    <tr>\n",
       "      <th>5</th>\n",
       "      <td>0.996407</td>\n",
       "      <td>0.967269</td>\n",
       "      <td>0.970103</td>\n",
       "      <td>0.968684</td>\n",
       "      <td>0.996783</td>\n",
       "      <td>0.939269</td>\n",
       "      <td>SoilB-2</td>\n",
       "      <td>basic</td>\n",
       "    </tr>\n",
       "    <tr>\n",
       "      <th>6</th>\n",
       "      <td>0.989126</td>\n",
       "      <td>0.995724</td>\n",
       "      <td>0.912821</td>\n",
       "      <td>0.952472</td>\n",
       "      <td>0.996852</td>\n",
       "      <td>0.909257</td>\n",
       "      <td>TeTree_subset1</td>\n",
       "      <td>basic</td>\n",
       "    </tr>\n",
       "    <tr>\n",
       "      <th>7</th>\n",
       "      <td>0.993645</td>\n",
       "      <td>0.996221</td>\n",
       "      <td>0.938616</td>\n",
       "      <td>0.966561</td>\n",
       "      <td>0.998377</td>\n",
       "      <td>0.935286</td>\n",
       "      <td>TiTree_subset2</td>\n",
       "      <td>basic</td>\n",
       "    </tr>\n",
       "    <tr>\n",
       "      <th>8</th>\n",
       "      <td>0.991938</td>\n",
       "      <td>0.968156</td>\n",
       "      <td>0.967249</td>\n",
       "      <td>0.967702</td>\n",
       "      <td>0.996659</td>\n",
       "      <td>0.937426</td>\n",
       "      <td>Urna_22</td>\n",
       "      <td>basic</td>\n",
       "    </tr>\n",
       "    <tr>\n",
       "      <th>9</th>\n",
       "      <td>0.990125</td>\n",
       "      <td>0.972806</td>\n",
       "      <td>0.966950</td>\n",
       "      <td>0.969869</td>\n",
       "      <td>0.997315</td>\n",
       "      <td>0.941501</td>\n",
       "      <td>Urna_30</td>\n",
       "      <td>basic</td>\n",
       "    </tr>\n",
       "    <tr>\n",
       "      <th>10</th>\n",
       "      <td>0.984589</td>\n",
       "      <td>0.972750</td>\n",
       "      <td>0.928530</td>\n",
       "      <td>0.950126</td>\n",
       "      <td>0.993797</td>\n",
       "      <td>0.904990</td>\n",
       "      <td>Urna_34</td>\n",
       "      <td>basic</td>\n",
       "    </tr>\n",
       "  </tbody>\n",
       "</table>\n",
       "</div>"
      ],
      "text/plain": [
       "    accuracy  precision    recall        f1    pr_auc       iou  \\\n",
       "0   0.996010   0.965395  0.984354  0.974783  0.998108  0.950806   \n",
       "1   0.988377   0.927443  0.983134  0.954477  0.994126  0.912918   \n",
       "2   0.971275   0.996194  0.767893  0.867271  0.988616  0.765647   \n",
       "3   0.990021   0.997339  0.913862  0.953778  0.997149  0.911640   \n",
       "4   0.992481   0.988382  0.931597  0.959149  0.995531  0.921505   \n",
       "5   0.996407   0.967269  0.970103  0.968684  0.996783  0.939269   \n",
       "6   0.989126   0.995724  0.912821  0.952472  0.996852  0.909257   \n",
       "7   0.993645   0.996221  0.938616  0.966561  0.998377  0.935286   \n",
       "8   0.991938   0.968156  0.967249  0.967702  0.996659  0.937426   \n",
       "9   0.990125   0.972806  0.966950  0.969869  0.997315  0.941501   \n",
       "10  0.984589   0.972750  0.928530  0.950126  0.993797  0.904990   \n",
       "\n",
       "                 stack  model  \n",
       "0            carb96558  basic  \n",
       "1               carb71  basic  \n",
       "2              carbRNF  basic  \n",
       "3   SPE_carb10_58_box3  basic  \n",
       "4             SoilAh-1  basic  \n",
       "5              SoilB-2  basic  \n",
       "6       TeTree_subset1  basic  \n",
       "7       TiTree_subset2  basic  \n",
       "8              Urna_22  basic  \n",
       "9              Urna_30  basic  \n",
       "10             Urna_34  basic  "
      ]
     },
     "execution_count": 33,
     "metadata": {},
     "output_type": "execute_result"
    }
   ],
   "source": [
    "df = make_df(results, model_name='basic')\n",
    "df"
   ]
  },
  {
   "cell_type": "code",
   "execution_count": 34,
   "metadata": {},
   "outputs": [
    {
     "name": "stdout",
     "output_type": "stream",
     "text": [
      "Mean   IOU: 0.91184\n",
      "Std    IOU: 0.050868\n",
      "Min    IOU: 0.76565\n",
      "Median IOU: 0.92151\n"
     ]
    }
   ],
   "source": [
    "print('Mean   IOU: {:.5}'.format(df['iou'].mean()))\n",
    "print('Std    IOU: {:.5}'.format(df['iou'].std()))\n",
    "print('Min    IOU: {:.5}'.format(df['iou'].min()))\n",
    "print('Median IOU: {:.5}'.format(df['iou'].median()))"
   ]
  },
  {
   "cell_type": "code",
   "execution_count": null,
   "metadata": {},
   "outputs": [],
   "source": []
  },
  {
   "cell_type": "code",
   "execution_count": null,
   "metadata": {},
   "outputs": [],
   "source": []
  }
 ],
 "metadata": {
  "kernelspec": {
   "display_name": "Conda python 3.7",
   "language": "python",
   "name": "py37"
  },
  "language_info": {
   "codemirror_mode": {
    "name": "ipython",
    "version": 3
   },
   "file_extension": ".py",
   "mimetype": "text/x-python",
   "name": "python",
   "nbconvert_exporter": "python",
   "pygments_lexer": "ipython3",
   "version": "3.7.5"
  }
 },
 "nbformat": 4,
 "nbformat_minor": 2
}
