{
 "cells": [
  {
   "cell_type": "code",
   "execution_count": 1,
   "metadata": {},
   "outputs": [],
   "source": [
    "%load_ext autoreload\n",
    "%autoreload 2"
   ]
  },
  {
   "cell_type": "code",
   "execution_count": 2,
   "metadata": {},
   "outputs": [],
   "source": [
    "import sys\n",
    "sys.path.append('../..')"
   ]
  },
  {
   "cell_type": "code",
   "execution_count": 3,
   "metadata": {},
   "outputs": [],
   "source": [
    "from tqdm import tqdm\n",
    "import numpy as np\n",
    "import matplotlib.pyplot as plt"
   ]
  },
  {
   "cell_type": "code",
   "execution_count": 4,
   "metadata": {},
   "outputs": [],
   "source": [
    "from stack_segmentation.stack import Stack"
   ]
  },
  {
   "cell_type": "code",
   "execution_count": 5,
   "metadata": {},
   "outputs": [],
   "source": [
    "from stack_segmentation.io import make_dataloader, collate_fn_basic\n",
    "\n",
    "from stack_segmentation.training import (\n",
    "    handle_stacks_data, \n",
    "    make_optimization_task, \n",
    "    train_loop\n",
    ")\n",
    "\n",
    "from stack_segmentation.pipeline_config import (\n",
    "    dataloaders_conf,\n",
    "    train_conf,\n",
    "    model_config, \n",
    "    aug_config,\n",
    "    optimizer_config,\n",
    "    loss_config,\n",
    "    scheduler_config,\n",
    ")"
   ]
  },
  {
   "cell_type": "code",
   "execution_count": 6,
   "metadata": {},
   "outputs": [],
   "source": [
    "from exp_config import data_conf"
   ]
  },
  {
   "cell_type": "markdown",
   "metadata": {},
   "source": [
    "## Parameters to tune"
   ]
  },
  {
   "cell_type": "code",
   "execution_count": 7,
   "metadata": {},
   "outputs": [
    {
     "data": {
      "text/plain": [
       "{'num_epochs': 500, 'device': 'cuda:1'}"
      ]
     },
     "execution_count": 7,
     "metadata": {},
     "output_type": "execute_result"
    }
   ],
   "source": [
    "train_conf['device'] = 'cuda:1'\n",
    "# train_conf['device'] = 'cpu'\n",
    "train_conf['num_epochs'] = 500\n",
    "train_conf"
   ]
  },
  {
   "cell_type": "code",
   "execution_count": 8,
   "metadata": {
    "scrolled": true
   },
   "outputs": [
    {
     "data": {
      "text/plain": [
       "{'conf_name': 'exp_basic_adamw_lr1e-3_epoch_300_resnet50_encoder_soft_aug_k_1_weight10_v2',\n",
       " 'stacks': [{'path': '../../data/carb96558',\n",
       "   'slice_train': (slice(None, None, None),\n",
       "    slice(None, None, None),\n",
       "    slice(None, 230, None)),\n",
       "   'slice_val': (slice(None, None, None),\n",
       "    slice(None, None, None),\n",
       "    slice(250, 470, None))},\n",
       "  {'path': '../../data/SoilB-2',\n",
       "   'slice_train': (slice(None, None, None),\n",
       "    slice(None, None, None),\n",
       "    slice(None, 230, None)),\n",
       "   'slice_val': (slice(None, None, None),\n",
       "    slice(None, None, None),\n",
       "    slice(240, 460, None))},\n",
       "  {'path': '../../data/Urna_22',\n",
       "   'slice_train': (slice(None, None, None),\n",
       "    slice(None, None, None),\n",
       "    slice(None, 220, None)),\n",
       "   'slice_val': (slice(None, None, None),\n",
       "    slice(None, None, None),\n",
       "    slice(245, 455, None))},\n",
       "  {'path': '../../data/carb96558',\n",
       "   'slice_test': (slice(None, None, None),\n",
       "    slice(None, None, None),\n",
       "    slice(490, None, None))},\n",
       "  {'path': '../../data/carb71',\n",
       "   'slice_test': (slice(None, None, None),\n",
       "    slice(None, None, None),\n",
       "    slice(None, None, None))},\n",
       "  {'path': '../../data/carbRNF',\n",
       "   'slice_test': (slice(None, None, None),\n",
       "    slice(None, None, None),\n",
       "    slice(None, None, None))},\n",
       "  {'path': '../../data/SPE_carb10_58_box3',\n",
       "   'slice_test': (slice(None, None, None),\n",
       "    slice(None, None, None),\n",
       "    slice(None, None, None))},\n",
       "  {'path': '../../data/SoilAh-1',\n",
       "   'slice_test': (slice(None, None, None),\n",
       "    slice(None, None, None),\n",
       "    slice(None, None, None))},\n",
       "  {'path': '../../data/SoilB-2',\n",
       "   'slice_test': (slice(None, None, None),\n",
       "    slice(None, None, None),\n",
       "    slice(None, None, None))},\n",
       "  {'path': '../../data/TeTree_subset1',\n",
       "   'slice_test': (slice(None, None, None),\n",
       "    slice(None, None, None),\n",
       "    slice(None, None, None))},\n",
       "  {'path': '../../data/TiTree_subset2',\n",
       "   'slice_test': (slice(None, None, None),\n",
       "    slice(None, None, None),\n",
       "    slice(None, None, None))},\n",
       "  {'path': '../../data/Urna_22',\n",
       "   'slice_test': (slice(None, None, None),\n",
       "    slice(None, None, None),\n",
       "    slice(None, None, None))},\n",
       "  {'path': '../../data/Urna_30',\n",
       "   'slice_test': (slice(None, None, None),\n",
       "    slice(None, None, None),\n",
       "    slice(None, None, None))},\n",
       "  {'path': '../../data/Urna_34',\n",
       "   'slice_test': (slice(None, None, None),\n",
       "    slice(None, None, None),\n",
       "    slice(None, None, None))}],\n",
       " 'patches': {'train': (128, 128, 1),\n",
       "  'val': (128, 128, 1),\n",
       "  'test': (128, 128, 1)}}"
      ]
     },
     "execution_count": 8,
     "metadata": {},
     "output_type": "execute_result"
    }
   ],
   "source": [
    "data_conf['conf_name'] = 'exp_basic_adamw_lr1e-3_epoch_300_resnet50_encoder_soft_aug_k_1_weight10_v2'\n",
    "data_conf"
   ]
  },
  {
   "cell_type": "code",
   "execution_count": 9,
   "metadata": {},
   "outputs": [
    {
     "data": {
      "text/plain": [
       "{'source': 'qubvel',\n",
       " 'model_type': 'Unet',\n",
       " 'encoder_name': 'resnet50',\n",
       " 'encoder_weights': 'imagenet'}"
      ]
     },
     "execution_count": 9,
     "metadata": {},
     "output_type": "execute_result"
    }
   ],
   "source": [
    "model_config"
   ]
  },
  {
   "cell_type": "code",
   "execution_count": 10,
   "metadata": {},
   "outputs": [
    {
     "data": {
      "text/plain": [
       "{'opt_type': 'AdamW',\n",
       " 'lr': 0.001,\n",
       " 'weight_decay': 5e-05,\n",
       " 'amsgrad': True,\n",
       " 'nesterov': False,\n",
       " 'momentum': 0.9,\n",
       " 'centered': False}"
      ]
     },
     "execution_count": 10,
     "metadata": {},
     "output_type": "execute_result"
    }
   ],
   "source": [
    "optimizer_config['opt_type'] = 'AdamW'\n",
    "optimizer_config['lr'] = 1e-3\n",
    "optimizer_config['weight_decay'] = 5e-5\n",
    "optimizer_config['amsgrad'] = True\n",
    "# optimizer_config['nesterov'] = True\n",
    "optimizer_config"
   ]
  },
  {
   "cell_type": "code",
   "execution_count": 11,
   "metadata": {},
   "outputs": [
    {
     "data": {
      "text/plain": [
       "{'aug_type': 'soft', 'original_height': 128, 'original_width': 128, 'k': 1}"
      ]
     },
     "execution_count": 11,
     "metadata": {},
     "output_type": "execute_result"
    }
   ],
   "source": [
    "aug_config['aug_type'] = 'soft'\n",
    "aug_config['k'] = 1\n",
    "aug_config"
   ]
  },
  {
   "cell_type": "code",
   "execution_count": 12,
   "metadata": {},
   "outputs": [
    {
     "data": {
      "text/plain": [
       "[{'loss': 'BCE', 'weight': 1, 'params': {'weight': [1, 10]}},\n",
       " {'loss': 'Dice',\n",
       "  'weight': 6,\n",
       "  'params': {'mode': 'multiclass',\n",
       "   'classes': [1],\n",
       "   'log_loss': True,\n",
       "   'from_logits': True,\n",
       "   'smooth': 1,\n",
       "   'eps': 1e-07}}]"
      ]
     },
     "execution_count": 12,
     "metadata": {},
     "output_type": "execute_result"
    }
   ],
   "source": [
    "loss_config =[\n",
    "    {\n",
    "        'loss': 'BCE', \n",
    "        'weight': 1, \n",
    "        'params': {'weight': [1, 10]}},\n",
    "    {\n",
    "        'loss': 'Dice',\n",
    "        'weight': 6, \n",
    "        'params': {\n",
    "            'mode': 'multiclass',\n",
    "            'classes': [1], # может быть, этот параметр не нужен\n",
    "            'log_loss': True,\n",
    "            'from_logits': True,\n",
    "            'smooth': 1,\n",
    "            'eps': 1e-7\n",
    "        }\n",
    "    }\n",
    "]\n",
    "loss_config"
   ]
  },
  {
   "cell_type": "code",
   "execution_count": 14,
   "metadata": {},
   "outputs": [
    {
     "data": {
      "text/plain": [
       "{'train': {'batch_size': 32, 'num_workers': 8, 'shuffle': True},\n",
       " 'val': {'batch_size': 32, 'num_workers': 8, 'shuffle': False},\n",
       " 'test': {'batch_size': 32, 'num_workers': 8, 'shuffle': True}}"
      ]
     },
     "execution_count": 14,
     "metadata": {},
     "output_type": "execute_result"
    }
   ],
   "source": [
    "dataloaders_conf"
   ]
  },
  {
   "cell_type": "markdown",
   "metadata": {},
   "source": [
    "## Prepare train, validation and test data"
   ]
  },
  {
   "cell_type": "code",
   "execution_count": 15,
   "metadata": {
    "scrolled": false
   },
   "outputs": [
    {
     "name": "stderr",
     "output_type": "stream",
     "text": [
      "720it [00:00, 733.49it/s]\n",
      "100%|██████████| 720/720 [00:07<00:00, 95.18it/s] \n",
      "8280it [00:00, 247587.40it/s]\n",
      "7920it [00:00, 237911.63it/s]\n",
      "700it [00:00, 885.43it/s]\n",
      "100%|██████████| 700/700 [00:06<00:00, 102.82it/s]\n",
      "8280it [00:00, 236967.94it/s]\n",
      "7920it [00:00, 66898.17it/s]\n",
      "710it [00:00, 868.47it/s]\n",
      "100%|██████████| 710/710 [00:06<00:00, 104.29it/s]\n",
      "7920it [00:00, 244621.66it/s]\n",
      "7560it [00:00, 235229.51it/s]\n",
      "720it [00:00, 857.64it/s]\n",
      "100%|██████████| 720/720 [00:07<00:00, 96.52it/s] \n",
      "8280it [00:00, 241672.61it/s]\n",
      "720it [00:03, 230.29it/s]\n",
      "100%|██████████| 720/720 [00:07<00:00, 97.51it/s] \n",
      "25920it [00:00, 106738.08it/s]\n",
      "700it [00:03, 227.98it/s]\n",
      "100%|██████████| 700/700 [00:06<00:00, 103.08it/s]\n",
      "25200it [00:00, 105160.56it/s]\n",
      "509it [00:01, 390.21it/s]\n",
      "100%|██████████| 509/509 [00:02<00:00, 198.73it/s]\n",
      "8144it [00:00, 206309.22it/s]\n",
      "700it [00:03, 228.69it/s]\n",
      "100%|██████████| 700/700 [00:06<00:00, 103.29it/s]\n",
      "25200it [00:00, 219343.69it/s]\n",
      "700it [00:00, 730.42it/s]\n",
      "100%|██████████| 700/700 [00:06<00:00, 102.68it/s]\n",
      "25200it [00:00, 224168.27it/s]\n",
      "710it [00:04, 155.45it/s]\n",
      "100%|██████████| 710/710 [00:07<00:00, 100.67it/s]\n",
      "25560it [00:00, 223738.23it/s]\n",
      "710it [00:01, 394.27it/s]\n",
      "100%|██████████| 710/710 [00:06<00:00, 106.43it/s]\n",
      "25560it [00:00, 95862.35it/s]\n",
      "710it [00:00, 813.31it/s]\n",
      "100%|██████████| 710/710 [00:06<00:00, 104.86it/s]\n",
      "25560it [00:00, 221331.19it/s]\n",
      "710it [00:03, 226.14it/s]\n",
      "100%|██████████| 710/710 [00:07<00:00, 99.27it/s] \n",
      "25560it [00:00, 203698.29it/s]\n",
      "700it [00:03, 217.33it/s]\n",
      "100%|██████████| 700/700 [00:06<00:00, 108.07it/s]\n",
      "25200it [00:00, 223474.39it/s]\n"
     ]
    }
   ],
   "source": [
    "data_train, data_val, data_test = handle_stacks_data(**data_conf)"
   ]
  },
  {
   "cell_type": "code",
   "execution_count": 16,
   "metadata": {
    "scrolled": true
   },
   "outputs": [
    {
     "data": {
      "text/plain": [
       "(24480, 23400, 11)"
      ]
     },
     "execution_count": 16,
     "metadata": {},
     "output_type": "execute_result"
    }
   ],
   "source": [
    "len(data_train), len(data_val), len(data_test)"
   ]
  },
  {
   "cell_type": "code",
   "execution_count": 17,
   "metadata": {},
   "outputs": [],
   "source": [
    "dataloader_train = make_dataloader(\n",
    "    samples=data_train, \n",
    "    collate_fn=collate_fn_basic,\n",
    "    model_config=model_config,\n",
    "    aug_config=aug_config,\n",
    "    **dataloaders_conf['train']\n",
    ")\n",
    "\n",
    "dataloader_val = make_dataloader(\n",
    "    samples=data_val, \n",
    "    collate_fn=collate_fn_basic,\n",
    "    model_config=model_config,\n",
    "    **dataloaders_conf['val']\n",
    ")\n",
    "\n",
    "dataloaders_test = {\n",
    "    name: make_dataloader(\n",
    "        samples=data, \n",
    "        collate_fn=collate_fn_basic,\n",
    "        model_config=model_config,\n",
    "        **dataloaders_conf['test']\n",
    "    ) for name, data in data_test.items()}"
   ]
  },
  {
   "cell_type": "markdown",
   "metadata": {},
   "source": [
    "## Create model and metrics"
   ]
  },
  {
   "cell_type": "code",
   "execution_count": 18,
   "metadata": {},
   "outputs": [],
   "source": [
    "device = 'cuda:1'\n",
    "# device = 'cpu'"
   ]
  },
  {
   "cell_type": "code",
   "execution_count": 19,
   "metadata": {},
   "outputs": [],
   "source": [
    "model, criterion, optimizer, scheduler = make_optimization_task(\n",
    "    device,\n",
    "    model_config=model_config,\n",
    "    loss_config=loss_config, \n",
    "    optimizer_config=optimizer_config,\n",
    "    scheduler_config=scheduler_config)"
   ]
  },
  {
   "cell_type": "markdown",
   "metadata": {},
   "source": [
    "## Run experiment"
   ]
  },
  {
   "cell_type": "code",
   "execution_count": 19,
   "metadata": {},
   "outputs": [],
   "source": [
    "from stack_segmentation.metrics import accuracy, precision, recall, f1, pr_auc, iou"
   ]
  },
  {
   "cell_type": "code",
   "execution_count": 20,
   "metadata": {},
   "outputs": [],
   "source": [
    "metrics = {\n",
    "    'accuracy': accuracy, \n",
    "    'precision': precision, \n",
    "    'recall': recall, \n",
    "    'f1': f1,\n",
    "    'pr_auc': pr_auc, \n",
    "    'iou': iou,\n",
    "}"
   ]
  },
  {
   "cell_type": "code",
   "execution_count": 21,
   "metadata": {
    "scrolled": true
   },
   "outputs": [
    {
     "name": "stderr",
     "output_type": "stream",
     "text": [
      "\r",
      "  0%|          | 0/765 [00:00<?, ?it/s]"
     ]
    },
    {
     "name": "stdout",
     "output_type": "stream",
     "text": [
      "Epoch 0...\n"
     ]
    },
    {
     "name": "stderr",
     "output_type": "stream",
     "text": [
      "100%|██████████| 765/765 [01:34<00:00,  8.10it/s]\n",
      "  0%|          | 0/732 [00:00<?, ?it/s]"
     ]
    },
    {
     "name": "stdout",
     "output_type": "stream",
     "text": [
      "Mean train loss: 0.25304\n"
     ]
    },
    {
     "name": "stderr",
     "output_type": "stream",
     "text": [
      "100%|██████████| 732/732 [00:30<00:00, 23.62it/s]\n",
      "  0%|          | 0/765 [00:00<?, ?it/s]"
     ]
    },
    {
     "name": "stdout",
     "output_type": "stream",
     "text": [
      "Mean val loss: 0.089037\n",
      "Epoch 1...\n"
     ]
    },
    {
     "name": "stderr",
     "output_type": "stream",
     "text": [
      "100%|██████████| 765/765 [01:33<00:00,  8.17it/s]\n",
      "  0%|          | 0/732 [00:00<?, ?it/s]"
     ]
    },
    {
     "name": "stdout",
     "output_type": "stream",
     "text": [
      "Mean train loss: 0.063913\n"
     ]
    },
    {
     "name": "stderr",
     "output_type": "stream",
     "text": [
      "100%|██████████| 732/732 [00:31<00:00, 23.57it/s]\n",
      "  0%|          | 0/765 [00:00<?, ?it/s]"
     ]
    },
    {
     "name": "stdout",
     "output_type": "stream",
     "text": [
      "Mean val loss: 0.05467\n",
      "Epoch 2...\n"
     ]
    },
    {
     "name": "stderr",
     "output_type": "stream",
     "text": [
      "100%|██████████| 765/765 [01:33<00:00,  8.14it/s]\n",
      "  0%|          | 0/732 [00:00<?, ?it/s]"
     ]
    },
    {
     "name": "stdout",
     "output_type": "stream",
     "text": [
      "Mean train loss: 0.053716\n"
     ]
    },
    {
     "name": "stderr",
     "output_type": "stream",
     "text": [
      "100%|██████████| 732/732 [00:30<00:00, 23.73it/s]\n",
      "  0%|          | 0/765 [00:00<?, ?it/s]"
     ]
    },
    {
     "name": "stdout",
     "output_type": "stream",
     "text": [
      "Mean val loss: 0.053793\n",
      "Epoch 3...\n"
     ]
    },
    {
     "name": "stderr",
     "output_type": "stream",
     "text": [
      "100%|██████████| 765/765 [01:34<00:00,  8.11it/s]\n",
      "  0%|          | 0/732 [00:00<?, ?it/s]"
     ]
    },
    {
     "name": "stdout",
     "output_type": "stream",
     "text": [
      "Mean train loss: 0.050697\n"
     ]
    },
    {
     "name": "stderr",
     "output_type": "stream",
     "text": [
      "100%|██████████| 732/732 [00:30<00:00, 23.62it/s]\n",
      "  0%|          | 0/765 [00:00<?, ?it/s]"
     ]
    },
    {
     "name": "stdout",
     "output_type": "stream",
     "text": [
      "Mean val loss: 0.062499\n",
      "EarlyStopping counter: 1 out of 15\n",
      "Epoch 4...\n"
     ]
    },
    {
     "name": "stderr",
     "output_type": "stream",
     "text": [
      "100%|██████████| 765/765 [01:34<00:00,  8.12it/s]\n",
      "  0%|          | 0/732 [00:00<?, ?it/s]"
     ]
    },
    {
     "name": "stdout",
     "output_type": "stream",
     "text": [
      "Mean train loss: 0.0472\n"
     ]
    },
    {
     "name": "stderr",
     "output_type": "stream",
     "text": [
      "100%|██████████| 732/732 [00:31<00:00, 23.41it/s]\n",
      "  0%|          | 0/765 [00:00<?, ?it/s]"
     ]
    },
    {
     "name": "stdout",
     "output_type": "stream",
     "text": [
      "Mean val loss: 0.047762\n",
      "Epoch 5...\n"
     ]
    },
    {
     "name": "stderr",
     "output_type": "stream",
     "text": [
      "100%|██████████| 765/765 [01:34<00:00,  8.10it/s]\n",
      "  0%|          | 0/732 [00:00<?, ?it/s]"
     ]
    },
    {
     "name": "stdout",
     "output_type": "stream",
     "text": [
      "Mean train loss: 0.045226\n"
     ]
    },
    {
     "name": "stderr",
     "output_type": "stream",
     "text": [
      "100%|██████████| 732/732 [00:31<00:00, 23.60it/s]\n",
      "  0%|          | 0/765 [00:00<?, ?it/s]"
     ]
    },
    {
     "name": "stdout",
     "output_type": "stream",
     "text": [
      "Mean val loss: 0.045277\n",
      "Epoch 6...\n"
     ]
    },
    {
     "name": "stderr",
     "output_type": "stream",
     "text": [
      "100%|██████████| 765/765 [01:34<00:00,  8.08it/s]\n",
      "  0%|          | 0/732 [00:00<?, ?it/s]"
     ]
    },
    {
     "name": "stdout",
     "output_type": "stream",
     "text": [
      "Mean train loss: 0.044242\n"
     ]
    },
    {
     "name": "stderr",
     "output_type": "stream",
     "text": [
      "100%|██████████| 732/732 [00:31<00:00, 23.54it/s]\n",
      "  0%|          | 0/765 [00:00<?, ?it/s]"
     ]
    },
    {
     "name": "stdout",
     "output_type": "stream",
     "text": [
      "Mean val loss: 0.045743\n",
      "EarlyStopping counter: 1 out of 15\n",
      "Epoch 7...\n"
     ]
    },
    {
     "name": "stderr",
     "output_type": "stream",
     "text": [
      "100%|██████████| 765/765 [01:34<00:00,  8.08it/s]\n",
      "  0%|          | 0/732 [00:00<?, ?it/s]"
     ]
    },
    {
     "name": "stdout",
     "output_type": "stream",
     "text": [
      "Mean train loss: 0.043802\n"
     ]
    },
    {
     "name": "stderr",
     "output_type": "stream",
     "text": [
      "100%|██████████| 732/732 [00:30<00:00, 23.74it/s]\n",
      "  0%|          | 0/765 [00:00<?, ?it/s]"
     ]
    },
    {
     "name": "stdout",
     "output_type": "stream",
     "text": [
      "Mean val loss: 0.046416\n",
      "EarlyStopping counter: 2 out of 15\n",
      "Epoch 8...\n"
     ]
    },
    {
     "name": "stderr",
     "output_type": "stream",
     "text": [
      "100%|██████████| 765/765 [01:34<00:00,  8.09it/s]\n",
      "  0%|          | 0/732 [00:00<?, ?it/s]"
     ]
    },
    {
     "name": "stdout",
     "output_type": "stream",
     "text": [
      "Mean train loss: 0.042947\n"
     ]
    },
    {
     "name": "stderr",
     "output_type": "stream",
     "text": [
      "100%|██████████| 732/732 [00:31<00:00, 23.46it/s]\n"
     ]
    },
    {
     "name": "stdout",
     "output_type": "stream",
     "text": [
      "Mean val loss: 0.044324\n"
     ]
    },
    {
     "name": "stderr",
     "output_type": "stream",
     "text": [
      "\r",
      "  0%|          | 0/765 [00:00<?, ?it/s]"
     ]
    },
    {
     "name": "stdout",
     "output_type": "stream",
     "text": [
      "Epoch 9...\n"
     ]
    },
    {
     "name": "stderr",
     "output_type": "stream",
     "text": [
      "100%|██████████| 765/765 [01:34<00:00,  8.06it/s]\n",
      "  0%|          | 0/732 [00:00<?, ?it/s]"
     ]
    },
    {
     "name": "stdout",
     "output_type": "stream",
     "text": [
      "Mean train loss: 0.042834\n"
     ]
    },
    {
     "name": "stderr",
     "output_type": "stream",
     "text": [
      "100%|██████████| 732/732 [00:31<00:00, 23.53it/s]\n",
      "  0%|          | 0/765 [00:00<?, ?it/s]"
     ]
    },
    {
     "name": "stdout",
     "output_type": "stream",
     "text": [
      "Mean val loss: 0.048179\n",
      "EarlyStopping counter: 1 out of 15\n",
      "Epoch 10...\n"
     ]
    },
    {
     "name": "stderr",
     "output_type": "stream",
     "text": [
      "100%|██████████| 765/765 [01:34<00:00,  8.07it/s]\n",
      "  0%|          | 0/732 [00:00<?, ?it/s]"
     ]
    },
    {
     "name": "stdout",
     "output_type": "stream",
     "text": [
      "Mean train loss: 0.042056\n"
     ]
    },
    {
     "name": "stderr",
     "output_type": "stream",
     "text": [
      "100%|██████████| 732/732 [00:31<00:00, 23.42it/s]\n",
      "  0%|          | 0/765 [00:00<?, ?it/s]"
     ]
    },
    {
     "name": "stdout",
     "output_type": "stream",
     "text": [
      "Mean val loss: 0.045943\n",
      "EarlyStopping counter: 2 out of 15\n",
      "Epoch 11...\n"
     ]
    },
    {
     "name": "stderr",
     "output_type": "stream",
     "text": [
      "100%|██████████| 765/765 [01:34<00:00,  8.12it/s]\n",
      "  0%|          | 0/732 [00:00<?, ?it/s]"
     ]
    },
    {
     "name": "stdout",
     "output_type": "stream",
     "text": [
      "Mean train loss: 0.041659\n"
     ]
    },
    {
     "name": "stderr",
     "output_type": "stream",
     "text": [
      "100%|██████████| 732/732 [00:30<00:00, 23.79it/s]\n",
      "  0%|          | 0/765 [00:00<?, ?it/s]"
     ]
    },
    {
     "name": "stdout",
     "output_type": "stream",
     "text": [
      "Mean val loss: 0.045641\n",
      "EarlyStopping counter: 3 out of 15\n",
      "Epoch 12...\n"
     ]
    },
    {
     "name": "stderr",
     "output_type": "stream",
     "text": [
      "100%|██████████| 765/765 [01:34<00:00,  8.06it/s]\n",
      "  0%|          | 0/732 [00:00<?, ?it/s]"
     ]
    },
    {
     "name": "stdout",
     "output_type": "stream",
     "text": [
      "Mean train loss: 0.04137\n"
     ]
    },
    {
     "name": "stderr",
     "output_type": "stream",
     "text": [
      "100%|██████████| 732/732 [00:30<00:00, 23.75it/s]\n",
      "  0%|          | 0/765 [00:00<?, ?it/s]"
     ]
    },
    {
     "name": "stdout",
     "output_type": "stream",
     "text": [
      "Mean val loss: 0.046041\n",
      "EarlyStopping counter: 4 out of 15\n",
      "Epoch 13...\n"
     ]
    },
    {
     "name": "stderr",
     "output_type": "stream",
     "text": [
      "100%|██████████| 765/765 [01:34<00:00,  8.09it/s]\n",
      "  0%|          | 0/732 [00:00<?, ?it/s]"
     ]
    },
    {
     "name": "stdout",
     "output_type": "stream",
     "text": [
      "Mean train loss: 0.041184\n"
     ]
    },
    {
     "name": "stderr",
     "output_type": "stream",
     "text": [
      "100%|██████████| 732/732 [00:30<00:00, 23.83it/s]\n",
      "  0%|          | 0/765 [00:00<?, ?it/s]"
     ]
    },
    {
     "name": "stdout",
     "output_type": "stream",
     "text": [
      "Mean val loss: 0.044453\n",
      "EarlyStopping counter: 5 out of 15\n",
      "Epoch 14...\n"
     ]
    },
    {
     "name": "stderr",
     "output_type": "stream",
     "text": [
      "100%|██████████| 765/765 [01:34<00:00,  8.11it/s]\n",
      "  0%|          | 0/732 [00:00<?, ?it/s]"
     ]
    },
    {
     "name": "stdout",
     "output_type": "stream",
     "text": [
      "Mean train loss: 0.040594\n"
     ]
    },
    {
     "name": "stderr",
     "output_type": "stream",
     "text": [
      "100%|██████████| 732/732 [00:31<00:00, 23.49it/s]\n",
      "  0%|          | 0/765 [00:00<?, ?it/s]"
     ]
    },
    {
     "name": "stdout",
     "output_type": "stream",
     "text": [
      "Mean val loss: 0.047098\n",
      "EarlyStopping counter: 1 out of 15\n",
      "Epoch 16...\n"
     ]
    },
    {
     "name": "stderr",
     "output_type": "stream",
     "text": [
      "100%|██████████| 765/765 [01:34<00:00,  8.09it/s]\n",
      "  0%|          | 0/732 [00:00<?, ?it/s]"
     ]
    },
    {
     "name": "stdout",
     "output_type": "stream",
     "text": [
      "Mean train loss: 0.040343\n"
     ]
    },
    {
     "name": "stderr",
     "output_type": "stream",
     "text": [
      "100%|██████████| 732/732 [00:30<00:00, 23.69it/s]\n",
      "  0%|          | 0/765 [00:00<?, ?it/s]"
     ]
    },
    {
     "name": "stdout",
     "output_type": "stream",
     "text": [
      "Mean val loss: 0.050107\n",
      "EarlyStopping counter: 2 out of 15\n",
      "Epoch 17...\n"
     ]
    },
    {
     "name": "stderr",
     "output_type": "stream",
     "text": [
      "100%|██████████| 765/765 [01:34<00:00,  8.07it/s]\n",
      "  0%|          | 0/732 [00:00<?, ?it/s]"
     ]
    },
    {
     "name": "stdout",
     "output_type": "stream",
     "text": [
      "Mean train loss: 0.040138\n"
     ]
    },
    {
     "name": "stderr",
     "output_type": "stream",
     "text": [
      "100%|██████████| 732/732 [00:31<00:00, 23.55it/s]\n",
      "  0%|          | 0/765 [00:00<?, ?it/s]"
     ]
    },
    {
     "name": "stdout",
     "output_type": "stream",
     "text": [
      "Mean val loss: 0.057516\n",
      "EarlyStopping counter: 3 out of 15\n",
      "Epoch 18...\n"
     ]
    },
    {
     "name": "stderr",
     "output_type": "stream",
     "text": [
      " 31%|███       | 237/765 [00:29<01:03,  8.25it/s]IOPub message rate exceeded.\n",
      "The notebook server will temporarily stop sending output\n",
      "to the client in order to avoid crashing it.\n",
      "To change this limit, set the config variable\n",
      "`--NotebookApp.iopub_msg_rate_limit`.\n",
      "\n",
      "Current values:\n",
      "NotebookApp.iopub_msg_rate_limit=1000.0 (msgs/sec)\n",
      "NotebookApp.rate_limit_window=3.0 (secs)\n",
      "\n",
      "100%|██████████| 765/765 [01:34<00:00,  8.10it/s]\n",
      "  0%|          | 0/732 [00:00<?, ?it/s]"
     ]
    },
    {
     "name": "stdout",
     "output_type": "stream",
     "text": [
      "Mean train loss: 0.038904\n"
     ]
    },
    {
     "name": "stderr",
     "output_type": "stream",
     "text": [
      "100%|██████████| 732/732 [00:30<00:00, 23.77it/s]\n",
      "  0%|          | 0/765 [00:00<?, ?it/s]"
     ]
    },
    {
     "name": "stdout",
     "output_type": "stream",
     "text": [
      "Mean val loss: 0.064333\n",
      "EarlyStopping counter: 1 out of 15\n",
      "Epoch 26...\n"
     ]
    },
    {
     "name": "stderr",
     "output_type": "stream",
     "text": [
      "100%|██████████| 765/765 [01:34<00:00,  8.10it/s]\n",
      "  0%|          | 0/732 [00:00<?, ?it/s]"
     ]
    },
    {
     "name": "stdout",
     "output_type": "stream",
     "text": [
      "Mean train loss: 0.038993\n"
     ]
    },
    {
     "name": "stderr",
     "output_type": "stream",
     "text": [
      "100%|██████████| 732/732 [00:30<00:00, 23.74it/s]\n",
      "  0%|          | 0/765 [00:00<?, ?it/s]"
     ]
    },
    {
     "name": "stdout",
     "output_type": "stream",
     "text": [
      "Mean val loss: 0.047948\n",
      "EarlyStopping counter: 2 out of 15\n",
      "Epoch 27...\n"
     ]
    },
    {
     "name": "stderr",
     "output_type": "stream",
     "text": [
      "100%|██████████| 765/765 [01:34<00:00,  8.08it/s]\n",
      "  0%|          | 0/732 [00:00<?, ?it/s]"
     ]
    },
    {
     "name": "stdout",
     "output_type": "stream",
     "text": [
      "Mean train loss: 0.038534\n"
     ]
    },
    {
     "name": "stderr",
     "output_type": "stream",
     "text": [
      "100%|██████████| 732/732 [00:31<00:00, 23.35it/s]\n",
      "  0%|          | 0/765 [00:00<?, ?it/s]"
     ]
    },
    {
     "name": "stdout",
     "output_type": "stream",
     "text": [
      "Mean val loss: 0.043082\n",
      "EarlyStopping counter: 3 out of 15\n",
      "Epoch 28...\n"
     ]
    },
    {
     "name": "stderr",
     "output_type": "stream",
     "text": [
      " 88%|████████▊ | 676/765 [01:23<00:11,  7.63it/s]IOPub message rate exceeded.\n",
      "The notebook server will temporarily stop sending output\n",
      "to the client in order to avoid crashing it.\n",
      "To change this limit, set the config variable\n",
      "`--NotebookApp.iopub_msg_rate_limit`.\n",
      "\n",
      "Current values:\n",
      "NotebookApp.iopub_msg_rate_limit=1000.0 (msgs/sec)\n",
      "NotebookApp.rate_limit_window=3.0 (secs)\n",
      "\n",
      "100%|██████████| 765/765 [01:34<00:00,  8.11it/s]\n",
      "  0%|          | 0/732 [00:00<?, ?it/s]"
     ]
    },
    {
     "name": "stdout",
     "output_type": "stream",
     "text": [
      "Mean train loss: 0.037617\n"
     ]
    },
    {
     "name": "stderr",
     "output_type": "stream",
     "text": [
      "100%|██████████| 732/732 [00:31<00:00, 23.49it/s]\n"
     ]
    },
    {
     "name": "stdout",
     "output_type": "stream",
     "text": [
      "Mean val loss: 0.039262\n"
     ]
    },
    {
     "name": "stderr",
     "output_type": "stream",
     "text": [
      "\r",
      "  0%|          | 0/765 [00:00<?, ?it/s]"
     ]
    },
    {
     "name": "stdout",
     "output_type": "stream",
     "text": [
      "Epoch 36...\n"
     ]
    },
    {
     "name": "stderr",
     "output_type": "stream",
     "text": [
      "100%|██████████| 765/765 [01:34<00:00,  8.07it/s]\n",
      "  0%|          | 0/732 [00:00<?, ?it/s]"
     ]
    },
    {
     "name": "stdout",
     "output_type": "stream",
     "text": [
      "Mean train loss: 0.037547\n"
     ]
    },
    {
     "name": "stderr",
     "output_type": "stream",
     "text": [
      "100%|██████████| 732/732 [00:31<00:00, 23.48it/s]\n",
      "  0%|          | 0/765 [00:00<?, ?it/s]"
     ]
    },
    {
     "name": "stdout",
     "output_type": "stream",
     "text": [
      "Mean val loss: 0.040239\n",
      "EarlyStopping counter: 1 out of 15\n",
      "Epoch 37...\n"
     ]
    },
    {
     "name": "stderr",
     "output_type": "stream",
     "text": [
      "100%|██████████| 765/765 [01:34<00:00,  8.06it/s]\n",
      "  0%|          | 0/732 [00:00<?, ?it/s]"
     ]
    },
    {
     "name": "stdout",
     "output_type": "stream",
     "text": [
      "Mean train loss: 0.037905\n"
     ]
    },
    {
     "name": "stderr",
     "output_type": "stream",
     "text": [
      "100%|██████████| 732/732 [00:30<00:00, 23.70it/s]\n",
      "  0%|          | 0/765 [00:00<?, ?it/s]"
     ]
    },
    {
     "name": "stdout",
     "output_type": "stream",
     "text": [
      "Mean val loss: 0.053757\n",
      "EarlyStopping counter: 2 out of 15\n",
      "Epoch 38...\n"
     ]
    },
    {
     "name": "stderr",
     "output_type": "stream",
     "text": [
      " 89%|████████▉ | 682/765 [01:23<00:10,  8.17it/s]IOPub message rate exceeded.\n",
      "The notebook server will temporarily stop sending output\n",
      "to the client in order to avoid crashing it.\n",
      "To change this limit, set the config variable\n",
      "`--NotebookApp.iopub_msg_rate_limit`.\n",
      "\n",
      "Current values:\n",
      "NotebookApp.iopub_msg_rate_limit=1000.0 (msgs/sec)\n",
      "NotebookApp.rate_limit_window=3.0 (secs)\n",
      "\n",
      "100%|██████████| 765/765 [01:34<00:00,  8.10it/s]\n",
      "  0%|          | 0/732 [00:00<?, ?it/s]"
     ]
    },
    {
     "name": "stdout",
     "output_type": "stream",
     "text": [
      "Mean train loss: 0.036894\n"
     ]
    },
    {
     "name": "stderr",
     "output_type": "stream",
     "text": [
      "100%|██████████| 732/732 [00:31<00:00, 23.57it/s]\n",
      "  0%|          | 0/765 [00:00<?, ?it/s]"
     ]
    },
    {
     "name": "stdout",
     "output_type": "stream",
     "text": [
      "Mean val loss: 0.039075\n",
      "EarlyStopping counter: 3 out of 15\n",
      "Epoch 47...\n"
     ]
    },
    {
     "name": "stderr",
     "output_type": "stream",
     "text": [
      "100%|██████████| 765/765 [01:34<00:00,  8.09it/s]\n",
      "  0%|          | 0/732 [00:00<?, ?it/s]"
     ]
    },
    {
     "name": "stdout",
     "output_type": "stream",
     "text": [
      "Mean train loss: 0.036904\n"
     ]
    },
    {
     "name": "stderr",
     "output_type": "stream",
     "text": [
      "100%|██████████| 732/732 [00:30<00:00, 23.71it/s]\n",
      "  0%|          | 0/765 [00:00<?, ?it/s]"
     ]
    },
    {
     "name": "stdout",
     "output_type": "stream",
     "text": [
      "Mean val loss: 0.039058\n",
      "EarlyStopping counter: 4 out of 15\n",
      "Epoch 48...\n"
     ]
    },
    {
     "name": "stderr",
     "output_type": "stream",
     "text": [
      "100%|██████████| 765/765 [01:34<00:00,  8.09it/s]\n",
      "  0%|          | 0/732 [00:00<?, ?it/s]"
     ]
    },
    {
     "name": "stdout",
     "output_type": "stream",
     "text": [
      "Mean train loss: 0.036728\n"
     ]
    },
    {
     "name": "stderr",
     "output_type": "stream",
     "text": [
      "100%|██████████| 732/732 [00:31<00:00, 23.57it/s]\n",
      "  0%|          | 0/765 [00:00<?, ?it/s]"
     ]
    },
    {
     "name": "stdout",
     "output_type": "stream",
     "text": [
      "Mean val loss: 0.04047\n",
      "EarlyStopping counter: 5 out of 15\n",
      "Epoch 49...\n"
     ]
    },
    {
     "name": "stderr",
     "output_type": "stream",
     "text": [
      " 21%|██        | 159/765 [00:20<01:12,  8.34it/s]IOPub message rate exceeded.\n",
      "The notebook server will temporarily stop sending output\n",
      "to the client in order to avoid crashing it.\n",
      "To change this limit, set the config variable\n",
      "`--NotebookApp.iopub_msg_rate_limit`.\n",
      "\n",
      "Current values:\n",
      "NotebookApp.iopub_msg_rate_limit=1000.0 (msgs/sec)\n",
      "NotebookApp.rate_limit_window=3.0 (secs)\n",
      "\n",
      "100%|██████████| 765/765 [01:34<00:00,  8.11it/s]\n",
      "  0%|          | 0/732 [00:00<?, ?it/s]"
     ]
    },
    {
     "name": "stdout",
     "output_type": "stream",
     "text": [
      "Mean train loss: 0.036372\n"
     ]
    },
    {
     "name": "stderr",
     "output_type": "stream",
     "text": [
      "100%|██████████| 732/732 [00:31<00:00, 23.33it/s]\n",
      "  0%|          | 0/765 [00:00<?, ?it/s]"
     ]
    },
    {
     "name": "stdout",
     "output_type": "stream",
     "text": [
      "Mean val loss: 0.03858\n",
      "EarlyStopping counter: 3 out of 15\n",
      "Epoch 57...\n"
     ]
    },
    {
     "name": "stderr",
     "output_type": "stream",
     "text": [
      "100%|██████████| 765/765 [01:34<00:00,  8.07it/s]\n",
      "  0%|          | 0/732 [00:00<?, ?it/s]"
     ]
    },
    {
     "name": "stdout",
     "output_type": "stream",
     "text": [
      "Mean train loss: 0.03632\n"
     ]
    },
    {
     "name": "stderr",
     "output_type": "stream",
     "text": [
      "100%|██████████| 732/732 [00:30<00:00, 23.76it/s]\n",
      "  0%|          | 0/765 [00:00<?, ?it/s]"
     ]
    },
    {
     "name": "stdout",
     "output_type": "stream",
     "text": [
      "Mean val loss: 0.038817\n",
      "EarlyStopping counter: 4 out of 15\n",
      "Epoch 58...\n"
     ]
    },
    {
     "name": "stderr",
     "output_type": "stream",
     "text": [
      "100%|██████████| 765/765 [01:34<00:00,  8.09it/s]\n",
      "  0%|          | 0/732 [00:00<?, ?it/s]"
     ]
    },
    {
     "name": "stdout",
     "output_type": "stream",
     "text": [
      "Mean train loss: 0.036271\n"
     ]
    },
    {
     "name": "stderr",
     "output_type": "stream",
     "text": [
      "100%|██████████| 732/732 [00:30<00:00, 23.67it/s]\n",
      "  0%|          | 0/765 [00:00<?, ?it/s]"
     ]
    },
    {
     "name": "stdout",
     "output_type": "stream",
     "text": [
      "Mean val loss: 0.038911\n",
      "EarlyStopping counter: 5 out of 15\n",
      "Epoch 59...\n"
     ]
    },
    {
     "name": "stderr",
     "output_type": "stream",
     "text": [
      " 75%|███████▌  | 575/765 [01:11<00:22,  8.37it/s]IOPub message rate exceeded.\n",
      "The notebook server will temporarily stop sending output\n",
      "to the client in order to avoid crashing it.\n",
      "To change this limit, set the config variable\n",
      "`--NotebookApp.iopub_msg_rate_limit`.\n",
      "\n",
      "Current values:\n",
      "NotebookApp.iopub_msg_rate_limit=1000.0 (msgs/sec)\n",
      "NotebookApp.rate_limit_window=3.0 (secs)\n",
      "\n",
      "100%|██████████| 732/732 [00:31<00:00, 23.53it/s]\n"
     ]
    },
    {
     "name": "stdout",
     "output_type": "stream",
     "text": [
      "Mean val loss: 0.037879\n"
     ]
    },
    {
     "name": "stderr",
     "output_type": "stream",
     "text": [
      "\r",
      "  0%|          | 0/765 [00:00<?, ?it/s]"
     ]
    },
    {
     "name": "stdout",
     "output_type": "stream",
     "text": [
      "Epoch 67...\n"
     ]
    },
    {
     "name": "stderr",
     "output_type": "stream",
     "text": [
      "100%|██████████| 765/765 [01:34<00:00,  8.08it/s]\n",
      "  0%|          | 0/732 [00:00<?, ?it/s]"
     ]
    },
    {
     "name": "stdout",
     "output_type": "stream",
     "text": [
      "Mean train loss: 0.035939\n"
     ]
    },
    {
     "name": "stderr",
     "output_type": "stream",
     "text": [
      "100%|██████████| 732/732 [00:31<00:00, 23.44it/s]\n",
      "  0%|          | 0/765 [00:00<?, ?it/s]"
     ]
    },
    {
     "name": "stdout",
     "output_type": "stream",
     "text": [
      "Mean val loss: 0.037934\n",
      "EarlyStopping counter: 1 out of 15\n",
      "Epoch 68...\n"
     ]
    },
    {
     "name": "stderr",
     "output_type": "stream",
     "text": [
      "100%|██████████| 765/765 [01:34<00:00,  8.09it/s]\n",
      "  0%|          | 0/732 [00:00<?, ?it/s]"
     ]
    },
    {
     "name": "stdout",
     "output_type": "stream",
     "text": [
      "Mean train loss: 0.03594\n"
     ]
    },
    {
     "name": "stderr",
     "output_type": "stream",
     "text": [
      "100%|██████████| 732/732 [00:31<00:00, 23.49it/s]\n",
      "  0%|          | 0/765 [00:00<?, ?it/s]"
     ]
    },
    {
     "name": "stdout",
     "output_type": "stream",
     "text": [
      "Mean val loss: 0.038195\n",
      "EarlyStopping counter: 2 out of 15\n",
      "Epoch 69...\n"
     ]
    },
    {
     "name": "stderr",
     "output_type": "stream",
     "text": [
      "100%|██████████| 765/765 [01:34<00:00,  8.08it/s]\n",
      "  0%|          | 0/732 [00:00<?, ?it/s]"
     ]
    },
    {
     "name": "stdout",
     "output_type": "stream",
     "text": [
      "Mean train loss: 0.035883\n"
     ]
    },
    {
     "name": "stderr",
     "output_type": "stream",
     "text": [
      " 65%|██████▍   | 473/732 [00:20<00:10, 25.14it/s]IOPub message rate exceeded.\n",
      "The notebook server will temporarily stop sending output\n",
      "to the client in order to avoid crashing it.\n",
      "To change this limit, set the config variable\n",
      "`--NotebookApp.iopub_msg_rate_limit`.\n",
      "\n",
      "Current values:\n",
      "NotebookApp.iopub_msg_rate_limit=1000.0 (msgs/sec)\n",
      "NotebookApp.rate_limit_window=3.0 (secs)\n",
      "\n",
      "100%|██████████| 732/732 [00:31<00:00, 23.54it/s]\n",
      "  0%|          | 0/765 [00:00<?, ?it/s]"
     ]
    },
    {
     "name": "stdout",
     "output_type": "stream",
     "text": [
      "Mean val loss: 0.037882\n",
      "EarlyStopping counter: 1 out of 15\n",
      "Epoch 77...\n"
     ]
    },
    {
     "name": "stderr",
     "output_type": "stream",
     "text": [
      "100%|██████████| 765/765 [01:34<00:00,  8.07it/s]\n",
      "  0%|          | 0/732 [00:00<?, ?it/s]"
     ]
    },
    {
     "name": "stdout",
     "output_type": "stream",
     "text": [
      "Mean train loss: 0.035569\n"
     ]
    },
    {
     "name": "stderr",
     "output_type": "stream",
     "text": [
      "100%|██████████| 732/732 [00:30<00:00, 23.62it/s]\n",
      "  0%|          | 0/765 [00:00<?, ?it/s]"
     ]
    },
    {
     "name": "stdout",
     "output_type": "stream",
     "text": [
      "Mean val loss: 0.038169\n",
      "EarlyStopping counter: 2 out of 15\n",
      "Epoch 78...\n"
     ]
    },
    {
     "name": "stderr",
     "output_type": "stream",
     "text": [
      "100%|██████████| 765/765 [01:34<00:00,  8.08it/s]\n",
      "  0%|          | 0/732 [00:00<?, ?it/s]"
     ]
    },
    {
     "name": "stdout",
     "output_type": "stream",
     "text": [
      "Mean train loss: 0.035543\n"
     ]
    },
    {
     "name": "stderr",
     "output_type": "stream",
     "text": [
      "100%|██████████| 732/732 [00:30<00:00, 23.64it/s]\n",
      "  0%|          | 0/765 [00:00<?, ?it/s]"
     ]
    },
    {
     "name": "stdout",
     "output_type": "stream",
     "text": [
      "Mean val loss: 0.037658\n",
      "EarlyStopping counter: 3 out of 15\n",
      "Epoch 79...\n"
     ]
    },
    {
     "name": "stderr",
     "output_type": "stream",
     "text": [
      "100%|██████████| 765/765 [01:34<00:00,  8.07it/s]\n",
      "  0%|          | 0/732 [00:00<?, ?it/s]"
     ]
    },
    {
     "name": "stdout",
     "output_type": "stream",
     "text": [
      "Mean train loss: 0.035541\n"
     ]
    },
    {
     "name": "stderr",
     "output_type": "stream",
     "text": [
      " 26%|██▌       | 192/732 [00:08<00:21, 25.22it/s]IOPub message rate exceeded.\n",
      "The notebook server will temporarily stop sending output\n",
      "to the client in order to avoid crashing it.\n",
      "To change this limit, set the config variable\n",
      "`--NotebookApp.iopub_msg_rate_limit`.\n",
      "\n",
      "Current values:\n",
      "NotebookApp.iopub_msg_rate_limit=1000.0 (msgs/sec)\n",
      "NotebookApp.rate_limit_window=3.0 (secs)\n",
      "\n",
      "100%|██████████| 765/765 [01:34<00:00,  8.08it/s]\n",
      "  0%|          | 0/732 [00:00<?, ?it/s]"
     ]
    },
    {
     "name": "stdout",
     "output_type": "stream",
     "text": [
      "Mean train loss: 0.035341\n"
     ]
    },
    {
     "name": "stderr",
     "output_type": "stream",
     "text": [
      "100%|██████████| 732/732 [00:31<00:00, 23.36it/s]\n",
      "  0%|          | 0/765 [00:00<?, ?it/s]"
     ]
    },
    {
     "name": "stdout",
     "output_type": "stream",
     "text": [
      "Mean val loss: 0.038105\n",
      "EarlyStopping counter: 7 out of 15\n",
      "Epoch 88...\n"
     ]
    },
    {
     "name": "stderr",
     "output_type": "stream",
     "text": [
      "100%|██████████| 765/765 [01:34<00:00,  8.07it/s]\n",
      "  0%|          | 0/732 [00:00<?, ?it/s]"
     ]
    },
    {
     "name": "stdout",
     "output_type": "stream",
     "text": [
      "Mean train loss: 0.035328\n"
     ]
    },
    {
     "name": "stderr",
     "output_type": "stream",
     "text": [
      "100%|██████████| 732/732 [00:30<00:00, 23.77it/s]\n"
     ]
    },
    {
     "name": "stdout",
     "output_type": "stream",
     "text": [
      "Mean val loss: 0.037159\n"
     ]
    },
    {
     "name": "stderr",
     "output_type": "stream",
     "text": [
      "\r",
      "  0%|          | 0/765 [00:00<?, ?it/s]"
     ]
    },
    {
     "name": "stdout",
     "output_type": "stream",
     "text": [
      "Epoch 89...\n"
     ]
    },
    {
     "name": "stderr",
     "output_type": "stream",
     "text": [
      "100%|██████████| 765/765 [01:34<00:00,  8.06it/s]\n",
      "  0%|          | 0/732 [00:00<?, ?it/s]"
     ]
    },
    {
     "name": "stdout",
     "output_type": "stream",
     "text": [
      "Mean train loss: 0.035244\n"
     ]
    },
    {
     "name": "stderr",
     "output_type": "stream",
     "text": [
      "100%|██████████| 732/732 [00:31<00:00, 23.55it/s]\n",
      "  0%|          | 0/765 [00:00<?, ?it/s]"
     ]
    },
    {
     "name": "stdout",
     "output_type": "stream",
     "text": [
      "Mean val loss: 0.038401\n",
      "EarlyStopping counter: 1 out of 15\n",
      "Epoch 90...\n"
     ]
    },
    {
     "name": "stderr",
     "output_type": "stream",
     "text": [
      "  4%|▍         | 30/765 [00:04<01:31,  8.01it/s]IOPub message rate exceeded.\n",
      "The notebook server will temporarily stop sending output\n",
      "to the client in order to avoid crashing it.\n",
      "To change this limit, set the config variable\n",
      "`--NotebookApp.iopub_msg_rate_limit`.\n",
      "\n",
      "Current values:\n",
      "NotebookApp.iopub_msg_rate_limit=1000.0 (msgs/sec)\n",
      "NotebookApp.rate_limit_window=3.0 (secs)\n",
      "\n",
      "100%|██████████| 765/765 [01:34<00:00,  8.08it/s]\n",
      "  0%|          | 0/732 [00:00<?, ?it/s]"
     ]
    },
    {
     "name": "stdout",
     "output_type": "stream",
     "text": [
      "Mean train loss: 0.035087\n"
     ]
    },
    {
     "name": "stderr",
     "output_type": "stream",
     "text": [
      "100%|██████████| 732/732 [00:30<00:00, 23.66it/s]\n",
      "  0%|          | 0/765 [00:00<?, ?it/s]"
     ]
    },
    {
     "name": "stdout",
     "output_type": "stream",
     "text": [
      "Mean val loss: 0.037341\n",
      "EarlyStopping counter: 9 out of 15\n",
      "Epoch 98...\n"
     ]
    },
    {
     "name": "stderr",
     "output_type": "stream",
     "text": [
      "100%|██████████| 765/765 [01:34<00:00,  8.07it/s]\n",
      "  0%|          | 0/732 [00:00<?, ?it/s]"
     ]
    },
    {
     "name": "stdout",
     "output_type": "stream",
     "text": [
      "Mean train loss: 0.035073\n"
     ]
    },
    {
     "name": "stderr",
     "output_type": "stream",
     "text": [
      "100%|██████████| 732/732 [00:31<00:00, 23.22it/s]\n",
      "  0%|          | 0/765 [00:00<?, ?it/s]"
     ]
    },
    {
     "name": "stdout",
     "output_type": "stream",
     "text": [
      "Mean val loss: 0.037872\n",
      "EarlyStopping counter: 10 out of 15\n",
      "Epoch 99...\n"
     ]
    },
    {
     "name": "stderr",
     "output_type": "stream",
     "text": [
      "100%|██████████| 765/765 [01:34<00:00,  8.08it/s]\n",
      "  0%|          | 0/732 [00:00<?, ?it/s]"
     ]
    },
    {
     "name": "stdout",
     "output_type": "stream",
     "text": [
      "Mean train loss: 0.035011\n"
     ]
    },
    {
     "name": "stderr",
     "output_type": "stream",
     "text": [
      "100%|██████████| 732/732 [00:31<00:00, 23.48it/s]\n",
      "  0%|          | 0/765 [00:00<?, ?it/s]"
     ]
    },
    {
     "name": "stdout",
     "output_type": "stream",
     "text": [
      "Mean val loss: 0.039311\n",
      "EarlyStopping counter: 11 out of 15\n",
      "Epoch 100...\n"
     ]
    },
    {
     "name": "stderr",
     "output_type": "stream",
     "text": [
      " 47%|████▋     | 358/765 [00:44<00:49,  8.21it/s]IOPub message rate exceeded.\n",
      "The notebook server will temporarily stop sending output\n",
      "to the client in order to avoid crashing it.\n",
      "To change this limit, set the config variable\n",
      "`--NotebookApp.iopub_msg_rate_limit`.\n",
      "\n",
      "Current values:\n",
      "NotebookApp.iopub_msg_rate_limit=1000.0 (msgs/sec)\n",
      "NotebookApp.rate_limit_window=3.0 (secs)\n",
      "\n",
      "100%|██████████| 765/765 [01:34<00:00,  8.07it/s]\n",
      "  0%|          | 0/732 [00:00<?, ?it/s]"
     ]
    },
    {
     "name": "stdout",
     "output_type": "stream",
     "text": [
      "Mean train loss: 0.034825\n"
     ]
    },
    {
     "name": "stderr",
     "output_type": "stream",
     "text": [
      "100%|██████████| 732/732 [00:31<00:00, 23.44it/s]\n"
     ]
    },
    {
     "name": "stdout",
     "output_type": "stream",
     "text": [
      "Mean val loss: 0.036797\n"
     ]
    },
    {
     "name": "stderr",
     "output_type": "stream",
     "text": [
      "\r",
      "  0%|          | 0/765 [00:00<?, ?it/s]"
     ]
    },
    {
     "name": "stdout",
     "output_type": "stream",
     "text": [
      "Epoch 108...\n"
     ]
    },
    {
     "name": "stderr",
     "output_type": "stream",
     "text": [
      "100%|██████████| 765/765 [01:34<00:00,  8.06it/s]\n",
      "  0%|          | 0/732 [00:00<?, ?it/s]"
     ]
    },
    {
     "name": "stdout",
     "output_type": "stream",
     "text": [
      "Mean train loss: 0.034829\n"
     ]
    },
    {
     "name": "stderr",
     "output_type": "stream",
     "text": [
      "100%|██████████| 732/732 [00:31<00:00, 23.47it/s]\n",
      "  0%|          | 0/765 [00:00<?, ?it/s]"
     ]
    },
    {
     "name": "stdout",
     "output_type": "stream",
     "text": [
      "Mean val loss: 0.036922\n",
      "EarlyStopping counter: 1 out of 15\n",
      "Epoch 109...\n"
     ]
    },
    {
     "name": "stderr",
     "output_type": "stream",
     "text": [
      "100%|██████████| 765/765 [01:34<00:00,  8.09it/s]\n",
      "  0%|          | 0/732 [00:00<?, ?it/s]"
     ]
    },
    {
     "name": "stdout",
     "output_type": "stream",
     "text": [
      "Mean train loss: 0.034811\n"
     ]
    },
    {
     "name": "stderr",
     "output_type": "stream",
     "text": [
      "100%|██████████| 732/732 [00:30<00:00, 23.71it/s]\n",
      "  0%|          | 0/765 [00:00<?, ?it/s]"
     ]
    },
    {
     "name": "stdout",
     "output_type": "stream",
     "text": [
      "Mean val loss: 0.036911\n",
      "EarlyStopping counter: 2 out of 15\n",
      "Epoch 110...\n"
     ]
    },
    {
     "name": "stderr",
     "output_type": "stream",
     "text": [
      " 86%|████████▋ | 660/765 [01:21<00:12,  8.15it/s]IOPub message rate exceeded.\n",
      "The notebook server will temporarily stop sending output\n",
      "to the client in order to avoid crashing it.\n",
      "To change this limit, set the config variable\n",
      "`--NotebookApp.iopub_msg_rate_limit`.\n",
      "\n",
      "Current values:\n",
      "NotebookApp.iopub_msg_rate_limit=1000.0 (msgs/sec)\n",
      "NotebookApp.rate_limit_window=3.0 (secs)\n",
      "\n",
      "100%|██████████| 732/732 [00:30<00:00, 23.68it/s]\n",
      "  0%|          | 0/765 [00:00<?, ?it/s]"
     ]
    },
    {
     "name": "stdout",
     "output_type": "stream",
     "text": [
      "Mean val loss: 0.037269\n",
      "EarlyStopping counter: 10 out of 15\n",
      "Epoch 118...\n"
     ]
    },
    {
     "name": "stderr",
     "output_type": "stream",
     "text": [
      "100%|██████████| 765/765 [01:34<00:00,  8.08it/s]\n",
      "  0%|          | 0/732 [00:00<?, ?it/s]"
     ]
    },
    {
     "name": "stdout",
     "output_type": "stream",
     "text": [
      "Mean train loss: 0.034649\n"
     ]
    },
    {
     "name": "stderr",
     "output_type": "stream",
     "text": [
      "100%|██████████| 732/732 [00:30<00:00, 23.64it/s]\n"
     ]
    },
    {
     "name": "stdout",
     "output_type": "stream",
     "text": [
      "Mean val loss: 0.036759\n"
     ]
    },
    {
     "name": "stderr",
     "output_type": "stream",
     "text": [
      "\r",
      "  0%|          | 0/765 [00:00<?, ?it/s]"
     ]
    },
    {
     "name": "stdout",
     "output_type": "stream",
     "text": [
      "Epoch 119...\n"
     ]
    },
    {
     "name": "stderr",
     "output_type": "stream",
     "text": [
      "100%|██████████| 765/765 [01:34<00:00,  8.09it/s]\n",
      "  0%|          | 0/732 [00:00<?, ?it/s]"
     ]
    },
    {
     "name": "stdout",
     "output_type": "stream",
     "text": [
      "Mean train loss: 0.03465\n"
     ]
    },
    {
     "name": "stderr",
     "output_type": "stream",
     "text": [
      "100%|██████████| 732/732 [00:31<00:00, 23.53it/s]\n"
     ]
    },
    {
     "name": "stdout",
     "output_type": "stream",
     "text": [
      "Mean val loss: 0.036721\n"
     ]
    },
    {
     "name": "stderr",
     "output_type": "stream",
     "text": [
      "\r",
      "  0%|          | 0/765 [00:00<?, ?it/s]"
     ]
    },
    {
     "name": "stdout",
     "output_type": "stream",
     "text": [
      "Epoch 120...\n"
     ]
    },
    {
     "name": "stderr",
     "output_type": "stream",
     "text": [
      "100%|██████████| 765/765 [01:34<00:00,  8.10it/s]\n",
      "  0%|          | 0/732 [00:00<?, ?it/s]"
     ]
    },
    {
     "name": "stdout",
     "output_type": "stream",
     "text": [
      "Mean train loss: 0.034668\n"
     ]
    },
    {
     "name": "stderr",
     "output_type": "stream",
     "text": [
      " 29%|██▉       | 215/732 [00:09<00:20, 24.69it/s]IOPub message rate exceeded.\n",
      "The notebook server will temporarily stop sending output\n",
      "to the client in order to avoid crashing it.\n",
      "To change this limit, set the config variable\n",
      "`--NotebookApp.iopub_msg_rate_limit`.\n",
      "\n",
      "Current values:\n",
      "NotebookApp.iopub_msg_rate_limit=1000.0 (msgs/sec)\n",
      "NotebookApp.rate_limit_window=3.0 (secs)\n",
      "\n",
      "100%|██████████| 765/765 [01:34<00:00,  8.08it/s]\n",
      "  0%|          | 0/732 [00:00<?, ?it/s]"
     ]
    },
    {
     "name": "stdout",
     "output_type": "stream",
     "text": [
      "Mean train loss: 0.034582\n"
     ]
    },
    {
     "name": "stderr",
     "output_type": "stream",
     "text": [
      "100%|██████████| 732/732 [00:31<00:00, 23.46it/s]\n",
      "  0%|          | 0/765 [00:00<?, ?it/s]"
     ]
    },
    {
     "name": "stdout",
     "output_type": "stream",
     "text": [
      "Mean val loss: 0.036625\n",
      "EarlyStopping counter: 2 out of 15\n",
      "Epoch 125...\n"
     ]
    },
    {
     "name": "stderr",
     "output_type": "stream",
     "text": [
      "100%|██████████| 765/765 [01:34<00:00,  8.09it/s]\n",
      "  0%|          | 0/732 [00:00<?, ?it/s]"
     ]
    },
    {
     "name": "stdout",
     "output_type": "stream",
     "text": [
      "Mean train loss: 0.034532\n"
     ]
    },
    {
     "name": "stderr",
     "output_type": "stream",
     "text": [
      "100%|██████████| 732/732 [00:31<00:00, 23.58it/s]\n"
     ]
    },
    {
     "name": "stdout",
     "output_type": "stream",
     "text": [
      "Mean val loss: 0.036539\n"
     ]
    },
    {
     "name": "stderr",
     "output_type": "stream",
     "text": [
      "\r",
      "  0%|          | 0/765 [00:00<?, ?it/s]"
     ]
    },
    {
     "name": "stdout",
     "output_type": "stream",
     "text": [
      "Epoch 126...\n"
     ]
    },
    {
     "name": "stderr",
     "output_type": "stream",
     "text": [
      "100%|██████████| 765/765 [01:34<00:00,  8.10it/s]\n",
      "  0%|          | 0/732 [00:00<?, ?it/s]"
     ]
    },
    {
     "name": "stdout",
     "output_type": "stream",
     "text": [
      "Mean train loss: 0.034629\n"
     ]
    },
    {
     "name": "stderr",
     "output_type": "stream",
     "text": [
      "100%|██████████| 732/732 [00:31<00:00, 23.54it/s]\n",
      "  0%|          | 0/765 [00:00<?, ?it/s]"
     ]
    },
    {
     "name": "stdout",
     "output_type": "stream",
     "text": [
      "Mean val loss: 0.041751\n",
      "EarlyStopping counter: 1 out of 15\n",
      "Epoch 127...\n"
     ]
    },
    {
     "name": "stderr",
     "output_type": "stream",
     "text": [
      "100%|██████████| 765/765 [01:34<00:00,  8.05it/s]\n",
      "  0%|          | 0/732 [00:00<?, ?it/s]"
     ]
    },
    {
     "name": "stdout",
     "output_type": "stream",
     "text": [
      "Mean train loss: 0.034486\n"
     ]
    },
    {
     "name": "stderr",
     "output_type": "stream",
     "text": [
      "100%|██████████| 732/732 [00:30<00:00, 23.70it/s]\n",
      "  0%|          | 0/765 [00:00<?, ?it/s]"
     ]
    },
    {
     "name": "stdout",
     "output_type": "stream",
     "text": [
      "Mean val loss: 0.036888\n",
      "EarlyStopping counter: 2 out of 15\n",
      "Epoch 128...\n"
     ]
    },
    {
     "name": "stderr",
     "output_type": "stream",
     "text": [
      "100%|██████████| 765/765 [01:34<00:00,  8.09it/s]\n",
      "  0%|          | 0/732 [00:00<?, ?it/s]"
     ]
    },
    {
     "name": "stdout",
     "output_type": "stream",
     "text": [
      "Mean train loss: 0.034434\n"
     ]
    },
    {
     "name": "stderr",
     "output_type": "stream",
     "text": [
      "100%|██████████| 732/732 [00:31<00:00, 23.51it/s]\n",
      "  0%|          | 0/765 [00:00<?, ?it/s]"
     ]
    },
    {
     "name": "stdout",
     "output_type": "stream",
     "text": [
      "Mean val loss: 0.037011\n",
      "EarlyStopping counter: 3 out of 15\n",
      "Epoch 129...\n"
     ]
    },
    {
     "name": "stderr",
     "output_type": "stream",
     "text": [
      "100%|██████████| 765/765 [01:34<00:00,  8.09it/s]\n",
      "  0%|          | 0/732 [00:00<?, ?it/s]"
     ]
    },
    {
     "name": "stdout",
     "output_type": "stream",
     "text": [
      "Mean train loss: 0.034407\n"
     ]
    },
    {
     "name": "stderr",
     "output_type": "stream",
     "text": [
      "100%|██████████| 732/732 [00:30<00:00, 23.67it/s]\n",
      "  0%|          | 0/765 [00:00<?, ?it/s]"
     ]
    },
    {
     "name": "stdout",
     "output_type": "stream",
     "text": [
      "Mean val loss: 0.036824\n",
      "EarlyStopping counter: 4 out of 15\n",
      "Epoch 130...\n"
     ]
    },
    {
     "name": "stderr",
     "output_type": "stream",
     "text": [
      "100%|██████████| 765/765 [01:34<00:00,  8.08it/s]\n",
      "  0%|          | 0/732 [00:00<?, ?it/s]"
     ]
    },
    {
     "name": "stdout",
     "output_type": "stream",
     "text": [
      "Mean train loss: 0.034423\n"
     ]
    },
    {
     "name": "stderr",
     "output_type": "stream",
     "text": [
      "100%|██████████| 732/732 [00:30<00:00, 23.64it/s]\n"
     ]
    },
    {
     "name": "stdout",
     "output_type": "stream",
     "text": [
      "Mean val loss: 0.036547\n"
     ]
    },
    {
     "name": "stderr",
     "output_type": "stream",
     "text": [
      "\r",
      "  0%|          | 0/765 [00:00<?, ?it/s]"
     ]
    },
    {
     "name": "stdout",
     "output_type": "stream",
     "text": [
      "Epoch 131...\n"
     ]
    },
    {
     "name": "stderr",
     "output_type": "stream",
     "text": [
      "100%|██████████| 765/765 [01:34<00:00,  8.06it/s]\n",
      "  0%|          | 0/732 [00:00<?, ?it/s]"
     ]
    },
    {
     "name": "stdout",
     "output_type": "stream",
     "text": [
      "Mean train loss: 0.034391\n"
     ]
    },
    {
     "name": "stderr",
     "output_type": "stream",
     "text": [
      "100%|██████████| 732/732 [00:30<00:00, 23.62it/s]\n",
      "  0%|          | 0/765 [00:00<?, ?it/s]"
     ]
    },
    {
     "name": "stdout",
     "output_type": "stream",
     "text": [
      "Mean val loss: 0.037349\n",
      "EarlyStopping counter: 1 out of 15\n",
      "Epoch 132...\n"
     ]
    },
    {
     "name": "stderr",
     "output_type": "stream",
     "text": [
      "100%|██████████| 765/765 [01:35<00:00,  8.02it/s]\n",
      "  0%|          | 0/732 [00:00<?, ?it/s]"
     ]
    },
    {
     "name": "stdout",
     "output_type": "stream",
     "text": [
      "Mean train loss: 0.034336\n"
     ]
    },
    {
     "name": "stderr",
     "output_type": "stream",
     "text": [
      "100%|██████████| 732/732 [00:31<00:00, 23.35it/s]\n",
      "  0%|          | 0/765 [00:00<?, ?it/s]"
     ]
    },
    {
     "name": "stdout",
     "output_type": "stream",
     "text": [
      "Mean val loss: 0.037897\n",
      "EarlyStopping counter: 2 out of 15\n",
      "Epoch 133...\n"
     ]
    },
    {
     "name": "stderr",
     "output_type": "stream",
     "text": [
      "100%|██████████| 765/765 [01:34<00:00,  8.06it/s]\n",
      "  0%|          | 0/732 [00:00<?, ?it/s]"
     ]
    },
    {
     "name": "stdout",
     "output_type": "stream",
     "text": [
      "Mean train loss: 0.034562\n"
     ]
    },
    {
     "name": "stderr",
     "output_type": "stream",
     "text": [
      "100%|██████████| 732/732 [00:30<00:00, 23.77it/s]\n",
      "  0%|          | 0/765 [00:00<?, ?it/s]"
     ]
    },
    {
     "name": "stdout",
     "output_type": "stream",
     "text": [
      "Mean val loss: 0.037017\n",
      "EarlyStopping counter: 3 out of 15\n",
      "Epoch 134...\n"
     ]
    },
    {
     "name": "stderr",
     "output_type": "stream",
     "text": [
      "100%|██████████| 765/765 [01:35<00:00,  8.05it/s]\n",
      "  0%|          | 0/732 [00:00<?, ?it/s]"
     ]
    },
    {
     "name": "stdout",
     "output_type": "stream",
     "text": [
      "Mean train loss: 0.034423\n"
     ]
    },
    {
     "name": "stderr",
     "output_type": "stream",
     "text": [
      "100%|██████████| 732/732 [00:31<00:00, 23.46it/s]\n",
      "  0%|          | 0/765 [00:00<?, ?it/s]"
     ]
    },
    {
     "name": "stdout",
     "output_type": "stream",
     "text": [
      "Mean val loss: 0.036755\n",
      "EarlyStopping counter: 4 out of 15\n",
      "Epoch 135...\n"
     ]
    },
    {
     "name": "stderr",
     "output_type": "stream",
     "text": [
      "100%|██████████| 765/765 [01:34<00:00,  8.10it/s]\n",
      "  0%|          | 0/732 [00:00<?, ?it/s]"
     ]
    },
    {
     "name": "stdout",
     "output_type": "stream",
     "text": [
      "Mean train loss: 0.034363\n"
     ]
    },
    {
     "name": "stderr",
     "output_type": "stream",
     "text": [
      "100%|██████████| 732/732 [00:31<00:00, 23.59it/s]\n",
      "  0%|          | 0/765 [00:00<?, ?it/s]"
     ]
    },
    {
     "name": "stdout",
     "output_type": "stream",
     "text": [
      "Mean val loss: 0.036958\n",
      "EarlyStopping counter: 5 out of 15\n",
      "Epoch 136...\n"
     ]
    },
    {
     "name": "stderr",
     "output_type": "stream",
     "text": [
      "100%|██████████| 765/765 [01:34<00:00,  8.07it/s]\n",
      "  0%|          | 0/732 [00:00<?, ?it/s]"
     ]
    },
    {
     "name": "stdout",
     "output_type": "stream",
     "text": [
      "Mean train loss: 0.034348\n"
     ]
    },
    {
     "name": "stderr",
     "output_type": "stream",
     "text": [
      "100%|██████████| 732/732 [00:31<00:00, 23.56it/s]\n"
     ]
    },
    {
     "name": "stdout",
     "output_type": "stream",
     "text": [
      "Mean val loss: 0.03654\n"
     ]
    },
    {
     "name": "stderr",
     "output_type": "stream",
     "text": [
      "\r",
      "  0%|          | 0/765 [00:00<?, ?it/s]"
     ]
    },
    {
     "name": "stdout",
     "output_type": "stream",
     "text": [
      "Epoch 137...\n"
     ]
    },
    {
     "name": "stderr",
     "output_type": "stream",
     "text": [
      "100%|██████████| 765/765 [01:34<00:00,  8.08it/s]\n",
      "  0%|          | 0/732 [00:00<?, ?it/s]"
     ]
    },
    {
     "name": "stdout",
     "output_type": "stream",
     "text": [
      "Mean train loss: 0.034326\n"
     ]
    },
    {
     "name": "stderr",
     "output_type": "stream",
     "text": [
      "100%|██████████| 732/732 [00:30<00:00, 23.74it/s]\n",
      "  0%|          | 0/765 [00:00<?, ?it/s]"
     ]
    },
    {
     "name": "stdout",
     "output_type": "stream",
     "text": [
      "Mean val loss: 0.039996\n",
      "EarlyStopping counter: 1 out of 15\n",
      "Epoch 138...\n"
     ]
    },
    {
     "name": "stderr",
     "output_type": "stream",
     "text": [
      "100%|██████████| 765/765 [01:34<00:00,  8.09it/s]\n",
      "  0%|          | 0/732 [00:00<?, ?it/s]"
     ]
    },
    {
     "name": "stdout",
     "output_type": "stream",
     "text": [
      "Mean train loss: 0.034227\n"
     ]
    },
    {
     "name": "stderr",
     "output_type": "stream",
     "text": [
      "100%|██████████| 732/732 [00:31<00:00, 23.53it/s]\n"
     ]
    },
    {
     "name": "stdout",
     "output_type": "stream",
     "text": [
      "Mean val loss: 0.036292\n"
     ]
    },
    {
     "name": "stderr",
     "output_type": "stream",
     "text": [
      "\r",
      "  0%|          | 0/765 [00:00<?, ?it/s]"
     ]
    },
    {
     "name": "stdout",
     "output_type": "stream",
     "text": [
      "Epoch 139...\n"
     ]
    },
    {
     "name": "stderr",
     "output_type": "stream",
     "text": [
      "100%|██████████| 765/765 [01:34<00:00,  8.09it/s]\n",
      "  0%|          | 0/732 [00:00<?, ?it/s]"
     ]
    },
    {
     "name": "stdout",
     "output_type": "stream",
     "text": [
      "Mean train loss: 0.034276\n"
     ]
    },
    {
     "name": "stderr",
     "output_type": "stream",
     "text": [
      "100%|██████████| 732/732 [00:31<00:00, 23.47it/s]\n",
      "  0%|          | 0/765 [00:00<?, ?it/s]"
     ]
    },
    {
     "name": "stdout",
     "output_type": "stream",
     "text": [
      "Mean val loss: 0.036566\n",
      "EarlyStopping counter: 1 out of 15\n",
      "Epoch 140...\n"
     ]
    },
    {
     "name": "stderr",
     "output_type": "stream",
     "text": [
      "100%|██████████| 765/765 [01:34<00:00,  8.06it/s]\n",
      "  0%|          | 0/732 [00:00<?, ?it/s]"
     ]
    },
    {
     "name": "stdout",
     "output_type": "stream",
     "text": [
      "Mean train loss: 0.034273\n"
     ]
    },
    {
     "name": "stderr",
     "output_type": "stream",
     "text": [
      "100%|██████████| 732/732 [00:30<00:00, 23.62it/s]\n",
      "  0%|          | 0/765 [00:00<?, ?it/s]"
     ]
    },
    {
     "name": "stdout",
     "output_type": "stream",
     "text": [
      "Mean val loss: 0.043201\n",
      "EarlyStopping counter: 2 out of 15\n",
      "Epoch 141...\n"
     ]
    },
    {
     "name": "stderr",
     "output_type": "stream",
     "text": [
      "100%|██████████| 765/765 [01:34<00:00,  8.08it/s]\n",
      "  0%|          | 0/732 [00:00<?, ?it/s]"
     ]
    },
    {
     "name": "stdout",
     "output_type": "stream",
     "text": [
      "Mean train loss: 0.034291\n"
     ]
    },
    {
     "name": "stderr",
     "output_type": "stream",
     "text": [
      "100%|██████████| 732/732 [00:30<00:00, 23.63it/s]\n",
      "  0%|          | 0/765 [00:00<?, ?it/s]"
     ]
    },
    {
     "name": "stdout",
     "output_type": "stream",
     "text": [
      "Mean val loss: 0.036685\n",
      "EarlyStopping counter: 3 out of 15\n",
      "Epoch 142...\n"
     ]
    },
    {
     "name": "stderr",
     "output_type": "stream",
     "text": [
      "100%|██████████| 765/765 [01:34<00:00,  8.11it/s]\n",
      "  0%|          | 0/732 [00:00<?, ?it/s]"
     ]
    },
    {
     "name": "stdout",
     "output_type": "stream",
     "text": [
      "Mean train loss: 0.034157\n"
     ]
    },
    {
     "name": "stderr",
     "output_type": "stream",
     "text": [
      "100%|██████████| 732/732 [00:30<00:00, 23.71it/s]\n",
      "  0%|          | 0/765 [00:00<?, ?it/s]"
     ]
    },
    {
     "name": "stdout",
     "output_type": "stream",
     "text": [
      "Mean val loss: 0.036617\n",
      "EarlyStopping counter: 4 out of 15\n",
      "Epoch 143...\n"
     ]
    },
    {
     "name": "stderr",
     "output_type": "stream",
     "text": [
      "100%|██████████| 765/765 [01:34<00:00,  8.11it/s]\n",
      "  0%|          | 0/732 [00:00<?, ?it/s]"
     ]
    },
    {
     "name": "stdout",
     "output_type": "stream",
     "text": [
      "Mean train loss: 0.034205\n"
     ]
    },
    {
     "name": "stderr",
     "output_type": "stream",
     "text": [
      "100%|██████████| 732/732 [00:30<00:00, 23.78it/s]\n",
      "  0%|          | 0/765 [00:00<?, ?it/s]"
     ]
    },
    {
     "name": "stdout",
     "output_type": "stream",
     "text": [
      "Mean val loss: 0.036803\n",
      "EarlyStopping counter: 5 out of 15\n",
      "Epoch 144...\n"
     ]
    },
    {
     "name": "stderr",
     "output_type": "stream",
     "text": [
      "100%|██████████| 765/765 [01:34<00:00,  8.06it/s]\n",
      "  0%|          | 0/732 [00:00<?, ?it/s]"
     ]
    },
    {
     "name": "stdout",
     "output_type": "stream",
     "text": [
      "Mean train loss: 0.03416\n"
     ]
    },
    {
     "name": "stderr",
     "output_type": "stream",
     "text": [
      "100%|██████████| 732/732 [00:30<00:00, 23.64it/s]\n",
      "  0%|          | 0/765 [00:00<?, ?it/s]"
     ]
    },
    {
     "name": "stdout",
     "output_type": "stream",
     "text": [
      "Mean val loss: 0.036995\n",
      "EarlyStopping counter: 6 out of 15\n",
      "Epoch 145...\n"
     ]
    },
    {
     "name": "stderr",
     "output_type": "stream",
     "text": [
      "100%|██████████| 765/765 [01:34<00:00,  8.09it/s]\n",
      "  0%|          | 0/732 [00:00<?, ?it/s]"
     ]
    },
    {
     "name": "stdout",
     "output_type": "stream",
     "text": [
      "Mean train loss: 0.034146\n"
     ]
    },
    {
     "name": "stderr",
     "output_type": "stream",
     "text": [
      "100%|██████████| 732/732 [00:30<00:00, 23.62it/s]\n",
      "  0%|          | 0/765 [00:00<?, ?it/s]"
     ]
    },
    {
     "name": "stdout",
     "output_type": "stream",
     "text": [
      "Mean val loss: 0.037507\n",
      "EarlyStopping counter: 7 out of 15\n",
      "Epoch 146...\n"
     ]
    },
    {
     "name": "stderr",
     "output_type": "stream",
     "text": [
      "100%|██████████| 765/765 [01:34<00:00,  8.08it/s]\n",
      "  0%|          | 0/732 [00:00<?, ?it/s]"
     ]
    },
    {
     "name": "stdout",
     "output_type": "stream",
     "text": [
      "Mean train loss: 0.034157\n"
     ]
    },
    {
     "name": "stderr",
     "output_type": "stream",
     "text": [
      "100%|██████████| 732/732 [00:31<00:00, 23.56it/s]\n"
     ]
    },
    {
     "name": "stdout",
     "output_type": "stream",
     "text": [
      "Mean val loss: 0.036275\n"
     ]
    },
    {
     "name": "stderr",
     "output_type": "stream",
     "text": [
      "\r",
      "  0%|          | 0/765 [00:00<?, ?it/s]"
     ]
    },
    {
     "name": "stdout",
     "output_type": "stream",
     "text": [
      "Epoch 147...\n"
     ]
    },
    {
     "name": "stderr",
     "output_type": "stream",
     "text": [
      "100%|██████████| 765/765 [01:34<00:00,  8.09it/s]\n",
      "  0%|          | 0/732 [00:00<?, ?it/s]"
     ]
    },
    {
     "name": "stdout",
     "output_type": "stream",
     "text": [
      "Mean train loss: 0.034085\n"
     ]
    },
    {
     "name": "stderr",
     "output_type": "stream",
     "text": [
      "100%|██████████| 732/732 [00:31<00:00, 23.49it/s]\n",
      "  0%|          | 0/765 [00:00<?, ?it/s]"
     ]
    },
    {
     "name": "stdout",
     "output_type": "stream",
     "text": [
      "Mean val loss: 0.039014\n",
      "EarlyStopping counter: 1 out of 15\n",
      "Epoch 148...\n"
     ]
    },
    {
     "name": "stderr",
     "output_type": "stream",
     "text": [
      "100%|██████████| 765/765 [01:35<00:00,  8.05it/s]\n",
      "  0%|          | 0/732 [00:00<?, ?it/s]"
     ]
    },
    {
     "name": "stdout",
     "output_type": "stream",
     "text": [
      "Mean train loss: 0.03401\n"
     ]
    },
    {
     "name": "stderr",
     "output_type": "stream",
     "text": [
      "100%|██████████| 732/732 [00:30<00:00, 23.63it/s]\n",
      "  0%|          | 0/765 [00:00<?, ?it/s]"
     ]
    },
    {
     "name": "stdout",
     "output_type": "stream",
     "text": [
      "Mean val loss: 0.039158\n",
      "EarlyStopping counter: 2 out of 15\n",
      "Epoch 149...\n"
     ]
    },
    {
     "name": "stderr",
     "output_type": "stream",
     "text": [
      "100%|██████████| 765/765 [01:34<00:00,  8.09it/s]\n",
      "  0%|          | 0/732 [00:00<?, ?it/s]"
     ]
    },
    {
     "name": "stdout",
     "output_type": "stream",
     "text": [
      "Mean train loss: 0.034063\n"
     ]
    },
    {
     "name": "stderr",
     "output_type": "stream",
     "text": [
      "100%|██████████| 732/732 [00:30<00:00, 23.66it/s]\n",
      "  0%|          | 0/765 [00:00<?, ?it/s]"
     ]
    },
    {
     "name": "stdout",
     "output_type": "stream",
     "text": [
      "Mean val loss: 0.036991\n",
      "EarlyStopping counter: 3 out of 15\n",
      "Epoch 150...\n"
     ]
    },
    {
     "name": "stderr",
     "output_type": "stream",
     "text": [
      "100%|██████████| 765/765 [01:34<00:00,  8.08it/s]\n",
      "  0%|          | 0/732 [00:00<?, ?it/s]"
     ]
    },
    {
     "name": "stdout",
     "output_type": "stream",
     "text": [
      "Mean train loss: 0.034026\n"
     ]
    },
    {
     "name": "stderr",
     "output_type": "stream",
     "text": [
      "100%|██████████| 732/732 [00:31<00:00, 23.54it/s]\n",
      "  0%|          | 0/765 [00:00<?, ?it/s]"
     ]
    },
    {
     "name": "stdout",
     "output_type": "stream",
     "text": [
      "Mean val loss: 0.037929\n",
      "EarlyStopping counter: 4 out of 15\n",
      "Epoch 151...\n"
     ]
    },
    {
     "name": "stderr",
     "output_type": "stream",
     "text": [
      "100%|██████████| 765/765 [01:34<00:00,  8.07it/s]\n",
      "  0%|          | 0/732 [00:00<?, ?it/s]"
     ]
    },
    {
     "name": "stdout",
     "output_type": "stream",
     "text": [
      "Mean train loss: 0.034016\n"
     ]
    },
    {
     "name": "stderr",
     "output_type": "stream",
     "text": [
      "100%|██████████| 732/732 [00:31<00:00, 23.42it/s]\n",
      "  0%|          | 0/765 [00:00<?, ?it/s]"
     ]
    },
    {
     "name": "stdout",
     "output_type": "stream",
     "text": [
      "Mean val loss: 0.037019\n",
      "EarlyStopping counter: 5 out of 15\n",
      "Epoch 152...\n"
     ]
    },
    {
     "name": "stderr",
     "output_type": "stream",
     "text": [
      "100%|██████████| 765/765 [01:34<00:00,  8.09it/s]\n",
      "  0%|          | 0/732 [00:00<?, ?it/s]"
     ]
    },
    {
     "name": "stdout",
     "output_type": "stream",
     "text": [
      "Mean train loss: 0.033995\n"
     ]
    },
    {
     "name": "stderr",
     "output_type": "stream",
     "text": [
      "100%|██████████| 732/732 [00:30<00:00, 23.85it/s]\n",
      "  0%|          | 0/765 [00:00<?, ?it/s]"
     ]
    },
    {
     "name": "stdout",
     "output_type": "stream",
     "text": [
      "Mean val loss: 0.036971\n",
      "EarlyStopping counter: 6 out of 15\n",
      "Epoch 153...\n"
     ]
    },
    {
     "name": "stderr",
     "output_type": "stream",
     "text": [
      "100%|██████████| 765/765 [01:34<00:00,  8.06it/s]\n",
      "  0%|          | 0/732 [00:00<?, ?it/s]"
     ]
    },
    {
     "name": "stdout",
     "output_type": "stream",
     "text": [
      "Mean train loss: 0.034001\n"
     ]
    },
    {
     "name": "stderr",
     "output_type": "stream",
     "text": [
      "100%|██████████| 732/732 [00:31<00:00, 23.49it/s]\n",
      "  0%|          | 0/765 [00:00<?, ?it/s]"
     ]
    },
    {
     "name": "stdout",
     "output_type": "stream",
     "text": [
      "Mean val loss: 0.037686\n",
      "EarlyStopping counter: 7 out of 15\n",
      "Epoch 154...\n"
     ]
    },
    {
     "name": "stderr",
     "output_type": "stream",
     "text": [
      "100%|██████████| 765/765 [01:34<00:00,  8.06it/s]\n",
      "  0%|          | 0/732 [00:00<?, ?it/s]"
     ]
    },
    {
     "name": "stdout",
     "output_type": "stream",
     "text": [
      "Mean train loss: 0.033975\n"
     ]
    },
    {
     "name": "stderr",
     "output_type": "stream",
     "text": [
      "100%|██████████| 732/732 [00:31<00:00, 23.50it/s]\n"
     ]
    },
    {
     "name": "stdout",
     "output_type": "stream",
     "text": [
      "Mean val loss: 0.036085\n"
     ]
    },
    {
     "name": "stderr",
     "output_type": "stream",
     "text": [
      "\r",
      "  0%|          | 0/765 [00:00<?, ?it/s]"
     ]
    },
    {
     "name": "stdout",
     "output_type": "stream",
     "text": [
      "Epoch 155...\n"
     ]
    },
    {
     "name": "stderr",
     "output_type": "stream",
     "text": [
      "100%|██████████| 765/765 [01:35<00:00,  8.00it/s]\n",
      "  0%|          | 0/732 [00:00<?, ?it/s]"
     ]
    },
    {
     "name": "stdout",
     "output_type": "stream",
     "text": [
      "Mean train loss: 0.033935\n"
     ]
    },
    {
     "name": "stderr",
     "output_type": "stream",
     "text": [
      "100%|██████████| 732/732 [00:31<00:00, 23.59it/s]\n",
      "  0%|          | 0/765 [00:00<?, ?it/s]"
     ]
    },
    {
     "name": "stdout",
     "output_type": "stream",
     "text": [
      "Mean val loss: 0.03802\n",
      "EarlyStopping counter: 1 out of 15\n",
      "Epoch 156...\n"
     ]
    },
    {
     "name": "stderr",
     "output_type": "stream",
     "text": [
      "100%|██████████| 765/765 [01:35<00:00,  8.04it/s]\n",
      "  0%|          | 0/732 [00:00<?, ?it/s]"
     ]
    },
    {
     "name": "stdout",
     "output_type": "stream",
     "text": [
      "Mean train loss: 0.034004\n"
     ]
    },
    {
     "name": "stderr",
     "output_type": "stream",
     "text": [
      "100%|██████████| 732/732 [00:31<00:00, 23.46it/s]\n",
      "  0%|          | 0/765 [00:00<?, ?it/s]"
     ]
    },
    {
     "name": "stdout",
     "output_type": "stream",
     "text": [
      "Mean val loss: 0.036505\n",
      "EarlyStopping counter: 2 out of 15\n",
      "Epoch 157...\n"
     ]
    },
    {
     "name": "stderr",
     "output_type": "stream",
     "text": [
      "100%|██████████| 765/765 [01:35<00:00,  8.04it/s]\n",
      "  0%|          | 0/732 [00:00<?, ?it/s]"
     ]
    },
    {
     "name": "stdout",
     "output_type": "stream",
     "text": [
      "Mean train loss: 0.033878\n"
     ]
    },
    {
     "name": "stderr",
     "output_type": "stream",
     "text": [
      "100%|██████████| 732/732 [00:31<00:00, 23.46it/s]\n",
      "  0%|          | 0/765 [00:00<?, ?it/s]"
     ]
    },
    {
     "name": "stdout",
     "output_type": "stream",
     "text": [
      "Mean val loss: 0.036978\n",
      "EarlyStopping counter: 3 out of 15\n",
      "Epoch 158...\n"
     ]
    },
    {
     "name": "stderr",
     "output_type": "stream",
     "text": [
      "100%|██████████| 765/765 [01:35<00:00,  8.02it/s]\n",
      "  0%|          | 0/732 [00:00<?, ?it/s]"
     ]
    },
    {
     "name": "stdout",
     "output_type": "stream",
     "text": [
      "Mean train loss: 0.033862\n"
     ]
    },
    {
     "name": "stderr",
     "output_type": "stream",
     "text": [
      "100%|██████████| 732/732 [00:30<00:00, 23.85it/s]\n",
      "  0%|          | 0/765 [00:00<?, ?it/s]"
     ]
    },
    {
     "name": "stdout",
     "output_type": "stream",
     "text": [
      "Mean val loss: 0.036221\n",
      "EarlyStopping counter: 4 out of 15\n",
      "Epoch 159...\n"
     ]
    },
    {
     "name": "stderr",
     "output_type": "stream",
     "text": [
      "100%|██████████| 765/765 [01:35<00:00,  8.03it/s]\n",
      "  0%|          | 0/732 [00:00<?, ?it/s]"
     ]
    },
    {
     "name": "stdout",
     "output_type": "stream",
     "text": [
      "Mean train loss: 0.033853\n"
     ]
    },
    {
     "name": "stderr",
     "output_type": "stream",
     "text": [
      "100%|██████████| 732/732 [00:31<00:00, 23.31it/s]\n",
      "  0%|          | 0/765 [00:00<?, ?it/s]"
     ]
    },
    {
     "name": "stdout",
     "output_type": "stream",
     "text": [
      "Mean val loss: 0.036562\n",
      "EarlyStopping counter: 5 out of 15\n",
      "Epoch 160...\n"
     ]
    },
    {
     "name": "stderr",
     "output_type": "stream",
     "text": [
      "100%|██████████| 765/765 [01:35<00:00,  8.04it/s]\n",
      "  0%|          | 0/732 [00:00<?, ?it/s]"
     ]
    },
    {
     "name": "stdout",
     "output_type": "stream",
     "text": [
      "Mean train loss: 0.033906\n"
     ]
    },
    {
     "name": "stderr",
     "output_type": "stream",
     "text": [
      "100%|██████████| 732/732 [00:31<00:00, 23.46it/s]\n",
      "  0%|          | 0/765 [00:00<?, ?it/s]"
     ]
    },
    {
     "name": "stdout",
     "output_type": "stream",
     "text": [
      "Mean val loss: 0.036925\n",
      "EarlyStopping counter: 6 out of 15\n",
      "Epoch 161...\n"
     ]
    },
    {
     "name": "stderr",
     "output_type": "stream",
     "text": [
      "100%|██████████| 765/765 [01:35<00:00,  8.05it/s]\n",
      "  0%|          | 0/732 [00:00<?, ?it/s]"
     ]
    },
    {
     "name": "stdout",
     "output_type": "stream",
     "text": [
      "Mean train loss: 0.033799\n"
     ]
    },
    {
     "name": "stderr",
     "output_type": "stream",
     "text": [
      "100%|██████████| 732/732 [00:31<00:00, 23.38it/s]\n",
      "  0%|          | 0/765 [00:00<?, ?it/s]"
     ]
    },
    {
     "name": "stdout",
     "output_type": "stream",
     "text": [
      "Mean val loss: 0.036934\n",
      "EarlyStopping counter: 7 out of 15\n",
      "Epoch 162...\n"
     ]
    },
    {
     "name": "stderr",
     "output_type": "stream",
     "text": [
      "100%|██████████| 765/765 [01:35<00:00,  8.05it/s]\n",
      "  0%|          | 0/732 [00:00<?, ?it/s]"
     ]
    },
    {
     "name": "stdout",
     "output_type": "stream",
     "text": [
      "Mean train loss: 0.033814\n"
     ]
    },
    {
     "name": "stderr",
     "output_type": "stream",
     "text": [
      "100%|██████████| 732/732 [00:30<00:00, 23.70it/s]\n",
      "  0%|          | 0/765 [00:00<?, ?it/s]"
     ]
    },
    {
     "name": "stdout",
     "output_type": "stream",
     "text": [
      "Mean val loss: 0.0371\n",
      "EarlyStopping counter: 8 out of 15\n",
      "Epoch 163...\n"
     ]
    },
    {
     "name": "stderr",
     "output_type": "stream",
     "text": [
      "100%|██████████| 765/765 [01:34<00:00,  8.05it/s]\n",
      "  0%|          | 0/732 [00:00<?, ?it/s]"
     ]
    },
    {
     "name": "stdout",
     "output_type": "stream",
     "text": [
      "Mean train loss: 0.033773\n"
     ]
    },
    {
     "name": "stderr",
     "output_type": "stream",
     "text": [
      "100%|██████████| 732/732 [00:31<00:00, 23.52it/s]\n",
      "  0%|          | 0/765 [00:00<?, ?it/s]"
     ]
    },
    {
     "name": "stdout",
     "output_type": "stream",
     "text": [
      "Mean val loss: 0.037474\n",
      "EarlyStopping counter: 9 out of 15\n",
      "Epoch 164...\n"
     ]
    },
    {
     "name": "stderr",
     "output_type": "stream",
     "text": [
      "100%|██████████| 765/765 [01:34<00:00,  8.06it/s]\n",
      "  0%|          | 0/732 [00:00<?, ?it/s]"
     ]
    },
    {
     "name": "stdout",
     "output_type": "stream",
     "text": [
      "Mean train loss: 0.033725\n"
     ]
    },
    {
     "name": "stderr",
     "output_type": "stream",
     "text": [
      "100%|██████████| 732/732 [00:31<00:00, 23.50it/s]\n",
      "  0%|          | 0/765 [00:00<?, ?it/s]"
     ]
    },
    {
     "name": "stdout",
     "output_type": "stream",
     "text": [
      "Mean val loss: 0.037453\n",
      "EarlyStopping counter: 10 out of 15\n",
      "Epoch 165...\n"
     ]
    },
    {
     "name": "stderr",
     "output_type": "stream",
     "text": [
      "100%|██████████| 765/765 [01:34<00:00,  8.06it/s]\n",
      "  0%|          | 0/732 [00:00<?, ?it/s]"
     ]
    },
    {
     "name": "stdout",
     "output_type": "stream",
     "text": [
      "Mean train loss: 0.033685\n"
     ]
    },
    {
     "name": "stderr",
     "output_type": "stream",
     "text": [
      "100%|██████████| 732/732 [00:30<00:00, 23.67it/s]\n",
      "  0%|          | 0/765 [00:00<?, ?it/s]"
     ]
    },
    {
     "name": "stdout",
     "output_type": "stream",
     "text": [
      "Mean val loss: 0.037687\n",
      "EarlyStopping counter: 11 out of 15\n",
      "Epoch 166...\n"
     ]
    },
    {
     "name": "stderr",
     "output_type": "stream",
     "text": [
      "100%|██████████| 765/765 [01:34<00:00,  8.07it/s]\n",
      "  0%|          | 0/732 [00:00<?, ?it/s]"
     ]
    },
    {
     "name": "stdout",
     "output_type": "stream",
     "text": [
      "Mean train loss: 0.033729\n"
     ]
    },
    {
     "name": "stderr",
     "output_type": "stream",
     "text": [
      "100%|██████████| 732/732 [00:30<00:00, 23.72it/s]\n",
      "  0%|          | 0/765 [00:00<?, ?it/s]"
     ]
    },
    {
     "name": "stdout",
     "output_type": "stream",
     "text": [
      "Mean val loss: 0.038523\n",
      "EarlyStopping counter: 12 out of 15\n",
      "Epoch 167...\n"
     ]
    },
    {
     "name": "stderr",
     "output_type": "stream",
     "text": [
      "100%|██████████| 765/765 [01:35<00:00,  8.04it/s]\n",
      "  0%|          | 0/732 [00:00<?, ?it/s]"
     ]
    },
    {
     "name": "stdout",
     "output_type": "stream",
     "text": [
      "Mean train loss: 0.033671\n"
     ]
    },
    {
     "name": "stderr",
     "output_type": "stream",
     "text": [
      "100%|██████████| 732/732 [00:31<00:00, 23.28it/s]\n",
      "  0%|          | 0/765 [00:00<?, ?it/s]"
     ]
    },
    {
     "name": "stdout",
     "output_type": "stream",
     "text": [
      "Mean val loss: 0.039588\n",
      "EarlyStopping counter: 13 out of 15\n",
      "Epoch 168...\n"
     ]
    },
    {
     "name": "stderr",
     "output_type": "stream",
     "text": [
      "100%|██████████| 765/765 [01:34<00:00,  8.07it/s]\n",
      "  0%|          | 0/732 [00:00<?, ?it/s]"
     ]
    },
    {
     "name": "stdout",
     "output_type": "stream",
     "text": [
      "Mean train loss: 0.03362\n"
     ]
    },
    {
     "name": "stderr",
     "output_type": "stream",
     "text": [
      "100%|██████████| 732/732 [00:31<00:00, 23.49it/s]\n",
      "  0%|          | 0/765 [00:00<?, ?it/s]"
     ]
    },
    {
     "name": "stdout",
     "output_type": "stream",
     "text": [
      "Mean val loss: 0.038189\n",
      "EarlyStopping counter: 14 out of 15\n",
      "Epoch 169...\n"
     ]
    },
    {
     "name": "stderr",
     "output_type": "stream",
     "text": [
      "100%|██████████| 765/765 [01:34<00:00,  8.06it/s]\n",
      "  0%|          | 0/732 [00:00<?, ?it/s]"
     ]
    },
    {
     "name": "stdout",
     "output_type": "stream",
     "text": [
      "Mean train loss: 0.033588\n"
     ]
    },
    {
     "name": "stderr",
     "output_type": "stream",
     "text": [
      "100%|██████████| 732/732 [00:31<00:00, 23.49it/s]\n"
     ]
    },
    {
     "name": "stdout",
     "output_type": "stream",
     "text": [
      "Mean val loss: 0.037869\n",
      "EarlyStopping counter: 15 out of 15\n"
     ]
    },
    {
     "name": "stderr",
     "output_type": "stream",
     "text": [
      "100%|██████████| 259/259 [02:46<00:00,  1.56it/s]\n",
      "100%|██████████| 810/810 [09:09<00:00,  1.48it/s]\n",
      "100%|██████████| 788/788 [08:48<00:00,  1.49it/s]\n",
      "100%|██████████| 255/255 [02:39<00:00,  1.60it/s]\n",
      "100%|██████████| 788/788 [08:16<00:00,  1.59it/s]\n",
      "100%|██████████| 788/788 [08:09<00:00,  1.61it/s]\n",
      "100%|██████████| 799/799 [08:29<00:00,  1.57it/s]\n",
      "100%|██████████| 799/799 [08:29<00:00,  1.57it/s]\n",
      "100%|██████████| 799/799 [08:39<00:00,  1.54it/s]\n",
      " 38%|███▊      | 302/799 [03:17<05:21,  1.55it/s]IOPub message rate exceeded.\n",
      "The notebook server will temporarily stop sending output\n",
      "to the client in order to avoid crashing it.\n",
      "To change this limit, set the config variable\n",
      "`--NotebookApp.iopub_msg_rate_limit`.\n",
      "\n",
      "Current values:\n",
      "NotebookApp.iopub_msg_rate_limit=1000.0 (msgs/sec)\n",
      "NotebookApp.rate_limit_window=3.0 (secs)\n",
      "\n"
     ]
    }
   ],
   "source": [
    "results = train_loop(\n",
    "    model=model,\n",
    "    dataloader_train=dataloader_train, \n",
    "    dataloader_val=dataloader_val,\n",
    "    dataloaders_test=dataloaders_test,\n",
    "    criterion=criterion, \n",
    "    optimizer=optimizer, \n",
    "    scheduler=scheduler,\n",
    "    metrics=metrics,\n",
    "    exp_name=data_conf['conf_name'],\n",
    "    **train_conf)"
   ]
  },
  {
   "cell_type": "markdown",
   "metadata": {},
   "source": [
    "## Dump experiment results"
   ]
  },
  {
   "cell_type": "code",
   "execution_count": 22,
   "metadata": {},
   "outputs": [],
   "source": [
    "import pickle\n",
    "import json"
   ]
  },
  {
   "cell_type": "code",
   "execution_count": 23,
   "metadata": {},
   "outputs": [],
   "source": [
    "p = './{}_exp_results.pkl'.format(data_conf['conf_name'])\n",
    "with open(p, 'wb') as f:\n",
    "    pickle.dump(results, f)"
   ]
  },
  {
   "cell_type": "code",
   "execution_count": 28,
   "metadata": {},
   "outputs": [],
   "source": [
    "# p = './{}_exp_results.pkl'.format(data_conf['conf_name'])\n",
    "# with open(p, 'rb') as f:\n",
    "#     results = pickle.load(f)"
   ]
  },
  {
   "cell_type": "code",
   "execution_count": 11,
   "metadata": {},
   "outputs": [
    {
     "data": {
      "text/plain": [
       "IncompatibleKeys(missing_keys=[], unexpected_keys=[])"
      ]
     },
     "execution_count": 11,
     "metadata": {},
     "output_type": "execute_result"
    }
   ],
   "source": [
    "import torch\n",
    "model.load_state_dict(torch.load('./{}.pt'.format(data_conf['conf_name'])))"
   ]
  },
  {
   "cell_type": "markdown",
   "metadata": {},
   "source": [
    "## Train and validation losses"
   ]
  },
  {
   "cell_type": "code",
   "execution_count": 24,
   "metadata": {},
   "outputs": [],
   "source": [
    "from itertools import chain"
   ]
  },
  {
   "cell_type": "code",
   "execution_count": 25,
   "metadata": {},
   "outputs": [],
   "source": [
    "train_losses = list(chain(*[item for item in results['train_losses']]))\n",
    "val_losses = list(chain(*[item for item in results['val_losses']]))"
   ]
  },
  {
   "cell_type": "code",
   "execution_count": 26,
   "metadata": {},
   "outputs": [],
   "source": [
    "def moving_average(a, n=5) :\n",
    "    ret = np.cumsum([a[0]] * (n - 1) + a, dtype=float)\n",
    "    ret[n:] = ret[n:] - ret[:-n]\n",
    "    return ret[n - 1:] / n"
   ]
  },
  {
   "cell_type": "code",
   "execution_count": 27,
   "metadata": {},
   "outputs": [
    {
     "data": {
      "image/png": "[encoded data removed]",
      "text/plain": [
       "<Figure size 720x720 with 1 Axes>"
      ]
     },
     "metadata": {
      "needs_background": "light"
     },
     "output_type": "display_data"
    }
   ],
   "source": [
    "plt.figure(figsize=(10, 10))\n",
    "plt.title('Moving-averaged batch losses')\n",
    "plt.plot(np.arange(len(train_losses)), moving_average(train_losses), label='train')\n",
    "plt.plot(np.arange(len(val_losses)), moving_average(val_losses), label='validation')\n",
    "\n",
    "plt.legend(loc='best')\n",
    "plt.yscale('log')\n",
    "\n",
    "# plt.ylim([1e-2, 1])\n",
    "plt.show()"
   ]
  },
  {
   "cell_type": "code",
   "execution_count": 28,
   "metadata": {
    "scrolled": true
   },
   "outputs": [],
   "source": [
    "mean_train_loss = [np.mean(item) for item in results['train_losses']]\n",
    "mean_val_loss = [np.mean(item) for item in results['val_losses']]"
   ]
  },
  {
   "cell_type": "code",
   "execution_count": 29,
   "metadata": {},
   "outputs": [
    {
     "data": {
      "image/png": "[encoded data removed]",
      "text/plain": [
       "<Figure size 720x720 with 1 Axes>"
      ]
     },
     "metadata": {
      "needs_background": "light"
     },
     "output_type": "display_data"
    }
   ],
   "source": [
    "plt.figure(figsize=(10, 10))\n",
    "plt.title('Epoch losses')\n",
    "plt.plot(np.arange(len(mean_train_loss)) + 1, mean_train_loss, label='train')\n",
    "plt.plot(np.arange(len(mean_val_loss)) + 1, mean_val_loss, label='val')\n",
    "\n",
    "plt.yscale('log')\n",
    "plt.legend(loc='best')\n",
    "\n",
    "plt.xlim([1, len(mean_train_loss) + 1])\n",
    "plt.show()"
   ]
  },
  {
   "cell_type": "markdown",
   "metadata": {},
   "source": [
    "## Results"
   ]
  },
  {
   "cell_type": "code",
   "execution_count": 30,
   "metadata": {},
   "outputs": [],
   "source": [
    "import pandas as pd"
   ]
  },
  {
   "cell_type": "code",
   "execution_count": 31,
   "metadata": {},
   "outputs": [],
   "source": [
    "from visualization_utils import make_df"
   ]
  },
  {
   "cell_type": "code",
   "execution_count": 32,
   "metadata": {},
   "outputs": [
    {
     "data": {
      "text/html": [
       "<div>\n",
       "<style scoped>\n",
       "    .dataframe tbody tr th:only-of-type {\n",
       "        vertical-align: middle;\n",
       "    }\n",
       "\n",
       "    .dataframe tbody tr th {\n",
       "        vertical-align: top;\n",
       "    }\n",
       "\n",
       "    .dataframe thead th {\n",
       "        text-align: right;\n",
       "    }\n",
       "</style>\n",
       "<table border=\"1\" class=\"dataframe\">\n",
       "  <thead>\n",
       "    <tr style=\"text-align: right;\">\n",
       "      <th></th>\n",
       "      <th>accuracy</th>\n",
       "      <th>precision</th>\n",
       "      <th>recall</th>\n",
       "      <th>f1</th>\n",
       "      <th>pr_auc</th>\n",
       "      <th>iou</th>\n",
       "      <th>stack</th>\n",
       "      <th>model</th>\n",
       "    </tr>\n",
       "  </thead>\n",
       "  <tbody>\n",
       "    <tr>\n",
       "      <th>0</th>\n",
       "      <td>0.996201</td>\n",
       "      <td>0.964140</td>\n",
       "      <td>0.996259</td>\n",
       "      <td>0.979937</td>\n",
       "      <td>0.999102</td>\n",
       "      <td>0.960662</td>\n",
       "      <td>carb96558</td>\n",
       "      <td>basic</td>\n",
       "    </tr>\n",
       "    <tr>\n",
       "      <th>1</th>\n",
       "      <td>0.985941</td>\n",
       "      <td>0.885012</td>\n",
       "      <td>0.996278</td>\n",
       "      <td>0.937355</td>\n",
       "      <td>0.974190</td>\n",
       "      <td>0.882096</td>\n",
       "      <td>carb71</td>\n",
       "      <td>basic</td>\n",
       "    </tr>\n",
       "    <tr>\n",
       "      <th>2</th>\n",
       "      <td>0.984032</td>\n",
       "      <td>0.940322</td>\n",
       "      <td>0.911205</td>\n",
       "      <td>0.925535</td>\n",
       "      <td>0.963134</td>\n",
       "      <td>0.861391</td>\n",
       "      <td>carbRNF</td>\n",
       "      <td>basic</td>\n",
       "    </tr>\n",
       "    <tr>\n",
       "      <th>3</th>\n",
       "      <td>0.994198</td>\n",
       "      <td>0.992646</td>\n",
       "      <td>0.937872</td>\n",
       "      <td>0.964482</td>\n",
       "      <td>0.996507</td>\n",
       "      <td>0.931400</td>\n",
       "      <td>SPE_carb10_58_box3</td>\n",
       "      <td>basic</td>\n",
       "    </tr>\n",
       "    <tr>\n",
       "      <th>4</th>\n",
       "      <td>0.991108</td>\n",
       "      <td>0.967938</td>\n",
       "      <td>0.932526</td>\n",
       "      <td>0.949902</td>\n",
       "      <td>0.992718</td>\n",
       "      <td>0.904585</td>\n",
       "      <td>SoilAh-1</td>\n",
       "      <td>basic</td>\n",
       "    </tr>\n",
       "    <tr>\n",
       "      <th>5</th>\n",
       "      <td>0.995304</td>\n",
       "      <td>0.947635</td>\n",
       "      <td>0.986250</td>\n",
       "      <td>0.966557</td>\n",
       "      <td>0.997122</td>\n",
       "      <td>0.935279</td>\n",
       "      <td>SoilB-2</td>\n",
       "      <td>basic</td>\n",
       "    </tr>\n",
       "    <tr>\n",
       "      <th>6</th>\n",
       "      <td>0.991445</td>\n",
       "      <td>0.995556</td>\n",
       "      <td>0.937168</td>\n",
       "      <td>0.965480</td>\n",
       "      <td>0.980987</td>\n",
       "      <td>0.933263</td>\n",
       "      <td>TeTree_subset1</td>\n",
       "      <td>basic</td>\n",
       "    </tr>\n",
       "    <tr>\n",
       "      <th>7</th>\n",
       "      <td>0.993629</td>\n",
       "      <td>0.994350</td>\n",
       "      <td>0.948426</td>\n",
       "      <td>0.970845</td>\n",
       "      <td>0.985368</td>\n",
       "      <td>0.943342</td>\n",
       "      <td>TiTree_subset2</td>\n",
       "      <td>basic</td>\n",
       "    </tr>\n",
       "    <tr>\n",
       "      <th>8</th>\n",
       "      <td>0.992668</td>\n",
       "      <td>0.951496</td>\n",
       "      <td>0.993940</td>\n",
       "      <td>0.972255</td>\n",
       "      <td>0.998173</td>\n",
       "      <td>0.946007</td>\n",
       "      <td>Urna_22</td>\n",
       "      <td>basic</td>\n",
       "    </tr>\n",
       "    <tr>\n",
       "      <th>9</th>\n",
       "      <td>0.990481</td>\n",
       "      <td>0.959565</td>\n",
       "      <td>0.984809</td>\n",
       "      <td>0.972023</td>\n",
       "      <td>0.997878</td>\n",
       "      <td>0.945569</td>\n",
       "      <td>Urna_30</td>\n",
       "      <td>basic</td>\n",
       "    </tr>\n",
       "    <tr>\n",
       "      <th>10</th>\n",
       "      <td>0.985653</td>\n",
       "      <td>0.970469</td>\n",
       "      <td>0.934071</td>\n",
       "      <td>0.951922</td>\n",
       "      <td>0.978887</td>\n",
       "      <td>0.908255</td>\n",
       "      <td>Urna_34</td>\n",
       "      <td>basic</td>\n",
       "    </tr>\n",
       "  </tbody>\n",
       "</table>\n",
       "</div>"
      ],
      "text/plain": [
       "    accuracy  precision    recall        f1    pr_auc       iou  \\\n",
       "0   0.996201   0.964140  0.996259  0.979937  0.999102  0.960662   \n",
       "1   0.985941   0.885012  0.996278  0.937355  0.974190  0.882096   \n",
       "2   0.984032   0.940322  0.911205  0.925535  0.963134  0.861391   \n",
       "3   0.994198   0.992646  0.937872  0.964482  0.996507  0.931400   \n",
       "4   0.991108   0.967938  0.932526  0.949902  0.992718  0.904585   \n",
       "5   0.995304   0.947635  0.986250  0.966557  0.997122  0.935279   \n",
       "6   0.991445   0.995556  0.937168  0.965480  0.980987  0.933263   \n",
       "7   0.993629   0.994350  0.948426  0.970845  0.985368  0.943342   \n",
       "8   0.992668   0.951496  0.993940  0.972255  0.998173  0.946007   \n",
       "9   0.990481   0.959565  0.984809  0.972023  0.997878  0.945569   \n",
       "10  0.985653   0.970469  0.934071  0.951922  0.978887  0.908255   \n",
       "\n",
       "                 stack  model  \n",
       "0            carb96558  basic  \n",
       "1               carb71  basic  \n",
       "2              carbRNF  basic  \n",
       "3   SPE_carb10_58_box3  basic  \n",
       "4             SoilAh-1  basic  \n",
       "5              SoilB-2  basic  \n",
       "6       TeTree_subset1  basic  \n",
       "7       TiTree_subset2  basic  \n",
       "8              Urna_22  basic  \n",
       "9              Urna_30  basic  \n",
       "10             Urna_34  basic  "
      ]
     },
     "execution_count": 32,
     "metadata": {},
     "output_type": "execute_result"
    }
   ],
   "source": [
    "df = make_df(results, model_name='basic')\n",
    "df"
   ]
  },
  {
   "cell_type": "code",
   "execution_count": 33,
   "metadata": {},
   "outputs": [
    {
     "name": "stdout",
     "output_type": "stream",
     "text": [
      "Mean   IOU: 0.9229\n",
      "Std    IOU: 0.030369\n",
      "Min    IOU: 0.86139\n",
      "Median IOU: 0.93326\n"
     ]
    }
   ],
   "source": [
    "print('Mean   IOU: {:.5}'.format(df['iou'].mean()))\n",
    "print('Std    IOU: {:.5}'.format(df['iou'].std()))\n",
    "print('Min    IOU: {:.5}'.format(df['iou'].min()))\n",
    "print('Median IOU: {:.5}'.format(df['iou'].median()))"
   ]
  },
  {
   "cell_type": "markdown",
   "metadata": {},
   "source": [
    "## Check loss to loss ratio"
   ]
  },
  {
   "cell_type": "code",
   "execution_count": 34,
   "metadata": {
    "scrolled": true
   },
   "outputs": [
    {
     "data": {
      "text/plain": [
       "(WeightedLoss(\n",
       "   (loss): CrossEntropyLoss()\n",
       " ), WeightedLoss(\n",
       "   (loss): DiceLoss()\n",
       " ))"
      ]
     },
     "execution_count": 34,
     "metadata": {},
     "output_type": "execute_result"
    }
   ],
   "source": [
    "criterion.losses"
   ]
  },
  {
   "cell_type": "code",
   "execution_count": 20,
   "metadata": {},
   "outputs": [],
   "source": [
    "from stack_segmentation.training import make_joint_loss"
   ]
  },
  {
   "cell_type": "code",
   "execution_count": 21,
   "metadata": {},
   "outputs": [],
   "source": [
    "import torch"
   ]
  },
  {
   "cell_type": "code",
   "execution_count": 22,
   "metadata": {},
   "outputs": [],
   "source": [
    "# loss_config[0] = {'loss': 'BCE',\n",
    "#   'weight': 0.5,\n",
    "#   'params': {}}\n",
    "# loss_config\n",
    "# crit = make_joint_loss(device=device, loss_config=loss_config)"
   ]
  },
  {
   "cell_type": "code",
   "execution_count": 23,
   "metadata": {},
   "outputs": [],
   "source": [
    "crit = criterion\n",
    "a = []\n",
    "b = []\n",
    "for i, (x, y) in enumerate(dataloader_val):\n",
    "    if i > 100:\n",
    "        break\n",
    "    pred = model(torch.from_numpy(x).to(device))\n",
    "    y = torch.from_numpy(y).to(device)\n",
    "    a.append(crit.losses[0](pred, y).cpu().data.numpy())\n",
    "    b.append(crit.losses[1](pred, y).cpu().data.numpy())"
   ]
  },
  {
   "cell_type": "code",
   "execution_count": 40,
   "metadata": {},
   "outputs": [
    {
     "name": "stdout",
     "output_type": "stream",
     "text": [
      "Mean 0 loss: 0.0055\n",
      "MEan 1 loss: 0.0009\n",
      "Mean of ratios: 6.3925\n",
      "Ratio of means: 5.9887\n"
     ]
    }
   ],
   "source": [
    "print('Mean 0 loss: {:.4f}\\nMean 1 loss: {:.4f}\\nMean of ratios: {:.4f}\\nRatio of means: {:.4f}'\n",
    "      .format(np.mean(a), np.mean(b), np.mean(np.array(a) / np.array(b)), np.mean(a) / np.mean(b)))"
   ]
  }
 ],
 "metadata": {
  "kernelspec": {
   "display_name": "Conda python 3.7",
   "language": "python",
   "name": "py37"
  },
  "language_info": {
   "codemirror_mode": {
    "name": "ipython",
    "version": 3
   },
   "file_extension": ".py",
   "mimetype": "text/x-python",
   "name": "python",
   "nbconvert_exporter": "python",
   "pygments_lexer": "ipython3",
   "version": "3.7.5"
  }
 },
 "nbformat": 4,
 "nbformat_minor": 2
}
