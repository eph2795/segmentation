{
 "cells": [
  {
   "cell_type": "code",
   "execution_count": 1,
   "metadata": {},
   "outputs": [],
   "source": [
    "%load_ext autoreload\n",
    "%autoreload 2"
   ]
  },
  {
   "cell_type": "code",
   "execution_count": 2,
   "metadata": {},
   "outputs": [],
   "source": [
    "import sys\n",
    "sys.path.append('../..')"
   ]
  },
  {
   "cell_type": "code",
   "execution_count": 3,
   "metadata": {},
   "outputs": [],
   "source": [
    "from tqdm import tqdm\n",
    "import numpy as np\n",
    "import matplotlib.pyplot as plt"
   ]
  },
  {
   "cell_type": "code",
   "execution_count": 4,
   "metadata": {},
   "outputs": [],
   "source": [
    "from stack_segmentation.stack import Stack"
   ]
  },
  {
   "cell_type": "code",
   "execution_count": 5,
   "metadata": {},
   "outputs": [],
   "source": [
    "from stack_segmentation.io import make_dataloader, collate_fn_basic\n",
    "\n",
    "from stack_segmentation.training import (\n",
    "    handle_stacks_data, \n",
    "    make_optimization_task, \n",
    "    train_loop\n",
    ")\n",
    "\n",
    "from stack_segmentation.pipeline_config import (\n",
    "    dataloaders_conf,\n",
    "    train_conf,\n",
    "    model_config, \n",
    "    aug_config,\n",
    "    optimizer_config,\n",
    "    loss_config,\n",
    "    scheduler_config,\n",
    ")"
   ]
  },
  {
   "cell_type": "code",
   "execution_count": 6,
   "metadata": {},
   "outputs": [],
   "source": [
    "from exp_config import data_conf"
   ]
  },
  {
   "cell_type": "markdown",
   "metadata": {},
   "source": [
    "## Parameters to tune"
   ]
  },
  {
   "cell_type": "code",
   "execution_count": 7,
   "metadata": {},
   "outputs": [
    {
     "data": {
      "text/plain": [
       "{'num_epochs': 500, 'device': 'cuda:1'}"
      ]
     },
     "execution_count": 7,
     "metadata": {},
     "output_type": "execute_result"
    }
   ],
   "source": [
    "train_conf['device'] = 'cuda:1'\n",
    "# train_conf['device'] = 'cpu'\n",
    "train_conf['num_epochs'] = 500\n",
    "train_conf"
   ]
  },
  {
   "cell_type": "code",
   "execution_count": 8,
   "metadata": {
    "scrolled": true
   },
   "outputs": [
    {
     "data": {
      "text/plain": [
       "{'conf_name': 'exp_basic_adamw_lr1e-3_epoch_300_resnet50_encoder_soft_aug_k_1',\n",
       " 'stacks': [{'path': '../../data/carb96558',\n",
       "   'slice_train': (slice(None, None, None),\n",
       "    slice(None, None, None),\n",
       "    slice(None, 230, None)),\n",
       "   'slice_val': (slice(None, None, None),\n",
       "    slice(None, None, None),\n",
       "    slice(250, 470, None))},\n",
       "  {'path': '../../data/SoilB-2',\n",
       "   'slice_train': (slice(None, None, None),\n",
       "    slice(None, None, None),\n",
       "    slice(None, 230, None)),\n",
       "   'slice_val': (slice(None, None, None),\n",
       "    slice(None, None, None),\n",
       "    slice(240, 460, None))},\n",
       "  {'path': '../../data/Urna_22',\n",
       "   'slice_train': (slice(None, None, None),\n",
       "    slice(None, None, None),\n",
       "    slice(None, 220, None)),\n",
       "   'slice_val': (slice(None, None, None),\n",
       "    slice(None, None, None),\n",
       "    slice(245, 455, None))},\n",
       "  {'path': '../../data/carb96558',\n",
       "   'slice_test': (slice(None, None, None),\n",
       "    slice(None, None, None),\n",
       "    slice(490, None, None))},\n",
       "  {'path': '../../data/carb71',\n",
       "   'slice_test': (slice(None, None, None),\n",
       "    slice(None, None, None),\n",
       "    slice(None, None, None))},\n",
       "  {'path': '../../data/carbRNF',\n",
       "   'slice_test': (slice(None, None, None),\n",
       "    slice(None, None, None),\n",
       "    slice(None, None, None))},\n",
       "  {'path': '../../data/SPE_carb10_58_box3',\n",
       "   'slice_test': (slice(None, None, None),\n",
       "    slice(None, None, None),\n",
       "    slice(None, None, None))},\n",
       "  {'path': '../../data/SoilAh-1',\n",
       "   'slice_test': (slice(None, None, None),\n",
       "    slice(None, None, None),\n",
       "    slice(None, None, None))},\n",
       "  {'path': '../../data/SoilB-2',\n",
       "   'slice_test': (slice(None, None, None),\n",
       "    slice(None, None, None),\n",
       "    slice(None, None, None))},\n",
       "  {'path': '../../data/TeTree_subset1',\n",
       "   'slice_test': (slice(None, None, None),\n",
       "    slice(None, None, None),\n",
       "    slice(None, None, None))},\n",
       "  {'path': '../../data/TiTree_subset2',\n",
       "   'slice_test': (slice(None, None, None),\n",
       "    slice(None, None, None),\n",
       "    slice(None, None, None))},\n",
       "  {'path': '../../data/Urna_22',\n",
       "   'slice_test': (slice(None, None, None),\n",
       "    slice(None, None, None),\n",
       "    slice(None, None, None))},\n",
       "  {'path': '../../data/Urna_30',\n",
       "   'slice_test': (slice(None, None, None),\n",
       "    slice(None, None, None),\n",
       "    slice(None, None, None))},\n",
       "  {'path': '../../data/Urna_34',\n",
       "   'slice_test': (slice(None, None, None),\n",
       "    slice(None, None, None),\n",
       "    slice(None, None, None))}],\n",
       " 'patches': {'train': (128, 128, 1),\n",
       "  'val': (128, 128, 1),\n",
       "  'test': (128, 128, 1)}}"
      ]
     },
     "execution_count": 8,
     "metadata": {},
     "output_type": "execute_result"
    }
   ],
   "source": [
    "data_conf['conf_name'] = 'exp_basic_adamw_lr1e-3_epoch_300_resnet50_encoder_soft_aug_k_1'\n",
    "data_conf"
   ]
  },
  {
   "cell_type": "code",
   "execution_count": 9,
   "metadata": {},
   "outputs": [
    {
     "data": {
      "text/plain": [
       "{'source': 'qubvel',\n",
       " 'model_type': 'Unet',\n",
       " 'encoder_name': 'resnet50',\n",
       " 'encoder_weights': 'imagenet'}"
      ]
     },
     "execution_count": 9,
     "metadata": {},
     "output_type": "execute_result"
    }
   ],
   "source": [
    "model_config"
   ]
  },
  {
   "cell_type": "code",
   "execution_count": 10,
   "metadata": {},
   "outputs": [
    {
     "data": {
      "text/plain": [
       "{'opt_type': 'AdamW',\n",
       " 'lr': 0.001,\n",
       " 'weight_decay': 1e-05,\n",
       " 'amsgrad': True,\n",
       " 'nesterov': False,\n",
       " 'momentum': 0.9,\n",
       " 'centered': False}"
      ]
     },
     "execution_count": 10,
     "metadata": {},
     "output_type": "execute_result"
    }
   ],
   "source": [
    "optimizer_config['opt_type'] = 'AdamW'\n",
    "optimizer_config['lr'] = 1e-3\n",
    "optimizer_config['weight_decay'] = 1e-5\n",
    "optimizer_config['amsgrad'] = True\n",
    "# optimizer_config['nesterov'] = True\n",
    "optimizer_config"
   ]
  },
  {
   "cell_type": "code",
   "execution_count": 15,
   "metadata": {},
   "outputs": [
    {
     "data": {
      "text/plain": [
       "{'aug_type': 'soft', 'original_height': 128, 'original_width': 128, 'k': 1}"
      ]
     },
     "execution_count": 15,
     "metadata": {},
     "output_type": "execute_result"
    }
   ],
   "source": [
    "aug_config['aug_type'] = 'soft'\n",
    "aug_config['k'] = 1\n",
    "aug_config"
   ]
  },
  {
   "cell_type": "code",
   "execution_count": 16,
   "metadata": {},
   "outputs": [
    {
     "data": {
      "text/plain": [
       "[{'loss': 'BCE', 'weight': 0.5, 'params': {}},\n",
       " {'loss': 'Dice',\n",
       "  'weight': 0.5,\n",
       "  'params': {'mode': 'multiclass',\n",
       "   'log_loss': True,\n",
       "   'from_logits': True,\n",
       "   'smooth': 1,\n",
       "   'eps': 1e-07}}]"
      ]
     },
     "execution_count": 16,
     "metadata": {},
     "output_type": "execute_result"
    }
   ],
   "source": [
    "loss_config =[\n",
    "    {'loss': 'BCE', 'weight': 0.5, 'params': {}},\n",
    "    {\n",
    "        'loss': 'Dice',\n",
    "        'weight': 0.5, \n",
    "        'params': {\n",
    "            'mode': 'multiclass',\n",
    "            'log_loss': True,\n",
    "            'from_logits': True,\n",
    "            'smooth': 1,\n",
    "            'eps': 1e-7\n",
    "        }\n",
    "    }\n",
    "]\n",
    "loss_config"
   ]
  },
  {
   "cell_type": "code",
   "execution_count": 17,
   "metadata": {},
   "outputs": [
    {
     "data": {
      "text/plain": [
       "{'train': (128, 128, 1), 'val': (128, 128, 1), 'test': (128, 128, 1)}"
      ]
     },
     "execution_count": 17,
     "metadata": {},
     "output_type": "execute_result"
    }
   ],
   "source": [
    "data_conf['patches']"
   ]
  },
  {
   "cell_type": "markdown",
   "metadata": {},
   "source": [
    "## Prepare train, validation and test data"
   ]
  },
  {
   "cell_type": "code",
   "execution_count": 18,
   "metadata": {
    "scrolled": false
   },
   "outputs": [
    {
     "name": "stderr",
     "output_type": "stream",
     "text": [
      "720it [00:01, 711.92it/s]\n",
      "100%|██████████| 720/720 [00:07<00:00, 94.24it/s] \n",
      "8280it [00:00, 248588.71it/s]\n",
      "7920it [00:00, 247423.92it/s]\n",
      "700it [00:00, 898.42it/s]\n",
      "100%|██████████| 700/700 [00:06<00:00, 102.92it/s]\n",
      "8280it [00:00, 244002.23it/s]\n",
      "7920it [00:00, 67408.87it/s]\n",
      "710it [00:00, 875.24it/s]\n",
      "100%|██████████| 710/710 [00:07<00:00, 99.88it/s] \n",
      "7920it [00:00, 250884.68it/s]\n",
      "7560it [00:00, 242980.37it/s]\n",
      "720it [00:00, 859.80it/s]\n",
      "100%|██████████| 720/720 [00:07<00:00, 97.31it/s] \n",
      "8280it [00:00, 246941.30it/s]\n",
      "720it [00:00, 766.80it/s]\n",
      "100%|██████████| 720/720 [00:07<00:00, 96.81it/s] \n",
      "25920it [00:00, 227834.26it/s]\n",
      "700it [00:00, 835.19it/s]\n",
      "100%|██████████| 700/700 [00:06<00:00, 108.40it/s]\n",
      "25200it [00:00, 114176.09it/s]\n",
      "509it [00:00, 1144.67it/s]\n",
      "100%|██████████| 509/509 [00:02<00:00, 195.69it/s]\n",
      "8144it [00:00, 192842.65it/s]\n",
      "700it [00:00, 820.32it/s]\n",
      "100%|██████████| 700/700 [00:06<00:00, 102.43it/s]\n",
      "25200it [00:00, 229779.91it/s]\n",
      "700it [00:00, 852.97it/s]\n",
      "100%|██████████| 700/700 [00:06<00:00, 101.59it/s]\n",
      "25200it [00:00, 96604.35it/s]\n",
      "710it [00:01, 384.23it/s]\n",
      "100%|██████████| 710/710 [00:07<00:00, 100.03it/s]\n",
      "25560it [00:00, 229555.69it/s]\n",
      "710it [00:01, 382.77it/s]\n",
      "100%|██████████| 710/710 [00:07<00:00, 99.37it/s] \n",
      "25560it [00:00, 96541.73it/s]\n",
      "710it [00:00, 827.80it/s]\n",
      "100%|██████████| 710/710 [00:06<00:00, 105.49it/s]\n",
      "25560it [00:00, 232230.97it/s]\n",
      "710it [00:00, 823.20it/s]\n",
      "100%|██████████| 710/710 [00:07<00:00, 99.26it/s] \n",
      "25560it [00:00, 229621.08it/s]\n",
      "700it [00:00, 818.98it/s]\n",
      "100%|██████████| 700/700 [00:06<00:00, 106.67it/s]\n",
      "25200it [00:00, 85012.63it/s]\n"
     ]
    }
   ],
   "source": [
    "data_train, data_val, data_test = handle_stacks_data(**data_conf)"
   ]
  },
  {
   "cell_type": "code",
   "execution_count": 19,
   "metadata": {
    "scrolled": true
   },
   "outputs": [
    {
     "data": {
      "text/plain": [
       "(24480, 23400, 11)"
      ]
     },
     "execution_count": 19,
     "metadata": {},
     "output_type": "execute_result"
    }
   ],
   "source": [
    "len(data_train), len(data_val), len(data_test)"
   ]
  },
  {
   "cell_type": "code",
   "execution_count": 20,
   "metadata": {},
   "outputs": [],
   "source": [
    "dataloader_train = make_dataloader(\n",
    "    samples=data_train, \n",
    "    collate_fn=collate_fn_basic,\n",
    "    model_config=model_config,\n",
    "    aug_config=aug_config,\n",
    "    **dataloaders_conf['train']\n",
    ")\n",
    "\n",
    "dataloader_val = make_dataloader(\n",
    "    samples=data_val, \n",
    "    collate_fn=collate_fn_basic,\n",
    "    model_config=model_config,\n",
    "    **dataloaders_conf['val']\n",
    ")\n",
    "\n",
    "dataloaders_test = {\n",
    "    name: make_dataloader(\n",
    "        samples=data, \n",
    "        collate_fn=collate_fn_basic,\n",
    "        model_config=model_config,\n",
    "        **dataloaders_conf['test']\n",
    "    ) for name, data in data_test.items()}"
   ]
  },
  {
   "cell_type": "markdown",
   "metadata": {},
   "source": [
    "## Create model and metrics"
   ]
  },
  {
   "cell_type": "code",
   "execution_count": 21,
   "metadata": {},
   "outputs": [],
   "source": [
    "device = 'cuda:1'\n",
    "# device = 'cpu'"
   ]
  },
  {
   "cell_type": "code",
   "execution_count": 22,
   "metadata": {},
   "outputs": [],
   "source": [
    "model, criterion, optimizer, scheduler = make_optimization_task(\n",
    "    device,\n",
    "    model_config=model_config,\n",
    "    loss_config=loss_config, \n",
    "    optimizer_config=optimizer_config,\n",
    "    scheduler_config=scheduler_config)"
   ]
  },
  {
   "cell_type": "markdown",
   "metadata": {},
   "source": [
    "## Run experiment"
   ]
  },
  {
   "cell_type": "code",
   "execution_count": 23,
   "metadata": {},
   "outputs": [],
   "source": [
    "from stack_segmentation.metrics import accuracy, precision, recall, f1, pr_auc, iou"
   ]
  },
  {
   "cell_type": "code",
   "execution_count": 24,
   "metadata": {},
   "outputs": [],
   "source": [
    "metrics = {\n",
    "    'accuracy': accuracy, \n",
    "    'precision': precision, \n",
    "    'recall': recall, \n",
    "    'f1': f1,\n",
    "    'pr_auc': pr_auc, \n",
    "    'iou': iou,\n",
    "}"
   ]
  },
  {
   "cell_type": "code",
   "execution_count": 25,
   "metadata": {
    "scrolled": true
   },
   "outputs": [
    {
     "name": "stderr",
     "output_type": "stream",
     "text": [
      "\r",
      "  0%|          | 0/765 [00:00<?, ?it/s]"
     ]
    },
    {
     "name": "stdout",
     "output_type": "stream",
     "text": [
      "Epoch 0...\n"
     ]
    },
    {
     "name": "stderr",
     "output_type": "stream",
     "text": [
      "100%|██████████| 765/765 [01:33<00:00,  8.20it/s]\n",
      "  0%|          | 0/732 [00:00<?, ?it/s]"
     ]
    },
    {
     "name": "stdout",
     "output_type": "stream",
     "text": [
      "Mean train loss: 0.072392\n"
     ]
    },
    {
     "name": "stderr",
     "output_type": "stream",
     "text": [
      "100%|██████████| 732/732 [00:30<00:00, 23.69it/s]\n",
      "  0%|          | 0/765 [00:00<?, ?it/s]"
     ]
    },
    {
     "name": "stdout",
     "output_type": "stream",
     "text": [
      "Mean val loss: 0.030662\n",
      "Epoch 1...\n"
     ]
    },
    {
     "name": "stderr",
     "output_type": "stream",
     "text": [
      "100%|██████████| 765/765 [01:34<00:00,  8.13it/s]\n",
      "  0%|          | 0/732 [00:00<?, ?it/s]"
     ]
    },
    {
     "name": "stdout",
     "output_type": "stream",
     "text": [
      "Mean train loss: 0.021135\n"
     ]
    },
    {
     "name": "stderr",
     "output_type": "stream",
     "text": [
      "100%|██████████| 732/732 [00:30<00:00, 23.65it/s]\n"
     ]
    },
    {
     "name": "stdout",
     "output_type": "stream",
     "text": [
      "Mean val loss: 0.021738\n"
     ]
    },
    {
     "name": "stderr",
     "output_type": "stream",
     "text": [
      "\r",
      "  0%|          | 0/765 [00:00<?, ?it/s]"
     ]
    },
    {
     "name": "stdout",
     "output_type": "stream",
     "text": [
      "Epoch 2...\n"
     ]
    },
    {
     "name": "stderr",
     "output_type": "stream",
     "text": [
      "100%|██████████| 765/765 [01:34<00:00,  8.06it/s]\n",
      "  0%|          | 0/732 [00:00<?, ?it/s]"
     ]
    },
    {
     "name": "stdout",
     "output_type": "stream",
     "text": [
      "Mean train loss: 0.018657\n"
     ]
    },
    {
     "name": "stderr",
     "output_type": "stream",
     "text": [
      "100%|██████████| 732/732 [00:30<00:00, 23.62it/s]\n",
      "  0%|          | 0/765 [00:00<?, ?it/s]"
     ]
    },
    {
     "name": "stdout",
     "output_type": "stream",
     "text": [
      "Mean val loss: 0.030964\n",
      "EarlyStopping counter: 1 out of 10\n",
      "Epoch 3...\n"
     ]
    },
    {
     "name": "stderr",
     "output_type": "stream",
     "text": [
      "100%|██████████| 765/765 [01:35<00:00,  8.04it/s]\n",
      "  0%|          | 0/732 [00:00<?, ?it/s]"
     ]
    },
    {
     "name": "stdout",
     "output_type": "stream",
     "text": [
      "Mean train loss: 0.017571\n"
     ]
    },
    {
     "name": "stderr",
     "output_type": "stream",
     "text": [
      "100%|██████████| 732/732 [00:31<00:00, 23.39it/s]\n"
     ]
    },
    {
     "name": "stdout",
     "output_type": "stream",
     "text": [
      "Mean val loss: 0.020192\n"
     ]
    },
    {
     "name": "stderr",
     "output_type": "stream",
     "text": [
      "\r",
      "  0%|          | 0/765 [00:00<?, ?it/s]"
     ]
    },
    {
     "name": "stdout",
     "output_type": "stream",
     "text": [
      "Epoch 4...\n"
     ]
    },
    {
     "name": "stderr",
     "output_type": "stream",
     "text": [
      "100%|██████████| 765/765 [01:34<00:00,  8.07it/s]\n",
      "  0%|          | 0/732 [00:00<?, ?it/s]"
     ]
    },
    {
     "name": "stdout",
     "output_type": "stream",
     "text": [
      "Mean train loss: 0.016926\n"
     ]
    },
    {
     "name": "stderr",
     "output_type": "stream",
     "text": [
      "100%|██████████| 732/732 [00:31<00:00, 23.39it/s]\n"
     ]
    },
    {
     "name": "stdout",
     "output_type": "stream",
     "text": [
      "Mean val loss: 0.01953\n"
     ]
    },
    {
     "name": "stderr",
     "output_type": "stream",
     "text": [
      "\r",
      "  0%|          | 0/765 [00:00<?, ?it/s]"
     ]
    },
    {
     "name": "stdout",
     "output_type": "stream",
     "text": [
      "Epoch 5...\n"
     ]
    },
    {
     "name": "stderr",
     "output_type": "stream",
     "text": [
      "100%|██████████| 765/765 [01:35<00:00,  8.04it/s]\n",
      "  0%|          | 0/732 [00:00<?, ?it/s]"
     ]
    },
    {
     "name": "stdout",
     "output_type": "stream",
     "text": [
      "Mean train loss: 0.01621\n"
     ]
    },
    {
     "name": "stderr",
     "output_type": "stream",
     "text": [
      "100%|██████████| 732/732 [00:31<00:00, 23.48it/s]\n"
     ]
    },
    {
     "name": "stdout",
     "output_type": "stream",
     "text": [
      "Mean val loss: 0.016783\n"
     ]
    },
    {
     "name": "stderr",
     "output_type": "stream",
     "text": [
      "\r",
      "  0%|          | 0/765 [00:00<?, ?it/s]"
     ]
    },
    {
     "name": "stdout",
     "output_type": "stream",
     "text": [
      "Epoch 6...\n"
     ]
    },
    {
     "name": "stderr",
     "output_type": "stream",
     "text": [
      "100%|██████████| 765/765 [01:35<00:00,  7.97it/s]\n",
      "  0%|          | 0/732 [00:00<?, ?it/s]"
     ]
    },
    {
     "name": "stdout",
     "output_type": "stream",
     "text": [
      "Mean train loss: 0.015999\n"
     ]
    },
    {
     "name": "stderr",
     "output_type": "stream",
     "text": [
      "100%|██████████| 732/732 [00:31<00:00, 23.55it/s]\n"
     ]
    },
    {
     "name": "stdout",
     "output_type": "stream",
     "text": [
      "Mean val loss: 0.016519\n"
     ]
    },
    {
     "name": "stderr",
     "output_type": "stream",
     "text": [
      "\r",
      "  0%|          | 0/765 [00:00<?, ?it/s]"
     ]
    },
    {
     "name": "stdout",
     "output_type": "stream",
     "text": [
      "Epoch 7...\n"
     ]
    },
    {
     "name": "stderr",
     "output_type": "stream",
     "text": [
      "100%|██████████| 765/765 [01:36<00:00,  7.95it/s]\n",
      "  0%|          | 0/732 [00:00<?, ?it/s]"
     ]
    },
    {
     "name": "stdout",
     "output_type": "stream",
     "text": [
      "Mean train loss: 0.015697\n"
     ]
    },
    {
     "name": "stderr",
     "output_type": "stream",
     "text": [
      "100%|██████████| 732/732 [00:30<00:00, 23.88it/s]\n",
      "  0%|          | 0/765 [00:00<?, ?it/s]"
     ]
    },
    {
     "name": "stdout",
     "output_type": "stream",
     "text": [
      "Mean val loss: 0.018888\n",
      "EarlyStopping counter: 1 out of 10\n",
      "Epoch 8...\n"
     ]
    },
    {
     "name": "stderr",
     "output_type": "stream",
     "text": [
      "100%|██████████| 765/765 [01:36<00:00,  7.93it/s]\n",
      "  0%|          | 0/732 [00:00<?, ?it/s]"
     ]
    },
    {
     "name": "stdout",
     "output_type": "stream",
     "text": [
      "Mean train loss: 0.015455\n"
     ]
    },
    {
     "name": "stderr",
     "output_type": "stream",
     "text": [
      "100%|██████████| 732/732 [00:30<00:00, 23.77it/s]\n",
      "  0%|          | 0/765 [00:00<?, ?it/s]"
     ]
    },
    {
     "name": "stdout",
     "output_type": "stream",
     "text": [
      "Mean val loss: 0.017007\n",
      "EarlyStopping counter: 2 out of 10\n",
      "Epoch 9...\n"
     ]
    },
    {
     "name": "stderr",
     "output_type": "stream",
     "text": [
      "100%|██████████| 765/765 [01:35<00:00,  7.99it/s]\n",
      "  0%|          | 0/732 [00:00<?, ?it/s]"
     ]
    },
    {
     "name": "stdout",
     "output_type": "stream",
     "text": [
      "Mean train loss: 0.01535\n"
     ]
    },
    {
     "name": "stderr",
     "output_type": "stream",
     "text": [
      "100%|██████████| 732/732 [00:31<00:00, 23.35it/s]\n",
      "  0%|          | 0/765 [00:00<?, ?it/s]"
     ]
    },
    {
     "name": "stdout",
     "output_type": "stream",
     "text": [
      "Mean val loss: 0.016728\n",
      "EarlyStopping counter: 3 out of 10\n",
      "Epoch 10...\n"
     ]
    },
    {
     "name": "stderr",
     "output_type": "stream",
     "text": [
      "100%|██████████| 765/765 [01:36<00:00,  7.90it/s]\n",
      "  0%|          | 0/732 [00:00<?, ?it/s]"
     ]
    },
    {
     "name": "stdout",
     "output_type": "stream",
     "text": [
      "Mean train loss: 0.015241\n"
     ]
    },
    {
     "name": "stderr",
     "output_type": "stream",
     "text": [
      "100%|██████████| 732/732 [00:31<00:00, 23.51it/s]\n",
      "  0%|          | 0/765 [00:00<?, ?it/s]"
     ]
    },
    {
     "name": "stdout",
     "output_type": "stream",
     "text": [
      "Mean val loss: 0.01667\n",
      "EarlyStopping counter: 4 out of 10\n",
      "Epoch 11...\n"
     ]
    },
    {
     "name": "stderr",
     "output_type": "stream",
     "text": [
      "100%|██████████| 765/765 [01:35<00:00,  8.00it/s]\n",
      "  0%|          | 0/732 [00:00<?, ?it/s]"
     ]
    },
    {
     "name": "stdout",
     "output_type": "stream",
     "text": [
      "Mean train loss: 0.01498\n"
     ]
    },
    {
     "name": "stderr",
     "output_type": "stream",
     "text": [
      "100%|██████████| 732/732 [00:31<00:00, 23.37it/s]\n"
     ]
    },
    {
     "name": "stdout",
     "output_type": "stream",
     "text": [
      "Mean val loss: 0.01624\n"
     ]
    },
    {
     "name": "stderr",
     "output_type": "stream",
     "text": [
      "\r",
      "  0%|          | 0/765 [00:00<?, ?it/s]"
     ]
    },
    {
     "name": "stdout",
     "output_type": "stream",
     "text": [
      "Epoch 12...\n"
     ]
    },
    {
     "name": "stderr",
     "output_type": "stream",
     "text": [
      "100%|██████████| 765/765 [01:36<00:00,  7.93it/s]\n",
      "  0%|          | 0/732 [00:00<?, ?it/s]"
     ]
    },
    {
     "name": "stdout",
     "output_type": "stream",
     "text": [
      "Mean train loss: 0.014902\n"
     ]
    },
    {
     "name": "stderr",
     "output_type": "stream",
     "text": [
      "100%|██████████| 732/732 [00:31<00:00, 23.47it/s]\n",
      "  0%|          | 0/765 [00:00<?, ?it/s]"
     ]
    },
    {
     "name": "stdout",
     "output_type": "stream",
     "text": [
      "Mean val loss: 0.016544\n",
      "EarlyStopping counter: 1 out of 10\n",
      "Epoch 13...\n"
     ]
    },
    {
     "name": "stderr",
     "output_type": "stream",
     "text": [
      "100%|██████████| 765/765 [01:36<00:00,  7.92it/s]\n",
      "  0%|          | 0/732 [00:00<?, ?it/s]"
     ]
    },
    {
     "name": "stdout",
     "output_type": "stream",
     "text": [
      "Mean train loss: 0.014794\n"
     ]
    },
    {
     "name": "stderr",
     "output_type": "stream",
     "text": [
      "100%|██████████| 732/732 [00:31<00:00, 23.49it/s]\n"
     ]
    },
    {
     "name": "stdout",
     "output_type": "stream",
     "text": [
      "Mean val loss: 0.015649\n"
     ]
    },
    {
     "name": "stderr",
     "output_type": "stream",
     "text": [
      "\r",
      "  0%|          | 0/765 [00:00<?, ?it/s]"
     ]
    },
    {
     "name": "stdout",
     "output_type": "stream",
     "text": [
      "Epoch 14...\n"
     ]
    },
    {
     "name": "stderr",
     "output_type": "stream",
     "text": [
      "100%|██████████| 765/765 [01:35<00:00,  7.97it/s]\n",
      "  0%|          | 0/732 [00:00<?, ?it/s]"
     ]
    },
    {
     "name": "stdout",
     "output_type": "stream",
     "text": [
      "Mean train loss: 0.014741\n"
     ]
    },
    {
     "name": "stderr",
     "output_type": "stream",
     "text": [
      "100%|██████████| 732/732 [00:31<00:00, 23.16it/s]\n"
     ]
    },
    {
     "name": "stdout",
     "output_type": "stream",
     "text": [
      "Mean val loss: 0.015618\n"
     ]
    },
    {
     "name": "stderr",
     "output_type": "stream",
     "text": [
      "\r",
      "  0%|          | 0/765 [00:00<?, ?it/s]"
     ]
    },
    {
     "name": "stdout",
     "output_type": "stream",
     "text": [
      "Epoch 15...\n"
     ]
    },
    {
     "name": "stderr",
     "output_type": "stream",
     "text": [
      "100%|██████████| 765/765 [01:36<00:00,  7.91it/s]\n",
      "  0%|          | 0/732 [00:00<?, ?it/s]"
     ]
    },
    {
     "name": "stdout",
     "output_type": "stream",
     "text": [
      "Mean train loss: 0.014634\n"
     ]
    },
    {
     "name": "stderr",
     "output_type": "stream",
     "text": [
      "100%|██████████| 732/732 [00:31<00:00, 23.50it/s]\n",
      "  0%|          | 0/765 [00:00<?, ?it/s]"
     ]
    },
    {
     "name": "stdout",
     "output_type": "stream",
     "text": [
      "Mean val loss: 0.015769\n",
      "EarlyStopping counter: 1 out of 10\n",
      "Epoch 16...\n"
     ]
    },
    {
     "name": "stderr",
     "output_type": "stream",
     "text": [
      "100%|██████████| 765/765 [01:36<00:00,  7.89it/s]\n",
      "  0%|          | 0/732 [00:00<?, ?it/s]"
     ]
    },
    {
     "name": "stdout",
     "output_type": "stream",
     "text": [
      "Mean train loss: 0.014564\n"
     ]
    },
    {
     "name": "stderr",
     "output_type": "stream",
     "text": [
      "100%|██████████| 732/732 [00:31<00:00, 23.27it/s]\n"
     ]
    },
    {
     "name": "stdout",
     "output_type": "stream",
     "text": [
      "Mean val loss: 0.015469\n"
     ]
    },
    {
     "name": "stderr",
     "output_type": "stream",
     "text": [
      "\r",
      "  0%|          | 0/765 [00:00<?, ?it/s]"
     ]
    },
    {
     "name": "stdout",
     "output_type": "stream",
     "text": [
      "Epoch 17...\n"
     ]
    },
    {
     "name": "stderr",
     "output_type": "stream",
     "text": [
      "100%|██████████| 765/765 [01:37<00:00,  7.88it/s]\n",
      "  0%|          | 0/732 [00:00<?, ?it/s]"
     ]
    },
    {
     "name": "stdout",
     "output_type": "stream",
     "text": [
      "Mean train loss: 0.014429\n"
     ]
    },
    {
     "name": "stderr",
     "output_type": "stream",
     "text": [
      "100%|██████████| 732/732 [00:31<00:00, 23.45it/s]\n"
     ]
    },
    {
     "name": "stdout",
     "output_type": "stream",
     "text": [
      "Mean val loss: 0.015457\n"
     ]
    },
    {
     "name": "stderr",
     "output_type": "stream",
     "text": [
      "\r",
      "  0%|          | 0/765 [00:00<?, ?it/s]"
     ]
    },
    {
     "name": "stdout",
     "output_type": "stream",
     "text": [
      "Epoch 18...\n"
     ]
    },
    {
     "name": "stderr",
     "output_type": "stream",
     "text": [
      "100%|██████████| 765/765 [01:35<00:00,  8.02it/s]\n",
      "  0%|          | 0/732 [00:00<?, ?it/s]"
     ]
    },
    {
     "name": "stdout",
     "output_type": "stream",
     "text": [
      "Mean train loss: 0.014405\n"
     ]
    },
    {
     "name": "stderr",
     "output_type": "stream",
     "text": [
      "100%|██████████| 732/732 [00:31<00:00, 23.45it/s]\n"
     ]
    },
    {
     "name": "stdout",
     "output_type": "stream",
     "text": [
      "Mean val loss: 0.015407\n"
     ]
    },
    {
     "name": "stderr",
     "output_type": "stream",
     "text": [
      "\r",
      "  0%|          | 0/765 [00:00<?, ?it/s]"
     ]
    },
    {
     "name": "stdout",
     "output_type": "stream",
     "text": [
      "Epoch 19...\n"
     ]
    },
    {
     "name": "stderr",
     "output_type": "stream",
     "text": [
      "100%|██████████| 765/765 [01:35<00:00,  7.98it/s]\n",
      "  0%|          | 0/732 [00:00<?, ?it/s]"
     ]
    },
    {
     "name": "stdout",
     "output_type": "stream",
     "text": [
      "Mean train loss: 0.014328\n"
     ]
    },
    {
     "name": "stderr",
     "output_type": "stream",
     "text": [
      "100%|██████████| 732/732 [00:31<00:00, 23.17it/s]\n",
      "  0%|          | 0/765 [00:00<?, ?it/s]"
     ]
    },
    {
     "name": "stdout",
     "output_type": "stream",
     "text": [
      "Mean val loss: 0.015995\n",
      "EarlyStopping counter: 1 out of 10\n",
      "Epoch 20...\n"
     ]
    },
    {
     "name": "stderr",
     "output_type": "stream",
     "text": [
      "100%|██████████| 765/765 [01:36<00:00,  7.92it/s]\n",
      "  0%|          | 0/732 [00:00<?, ?it/s]"
     ]
    },
    {
     "name": "stdout",
     "output_type": "stream",
     "text": [
      "Mean train loss: 0.01428\n"
     ]
    },
    {
     "name": "stderr",
     "output_type": "stream",
     "text": [
      "100%|██████████| 732/732 [00:31<00:00, 23.08it/s]\n",
      "  0%|          | 0/765 [00:00<?, ?it/s]"
     ]
    },
    {
     "name": "stdout",
     "output_type": "stream",
     "text": [
      "Mean val loss: 0.015474\n",
      "EarlyStopping counter: 2 out of 10\n",
      "Epoch 21...\n"
     ]
    },
    {
     "name": "stderr",
     "output_type": "stream",
     "text": [
      "100%|██████████| 765/765 [01:35<00:00,  7.98it/s]\n",
      "  0%|          | 0/732 [00:00<?, ?it/s]"
     ]
    },
    {
     "name": "stdout",
     "output_type": "stream",
     "text": [
      "Mean train loss: 0.014154\n"
     ]
    },
    {
     "name": "stderr",
     "output_type": "stream",
     "text": [
      "100%|██████████| 732/732 [00:31<00:00, 23.26it/s]\n",
      "  0%|          | 0/765 [00:00<?, ?it/s]"
     ]
    },
    {
     "name": "stdout",
     "output_type": "stream",
     "text": [
      "Mean val loss: 0.015542\n",
      "EarlyStopping counter: 3 out of 10\n",
      "Epoch 22...\n"
     ]
    },
    {
     "name": "stderr",
     "output_type": "stream",
     "text": [
      "100%|██████████| 765/765 [01:37<00:00,  7.87it/s]\n",
      "  0%|          | 0/732 [00:00<?, ?it/s]"
     ]
    },
    {
     "name": "stdout",
     "output_type": "stream",
     "text": [
      "Mean train loss: 0.014171\n"
     ]
    },
    {
     "name": "stderr",
     "output_type": "stream",
     "text": [
      "100%|██████████| 732/732 [00:31<00:00, 23.55it/s]\n"
     ]
    },
    {
     "name": "stdout",
     "output_type": "stream",
     "text": [
      "Mean val loss: 0.015225\n"
     ]
    },
    {
     "name": "stderr",
     "output_type": "stream",
     "text": [
      "\r",
      "  0%|          | 0/765 [00:00<?, ?it/s]"
     ]
    },
    {
     "name": "stdout",
     "output_type": "stream",
     "text": [
      "Epoch 23...\n"
     ]
    },
    {
     "name": "stderr",
     "output_type": "stream",
     "text": [
      "100%|██████████| 765/765 [01:36<00:00,  7.91it/s]\n",
      "  0%|          | 0/732 [00:00<?, ?it/s]"
     ]
    },
    {
     "name": "stdout",
     "output_type": "stream",
     "text": [
      "Mean train loss: 0.014082\n"
     ]
    },
    {
     "name": "stderr",
     "output_type": "stream",
     "text": [
      "100%|██████████| 732/732 [00:31<00:00, 23.32it/s]\n",
      "  0%|          | 0/765 [00:00<?, ?it/s]"
     ]
    },
    {
     "name": "stdout",
     "output_type": "stream",
     "text": [
      "Mean val loss: 0.015547\n",
      "EarlyStopping counter: 1 out of 10\n",
      "Epoch 24...\n"
     ]
    },
    {
     "name": "stderr",
     "output_type": "stream",
     "text": [
      "100%|██████████| 765/765 [01:36<00:00,  7.92it/s]\n",
      "  0%|          | 0/732 [00:00<?, ?it/s]"
     ]
    },
    {
     "name": "stdout",
     "output_type": "stream",
     "text": [
      "Mean train loss: 0.014083\n"
     ]
    },
    {
     "name": "stderr",
     "output_type": "stream",
     "text": [
      "100%|██████████| 732/732 [00:31<00:00, 23.17it/s]\n"
     ]
    },
    {
     "name": "stdout",
     "output_type": "stream",
     "text": [
      "Mean val loss: 0.015164\n"
     ]
    },
    {
     "name": "stderr",
     "output_type": "stream",
     "text": [
      "\r",
      "  0%|          | 0/765 [00:00<?, ?it/s]"
     ]
    },
    {
     "name": "stdout",
     "output_type": "stream",
     "text": [
      "Epoch 25...\n"
     ]
    },
    {
     "name": "stderr",
     "output_type": "stream",
     "text": [
      "100%|██████████| 765/765 [01:36<00:00,  7.96it/s]\n",
      "  0%|          | 0/732 [00:00<?, ?it/s]"
     ]
    },
    {
     "name": "stdout",
     "output_type": "stream",
     "text": [
      "Mean train loss: 0.013957\n"
     ]
    },
    {
     "name": "stderr",
     "output_type": "stream",
     "text": [
      "100%|██████████| 732/732 [00:31<00:00, 23.31it/s]\n"
     ]
    },
    {
     "name": "stdout",
     "output_type": "stream",
     "text": [
      "Mean val loss: 0.014948\n"
     ]
    },
    {
     "name": "stderr",
     "output_type": "stream",
     "text": [
      "\r",
      "  0%|          | 0/765 [00:00<?, ?it/s]"
     ]
    },
    {
     "name": "stdout",
     "output_type": "stream",
     "text": [
      "Epoch 26...\n"
     ]
    },
    {
     "name": "stderr",
     "output_type": "stream",
     "text": [
      "100%|██████████| 765/765 [01:35<00:00,  7.98it/s]\n",
      "  0%|          | 0/732 [00:00<?, ?it/s]"
     ]
    },
    {
     "name": "stdout",
     "output_type": "stream",
     "text": [
      "Mean train loss: 0.013918\n"
     ]
    },
    {
     "name": "stderr",
     "output_type": "stream",
     "text": [
      "100%|██████████| 732/732 [00:31<00:00, 23.29it/s]\n",
      "  0%|          | 0/765 [00:00<?, ?it/s]"
     ]
    },
    {
     "name": "stdout",
     "output_type": "stream",
     "text": [
      "Mean val loss: 0.015014\n",
      "EarlyStopping counter: 1 out of 10\n",
      "Epoch 27...\n"
     ]
    },
    {
     "name": "stderr",
     "output_type": "stream",
     "text": [
      "100%|██████████| 765/765 [01:36<00:00,  7.92it/s]\n",
      "  0%|          | 0/732 [00:00<?, ?it/s]"
     ]
    },
    {
     "name": "stdout",
     "output_type": "stream",
     "text": [
      "Mean train loss: 0.013927\n"
     ]
    },
    {
     "name": "stderr",
     "output_type": "stream",
     "text": [
      "100%|██████████| 732/732 [00:31<00:00, 23.30it/s]\n",
      "  0%|          | 0/765 [00:00<?, ?it/s]"
     ]
    },
    {
     "name": "stdout",
     "output_type": "stream",
     "text": [
      "Mean val loss: 0.015024\n",
      "EarlyStopping counter: 2 out of 10\n",
      "Epoch 28...\n"
     ]
    },
    {
     "name": "stderr",
     "output_type": "stream",
     "text": [
      "100%|██████████| 765/765 [01:37<00:00,  7.82it/s]\n",
      "  0%|          | 0/732 [00:00<?, ?it/s]"
     ]
    },
    {
     "name": "stdout",
     "output_type": "stream",
     "text": [
      "Mean train loss: 0.013824\n"
     ]
    },
    {
     "name": "stderr",
     "output_type": "stream",
     "text": [
      "100%|██████████| 732/732 [00:31<00:00, 23.36it/s]\n",
      "  0%|          | 0/765 [00:00<?, ?it/s]"
     ]
    },
    {
     "name": "stdout",
     "output_type": "stream",
     "text": [
      "Mean val loss: 0.01506\n",
      "EarlyStopping counter: 3 out of 10\n",
      "Epoch 29...\n"
     ]
    },
    {
     "name": "stderr",
     "output_type": "stream",
     "text": [
      "100%|██████████| 765/765 [01:36<00:00,  7.95it/s]\n",
      "  0%|          | 0/732 [00:00<?, ?it/s]"
     ]
    },
    {
     "name": "stdout",
     "output_type": "stream",
     "text": [
      "Mean train loss: 0.01382\n"
     ]
    },
    {
     "name": "stderr",
     "output_type": "stream",
     "text": [
      "100%|██████████| 732/732 [00:30<00:00, 23.68it/s]\n",
      "  0%|          | 0/765 [00:00<?, ?it/s]"
     ]
    },
    {
     "name": "stdout",
     "output_type": "stream",
     "text": [
      "Mean val loss: 0.015921\n",
      "EarlyStopping counter: 4 out of 10\n",
      "Epoch 30...\n"
     ]
    },
    {
     "name": "stderr",
     "output_type": "stream",
     "text": [
      "100%|██████████| 765/765 [01:37<00:00,  7.83it/s]\n",
      "  0%|          | 0/732 [00:00<?, ?it/s]"
     ]
    },
    {
     "name": "stdout",
     "output_type": "stream",
     "text": [
      "Mean train loss: 0.013754\n"
     ]
    },
    {
     "name": "stderr",
     "output_type": "stream",
     "text": [
      "100%|██████████| 732/732 [00:31<00:00, 23.08it/s]\n"
     ]
    },
    {
     "name": "stdout",
     "output_type": "stream",
     "text": [
      "Mean val loss: 0.014765\n"
     ]
    },
    {
     "name": "stderr",
     "output_type": "stream",
     "text": [
      "\r",
      "  0%|          | 0/765 [00:00<?, ?it/s]"
     ]
    },
    {
     "name": "stdout",
     "output_type": "stream",
     "text": [
      "Epoch 31...\n"
     ]
    },
    {
     "name": "stderr",
     "output_type": "stream",
     "text": [
      "100%|██████████| 765/765 [01:37<00:00,  7.84it/s]\n",
      "  0%|          | 0/732 [00:00<?, ?it/s]"
     ]
    },
    {
     "name": "stdout",
     "output_type": "stream",
     "text": [
      "Mean train loss: 0.013741\n"
     ]
    },
    {
     "name": "stderr",
     "output_type": "stream",
     "text": [
      "100%|██████████| 732/732 [00:31<00:00, 23.41it/s]\n",
      "  0%|          | 0/765 [00:00<?, ?it/s]"
     ]
    },
    {
     "name": "stdout",
     "output_type": "stream",
     "text": [
      "Mean val loss: 0.015381\n",
      "EarlyStopping counter: 1 out of 10\n",
      "Epoch 32...\n"
     ]
    },
    {
     "name": "stderr",
     "output_type": "stream",
     "text": [
      "100%|██████████| 765/765 [01:37<00:00,  7.86it/s]\n",
      "  0%|          | 0/732 [00:00<?, ?it/s]"
     ]
    },
    {
     "name": "stdout",
     "output_type": "stream",
     "text": [
      "Mean train loss: 0.013654\n"
     ]
    },
    {
     "name": "stderr",
     "output_type": "stream",
     "text": [
      "100%|██████████| 732/732 [00:31<00:00, 23.61it/s]\n",
      "  0%|          | 0/765 [00:00<?, ?it/s]"
     ]
    },
    {
     "name": "stdout",
     "output_type": "stream",
     "text": [
      "Mean val loss: 0.01485\n",
      "EarlyStopping counter: 2 out of 10\n",
      "Epoch 33...\n"
     ]
    },
    {
     "name": "stderr",
     "output_type": "stream",
     "text": [
      "100%|██████████| 765/765 [01:36<00:00,  7.91it/s]\n",
      "  0%|          | 0/732 [00:00<?, ?it/s]"
     ]
    },
    {
     "name": "stdout",
     "output_type": "stream",
     "text": [
      "Mean train loss: 0.013694\n"
     ]
    },
    {
     "name": "stderr",
     "output_type": "stream",
     "text": [
      "100%|██████████| 732/732 [00:31<00:00, 23.08it/s]\n"
     ]
    },
    {
     "name": "stdout",
     "output_type": "stream",
     "text": [
      "Mean val loss: 0.01471\n"
     ]
    },
    {
     "name": "stderr",
     "output_type": "stream",
     "text": [
      "\r",
      "  0%|          | 0/765 [00:00<?, ?it/s]"
     ]
    },
    {
     "name": "stdout",
     "output_type": "stream",
     "text": [
      "Epoch 34...\n"
     ]
    },
    {
     "name": "stderr",
     "output_type": "stream",
     "text": [
      "100%|██████████| 765/765 [01:36<00:00,  7.97it/s]\n",
      "  0%|          | 0/732 [00:00<?, ?it/s]"
     ]
    },
    {
     "name": "stdout",
     "output_type": "stream",
     "text": [
      "Mean train loss: 0.013648\n"
     ]
    },
    {
     "name": "stderr",
     "output_type": "stream",
     "text": [
      "100%|██████████| 732/732 [00:31<00:00, 23.30it/s]\n",
      "  0%|          | 0/765 [00:00<?, ?it/s]"
     ]
    },
    {
     "name": "stdout",
     "output_type": "stream",
     "text": [
      "Mean val loss: 0.016841\n",
      "EarlyStopping counter: 1 out of 10\n",
      "Epoch 35...\n"
     ]
    },
    {
     "name": "stderr",
     "output_type": "stream",
     "text": [
      "100%|██████████| 765/765 [01:36<00:00,  7.95it/s]\n",
      "  0%|          | 0/732 [00:00<?, ?it/s]"
     ]
    },
    {
     "name": "stdout",
     "output_type": "stream",
     "text": [
      "Mean train loss: 0.013635\n"
     ]
    },
    {
     "name": "stderr",
     "output_type": "stream",
     "text": [
      "100%|██████████| 732/732 [00:31<00:00, 23.24it/s]\n"
     ]
    },
    {
     "name": "stdout",
     "output_type": "stream",
     "text": [
      "Mean val loss: 0.014713\n"
     ]
    },
    {
     "name": "stderr",
     "output_type": "stream",
     "text": [
      "\r",
      "  0%|          | 0/765 [00:00<?, ?it/s]"
     ]
    },
    {
     "name": "stdout",
     "output_type": "stream",
     "text": [
      "Epoch 36...\n"
     ]
    },
    {
     "name": "stderr",
     "output_type": "stream",
     "text": [
      "100%|██████████| 765/765 [01:36<00:00,  7.94it/s]\n",
      "  0%|          | 0/732 [00:00<?, ?it/s]"
     ]
    },
    {
     "name": "stdout",
     "output_type": "stream",
     "text": [
      "Mean train loss: 0.013628\n"
     ]
    },
    {
     "name": "stderr",
     "output_type": "stream",
     "text": [
      "100%|██████████| 732/732 [00:31<00:00, 23.56it/s]\n",
      "  0%|          | 0/765 [00:00<?, ?it/s]"
     ]
    },
    {
     "name": "stdout",
     "output_type": "stream",
     "text": [
      "Mean val loss: 0.014936\n",
      "EarlyStopping counter: 1 out of 10\n",
      "Epoch 37...\n"
     ]
    },
    {
     "name": "stderr",
     "output_type": "stream",
     "text": [
      "100%|██████████| 765/765 [01:36<00:00,  7.93it/s]\n",
      "  0%|          | 0/732 [00:00<?, ?it/s]"
     ]
    },
    {
     "name": "stdout",
     "output_type": "stream",
     "text": [
      "Mean train loss: 0.013546\n"
     ]
    },
    {
     "name": "stderr",
     "output_type": "stream",
     "text": [
      "100%|██████████| 732/732 [00:31<00:00, 23.16it/s]\n"
     ]
    },
    {
     "name": "stdout",
     "output_type": "stream",
     "text": [
      "Mean val loss: 0.014721\n"
     ]
    },
    {
     "name": "stderr",
     "output_type": "stream",
     "text": [
      "\r",
      "  0%|          | 0/765 [00:00<?, ?it/s]"
     ]
    },
    {
     "name": "stdout",
     "output_type": "stream",
     "text": [
      "Epoch 38...\n"
     ]
    },
    {
     "name": "stderr",
     "output_type": "stream",
     "text": [
      "100%|██████████| 765/765 [01:37<00:00,  7.84it/s]\n",
      "  0%|          | 0/732 [00:00<?, ?it/s]"
     ]
    },
    {
     "name": "stdout",
     "output_type": "stream",
     "text": [
      "Mean train loss: 0.013559\n"
     ]
    },
    {
     "name": "stderr",
     "output_type": "stream",
     "text": [
      "100%|██████████| 732/732 [00:31<00:00, 23.41it/s]\n",
      "  0%|          | 0/765 [00:00<?, ?it/s]"
     ]
    },
    {
     "name": "stdout",
     "output_type": "stream",
     "text": [
      "Mean val loss: 0.014819\n",
      "EarlyStopping counter: 1 out of 10\n",
      "Epoch 39...\n"
     ]
    },
    {
     "name": "stderr",
     "output_type": "stream",
     "text": [
      "100%|██████████| 765/765 [01:37<00:00,  7.89it/s]\n",
      "  0%|          | 0/732 [00:00<?, ?it/s]"
     ]
    },
    {
     "name": "stdout",
     "output_type": "stream",
     "text": [
      "Mean train loss: 0.013519\n"
     ]
    },
    {
     "name": "stderr",
     "output_type": "stream",
     "text": [
      "100%|██████████| 732/732 [00:31<00:00, 23.22it/s]\n",
      "  0%|          | 0/765 [00:00<?, ?it/s]"
     ]
    },
    {
     "name": "stdout",
     "output_type": "stream",
     "text": [
      "Mean val loss: 0.014809\n",
      "EarlyStopping counter: 2 out of 10\n",
      "Epoch 40...\n"
     ]
    },
    {
     "name": "stderr",
     "output_type": "stream",
     "text": [
      "100%|██████████| 765/765 [01:36<00:00,  7.96it/s]\n",
      "  0%|          | 0/732 [00:00<?, ?it/s]"
     ]
    },
    {
     "name": "stdout",
     "output_type": "stream",
     "text": [
      "Mean train loss: 0.013454\n"
     ]
    },
    {
     "name": "stderr",
     "output_type": "stream",
     "text": [
      "100%|██████████| 732/732 [00:31<00:00, 23.32it/s]\n",
      "  0%|          | 0/765 [00:00<?, ?it/s]"
     ]
    },
    {
     "name": "stdout",
     "output_type": "stream",
     "text": [
      "Mean val loss: 0.014745\n",
      "EarlyStopping counter: 3 out of 10\n",
      "Epoch 41...\n"
     ]
    },
    {
     "name": "stderr",
     "output_type": "stream",
     "text": [
      "100%|██████████| 765/765 [01:36<00:00,  7.91it/s]\n",
      "  0%|          | 0/732 [00:00<?, ?it/s]"
     ]
    },
    {
     "name": "stdout",
     "output_type": "stream",
     "text": [
      "Mean train loss: 0.013481\n"
     ]
    },
    {
     "name": "stderr",
     "output_type": "stream",
     "text": [
      "100%|██████████| 732/732 [00:31<00:00, 23.21it/s]\n",
      "  0%|          | 0/765 [00:00<?, ?it/s]"
     ]
    },
    {
     "name": "stdout",
     "output_type": "stream",
     "text": [
      "Mean val loss: 0.017526\n",
      "EarlyStopping counter: 4 out of 10\n",
      "Epoch 42...\n"
     ]
    },
    {
     "name": "stderr",
     "output_type": "stream",
     "text": [
      "100%|██████████| 765/765 [01:35<00:00,  7.98it/s]\n",
      "  0%|          | 0/732 [00:00<?, ?it/s]"
     ]
    },
    {
     "name": "stdout",
     "output_type": "stream",
     "text": [
      "Mean train loss: 0.013478\n"
     ]
    },
    {
     "name": "stderr",
     "output_type": "stream",
     "text": [
      "100%|██████████| 732/732 [00:31<00:00, 23.25it/s]\n"
     ]
    },
    {
     "name": "stdout",
     "output_type": "stream",
     "text": [
      "Mean val loss: 0.014532\n"
     ]
    },
    {
     "name": "stderr",
     "output_type": "stream",
     "text": [
      "\r",
      "  0%|          | 0/765 [00:00<?, ?it/s]"
     ]
    },
    {
     "name": "stdout",
     "output_type": "stream",
     "text": [
      "Epoch 43...\n"
     ]
    },
    {
     "name": "stderr",
     "output_type": "stream",
     "text": [
      "100%|██████████| 765/765 [01:36<00:00,  7.93it/s]\n",
      "  0%|          | 0/732 [00:00<?, ?it/s]"
     ]
    },
    {
     "name": "stdout",
     "output_type": "stream",
     "text": [
      "Mean train loss: 0.013402\n"
     ]
    },
    {
     "name": "stderr",
     "output_type": "stream",
     "text": [
      "100%|██████████| 732/732 [00:31<00:00, 23.53it/s]\n",
      "  0%|          | 0/765 [00:00<?, ?it/s]"
     ]
    },
    {
     "name": "stdout",
     "output_type": "stream",
     "text": [
      "Mean val loss: 0.014624\n",
      "EarlyStopping counter: 1 out of 10\n",
      "Epoch 44...\n"
     ]
    },
    {
     "name": "stderr",
     "output_type": "stream",
     "text": [
      "100%|██████████| 765/765 [01:37<00:00,  7.88it/s]\n",
      "  0%|          | 0/732 [00:00<?, ?it/s]"
     ]
    },
    {
     "name": "stdout",
     "output_type": "stream",
     "text": [
      "Mean train loss: 0.013378\n"
     ]
    },
    {
     "name": "stderr",
     "output_type": "stream",
     "text": [
      "100%|██████████| 732/732 [00:31<00:00, 23.35it/s]\n"
     ]
    },
    {
     "name": "stdout",
     "output_type": "stream",
     "text": [
      "Mean val loss: 0.014499\n"
     ]
    },
    {
     "name": "stderr",
     "output_type": "stream",
     "text": [
      "\r",
      "  0%|          | 0/765 [00:00<?, ?it/s]"
     ]
    },
    {
     "name": "stdout",
     "output_type": "stream",
     "text": [
      "Epoch 45...\n"
     ]
    },
    {
     "name": "stderr",
     "output_type": "stream",
     "text": [
      "100%|██████████| 765/765 [01:36<00:00,  7.95it/s]\n",
      "  0%|          | 0/732 [00:00<?, ?it/s]"
     ]
    },
    {
     "name": "stdout",
     "output_type": "stream",
     "text": [
      "Mean train loss: 0.013394\n"
     ]
    },
    {
     "name": "stderr",
     "output_type": "stream",
     "text": [
      "100%|██████████| 732/732 [00:31<00:00, 23.13it/s]\n",
      "  0%|          | 0/765 [00:00<?, ?it/s]"
     ]
    },
    {
     "name": "stdout",
     "output_type": "stream",
     "text": [
      "Mean val loss: 0.014885\n",
      "EarlyStopping counter: 1 out of 10\n",
      "Epoch 46...\n"
     ]
    },
    {
     "name": "stderr",
     "output_type": "stream",
     "text": [
      "100%|██████████| 765/765 [01:36<00:00,  7.92it/s]\n",
      "  0%|          | 0/732 [00:00<?, ?it/s]"
     ]
    },
    {
     "name": "stdout",
     "output_type": "stream",
     "text": [
      "Mean train loss: 0.013394\n"
     ]
    },
    {
     "name": "stderr",
     "output_type": "stream",
     "text": [
      "100%|██████████| 732/732 [00:31<00:00, 23.22it/s]\n",
      "  0%|          | 0/765 [00:00<?, ?it/s]"
     ]
    },
    {
     "name": "stdout",
     "output_type": "stream",
     "text": [
      "Mean val loss: 0.017082\n",
      "EarlyStopping counter: 2 out of 10\n",
      "Epoch 47...\n"
     ]
    },
    {
     "name": "stderr",
     "output_type": "stream",
     "text": [
      "100%|██████████| 765/765 [01:36<00:00,  7.90it/s]\n",
      "  0%|          | 0/732 [00:00<?, ?it/s]"
     ]
    },
    {
     "name": "stdout",
     "output_type": "stream",
     "text": [
      "Mean train loss: 0.013319\n"
     ]
    },
    {
     "name": "stderr",
     "output_type": "stream",
     "text": [
      "100%|██████████| 732/732 [00:31<00:00, 23.24it/s]\n",
      "  0%|          | 0/765 [00:00<?, ?it/s]"
     ]
    },
    {
     "name": "stdout",
     "output_type": "stream",
     "text": [
      "Mean val loss: 0.014597\n",
      "EarlyStopping counter: 3 out of 10\n",
      "Epoch 48...\n"
     ]
    },
    {
     "name": "stderr",
     "output_type": "stream",
     "text": [
      "100%|██████████| 765/765 [01:36<00:00,  7.89it/s]\n",
      "  0%|          | 0/732 [00:00<?, ?it/s]"
     ]
    },
    {
     "name": "stdout",
     "output_type": "stream",
     "text": [
      "Mean train loss: 0.013386\n"
     ]
    },
    {
     "name": "stderr",
     "output_type": "stream",
     "text": [
      "100%|██████████| 732/732 [00:31<00:00, 23.45it/s]\n",
      "  0%|          | 0/765 [00:00<?, ?it/s]"
     ]
    },
    {
     "name": "stdout",
     "output_type": "stream",
     "text": [
      "Mean val loss: 0.01463\n",
      "EarlyStopping counter: 4 out of 10\n",
      "Epoch 49...\n"
     ]
    },
    {
     "name": "stderr",
     "output_type": "stream",
     "text": [
      "100%|██████████| 765/765 [01:35<00:00,  7.97it/s]\n",
      "  0%|          | 0/732 [00:00<?, ?it/s]"
     ]
    },
    {
     "name": "stdout",
     "output_type": "stream",
     "text": [
      "Mean train loss: 0.013298\n"
     ]
    },
    {
     "name": "stderr",
     "output_type": "stream",
     "text": [
      "100%|██████████| 732/732 [00:31<00:00, 23.19it/s]\n",
      "  0%|          | 0/765 [00:00<?, ?it/s]"
     ]
    },
    {
     "name": "stdout",
     "output_type": "stream",
     "text": [
      "Mean val loss: 0.014559\n",
      "EarlyStopping counter: 5 out of 10\n",
      "Epoch 50...\n"
     ]
    },
    {
     "name": "stderr",
     "output_type": "stream",
     "text": [
      "100%|██████████| 765/765 [01:36<00:00,  7.94it/s]\n",
      "  0%|          | 0/732 [00:00<?, ?it/s]"
     ]
    },
    {
     "name": "stdout",
     "output_type": "stream",
     "text": [
      "Mean train loss: 0.013314\n"
     ]
    },
    {
     "name": "stderr",
     "output_type": "stream",
     "text": [
      "100%|██████████| 732/732 [00:31<00:00, 23.50it/s]\n",
      "  0%|          | 0/765 [00:00<?, ?it/s]"
     ]
    },
    {
     "name": "stdout",
     "output_type": "stream",
     "text": [
      "Mean val loss: 0.015748\n",
      "EarlyStopping counter: 6 out of 10\n",
      "Epoch 51...\n"
     ]
    },
    {
     "name": "stderr",
     "output_type": "stream",
     "text": [
      "100%|██████████| 765/765 [01:36<00:00,  7.94it/s]\n",
      "  0%|          | 0/732 [00:00<?, ?it/s]"
     ]
    },
    {
     "name": "stdout",
     "output_type": "stream",
     "text": [
      "Mean train loss: 0.013265\n"
     ]
    },
    {
     "name": "stderr",
     "output_type": "stream",
     "text": [
      "100%|██████████| 732/732 [00:31<00:00, 23.49it/s]\n",
      "  0%|          | 0/765 [00:00<?, ?it/s]"
     ]
    },
    {
     "name": "stdout",
     "output_type": "stream",
     "text": [
      "Mean val loss: 0.016271\n",
      "EarlyStopping counter: 7 out of 10\n",
      "Epoch 52...\n"
     ]
    },
    {
     "name": "stderr",
     "output_type": "stream",
     "text": [
      "100%|██████████| 765/765 [01:37<00:00,  7.88it/s]\n",
      "  0%|          | 0/732 [00:00<?, ?it/s]"
     ]
    },
    {
     "name": "stdout",
     "output_type": "stream",
     "text": [
      "Mean train loss: 0.013258\n"
     ]
    },
    {
     "name": "stderr",
     "output_type": "stream",
     "text": [
      "100%|██████████| 732/732 [00:31<00:00, 23.17it/s]\n",
      "  0%|          | 0/765 [00:00<?, ?it/s]"
     ]
    },
    {
     "name": "stdout",
     "output_type": "stream",
     "text": [
      "Mean val loss: 0.014699\n",
      "EarlyStopping counter: 8 out of 10\n",
      "Epoch 53...\n"
     ]
    },
    {
     "name": "stderr",
     "output_type": "stream",
     "text": [
      "100%|██████████| 765/765 [01:36<00:00,  7.91it/s]\n",
      "  0%|          | 0/732 [00:00<?, ?it/s]"
     ]
    },
    {
     "name": "stdout",
     "output_type": "stream",
     "text": [
      "Mean train loss: 0.013223\n"
     ]
    },
    {
     "name": "stderr",
     "output_type": "stream",
     "text": [
      "100%|██████████| 732/732 [00:31<00:00, 23.54it/s]\n",
      "  0%|          | 0/765 [00:00<?, ?it/s]"
     ]
    },
    {
     "name": "stdout",
     "output_type": "stream",
     "text": [
      "Mean val loss: 0.014606\n",
      "EarlyStopping counter: 9 out of 10\n",
      "Epoch 54...\n"
     ]
    },
    {
     "name": "stderr",
     "output_type": "stream",
     "text": [
      "100%|██████████| 765/765 [01:36<00:00,  7.92it/s]\n",
      "  0%|          | 0/732 [00:00<?, ?it/s]"
     ]
    },
    {
     "name": "stdout",
     "output_type": "stream",
     "text": [
      "Mean train loss: 0.013203\n"
     ]
    },
    {
     "name": "stderr",
     "output_type": "stream",
     "text": [
      "100%|██████████| 732/732 [00:31<00:00, 23.36it/s]\n",
      "  0%|          | 0/765 [00:00<?, ?it/s]"
     ]
    },
    {
     "name": "stdout",
     "output_type": "stream",
     "text": [
      "Mean val loss: 0.015113\n",
      "EarlyStopping counter: 1 out of 10\n",
      "Epoch 56...\n"
     ]
    },
    {
     "name": "stderr",
     "output_type": "stream",
     "text": [
      "100%|██████████| 765/765 [01:37<00:00,  7.87it/s]\n",
      "  0%|          | 0/732 [00:00<?, ?it/s]"
     ]
    },
    {
     "name": "stdout",
     "output_type": "stream",
     "text": [
      "Mean train loss: 0.013206\n"
     ]
    },
    {
     "name": "stderr",
     "output_type": "stream",
     "text": [
      "100%|██████████| 732/732 [00:31<00:00, 23.05it/s]\n",
      "  0%|          | 0/765 [00:00<?, ?it/s]"
     ]
    },
    {
     "name": "stdout",
     "output_type": "stream",
     "text": [
      "Mean val loss: 0.01442\n",
      "EarlyStopping counter: 2 out of 10\n",
      "Epoch 57...\n"
     ]
    },
    {
     "name": "stderr",
     "output_type": "stream",
     "text": [
      "100%|██████████| 765/765 [01:36<00:00,  7.90it/s]\n",
      "  0%|          | 0/732 [00:00<?, ?it/s]"
     ]
    },
    {
     "name": "stdout",
     "output_type": "stream",
     "text": [
      "Mean train loss: 0.013207\n"
     ]
    },
    {
     "name": "stderr",
     "output_type": "stream",
     "text": [
      "100%|██████████| 732/732 [00:31<00:00, 22.90it/s]\n",
      "  0%|          | 0/765 [00:00<?, ?it/s]"
     ]
    },
    {
     "name": "stdout",
     "output_type": "stream",
     "text": [
      "Mean val loss: 0.014533\n",
      "EarlyStopping counter: 3 out of 10\n",
      "Epoch 58...\n"
     ]
    },
    {
     "name": "stderr",
     "output_type": "stream",
     "text": [
      " 72%|███████▏  | 548/765 [01:09<00:28,  7.74it/s]IOPub message rate exceeded.\n",
      "The notebook server will temporarily stop sending output\n",
      "to the client in order to avoid crashing it.\n",
      "To change this limit, set the config variable\n",
      "`--NotebookApp.iopub_msg_rate_limit`.\n",
      "\n",
      "Current values:\n",
      "NotebookApp.iopub_msg_rate_limit=1000.0 (msgs/sec)\n",
      "NotebookApp.rate_limit_window=3.0 (secs)\n",
      "\n",
      "100%|██████████| 765/765 [01:36<00:00,  7.94it/s]\n",
      "  0%|          | 0/732 [00:00<?, ?it/s]"
     ]
    },
    {
     "name": "stdout",
     "output_type": "stream",
     "text": [
      "Mean train loss: 0.013054\n"
     ]
    },
    {
     "name": "stderr",
     "output_type": "stream",
     "text": [
      "100%|██████████| 732/732 [00:31<00:00, 23.00it/s]\n",
      "  0%|          | 0/765 [00:00<?, ?it/s]"
     ]
    },
    {
     "name": "stdout",
     "output_type": "stream",
     "text": [
      "Mean val loss: 0.014367\n",
      "EarlyStopping counter: 1 out of 10\n",
      "Epoch 67...\n"
     ]
    },
    {
     "name": "stderr",
     "output_type": "stream",
     "text": [
      "100%|██████████| 765/765 [01:36<00:00,  7.94it/s]\n",
      "  0%|          | 0/732 [00:00<?, ?it/s]"
     ]
    },
    {
     "name": "stdout",
     "output_type": "stream",
     "text": [
      "Mean train loss: 0.013034\n"
     ]
    },
    {
     "name": "stderr",
     "output_type": "stream",
     "text": [
      "100%|██████████| 732/732 [00:31<00:00, 23.09it/s]\n",
      "  0%|          | 0/765 [00:00<?, ?it/s]"
     ]
    },
    {
     "name": "stdout",
     "output_type": "stream",
     "text": [
      "Mean val loss: 0.01431\n",
      "EarlyStopping counter: 2 out of 10\n",
      "Epoch 68...\n"
     ]
    },
    {
     "name": "stderr",
     "output_type": "stream",
     "text": [
      "100%|██████████| 765/765 [01:36<00:00,  7.96it/s]\n",
      "  0%|          | 0/732 [00:00<?, ?it/s]"
     ]
    },
    {
     "name": "stdout",
     "output_type": "stream",
     "text": [
      "Mean train loss: 0.013047\n"
     ]
    },
    {
     "name": "stderr",
     "output_type": "stream",
     "text": [
      " 95%|█████████▌| 699/732 [00:30<00:01, 24.04it/s]IOPub message rate exceeded.\n",
      "The notebook server will temporarily stop sending output\n",
      "to the client in order to avoid crashing it.\n",
      "To change this limit, set the config variable\n",
      "`--NotebookApp.iopub_msg_rate_limit`.\n",
      "\n",
      "Current values:\n",
      "NotebookApp.iopub_msg_rate_limit=1000.0 (msgs/sec)\n",
      "NotebookApp.rate_limit_window=3.0 (secs)\n",
      "\n",
      "100%|██████████| 810/810 [09:37<00:00,  1.40it/s]\n",
      "100%|██████████| 788/788 [09:24<00:00,  1.40it/s]\n",
      "100%|██████████| 255/255 [02:50<00:00,  1.49it/s]\n",
      "100%|██████████| 788/788 [08:53<00:00,  1.48it/s]\n",
      "100%|██████████| 788/788 [08:47<00:00,  1.49it/s]\n",
      " 15%|█▍        | 118/799 [01:20<07:41,  1.47it/s]IOPub message rate exceeded.\n",
      "The notebook server will temporarily stop sending output\n",
      "to the client in order to avoid crashing it.\n",
      "To change this limit, set the config variable\n",
      "`--NotebookApp.iopub_msg_rate_limit`.\n",
      "\n",
      "Current values:\n",
      "NotebookApp.iopub_msg_rate_limit=1000.0 (msgs/sec)\n",
      "NotebookApp.rate_limit_window=3.0 (secs)\n",
      "\n"
     ]
    }
   ],
   "source": [
    "results = train_loop(\n",
    "    model=model,\n",
    "    dataloader_train=dataloader_train, \n",
    "    dataloader_val=dataloader_val,\n",
    "    dataloaders_test=dataloaders_test,\n",
    "    criterion=criterion, \n",
    "    optimizer=optimizer, \n",
    "    scheduler=scheduler,\n",
    "    metrics=metrics,\n",
    "    exp_name=data_conf['conf_name'],\n",
    "    **train_conf)"
   ]
  },
  {
   "cell_type": "markdown",
   "metadata": {},
   "source": [
    "## Dump experiment results"
   ]
  },
  {
   "cell_type": "code",
   "execution_count": 26,
   "metadata": {},
   "outputs": [],
   "source": [
    "import pickle\n",
    "import json"
   ]
  },
  {
   "cell_type": "code",
   "execution_count": 27,
   "metadata": {},
   "outputs": [],
   "source": [
    "p = './{}_exp_results.pkl'.format(data_conf['conf_name'])\n",
    "with open(p, 'wb') as f:\n",
    "    pickle.dump(results, f)"
   ]
  },
  {
   "cell_type": "code",
   "execution_count": 28,
   "metadata": {},
   "outputs": [],
   "source": [
    "# p = './{}_exp_results.pkl'.format(data_conf['conf_name'])\n",
    "# with open(p, 'rb') as f:\n",
    "#     results = pickle.load(f)"
   ]
  },
  {
   "cell_type": "code",
   "execution_count": 11,
   "metadata": {},
   "outputs": [
    {
     "data": {
      "text/plain": [
       "IncompatibleKeys(missing_keys=[], unexpected_keys=[])"
      ]
     },
     "execution_count": 11,
     "metadata": {},
     "output_type": "execute_result"
    }
   ],
   "source": [
    "import torch\n",
    "model.load_state_dict(torch.load('./{}.pt'.format(data_conf['conf_name'])))"
   ]
  },
  {
   "cell_type": "markdown",
   "metadata": {},
   "source": [
    "## Train and validation losses"
   ]
  },
  {
   "cell_type": "code",
   "execution_count": 29,
   "metadata": {},
   "outputs": [],
   "source": [
    "from itertools import chain"
   ]
  },
  {
   "cell_type": "code",
   "execution_count": 30,
   "metadata": {},
   "outputs": [],
   "source": [
    "train_losses = list(chain(*[item for item in results['train_losses']]))\n",
    "val_losses = list(chain(*[item for item in results['val_losses']]))"
   ]
  },
  {
   "cell_type": "code",
   "execution_count": 31,
   "metadata": {},
   "outputs": [],
   "source": [
    "def moving_average(a, n=5) :\n",
    "    ret = np.cumsum([a[0]] * (n - 1) + a, dtype=float)\n",
    "    ret[n:] = ret[n:] - ret[:-n]\n",
    "    return ret[n - 1:] / n"
   ]
  },
  {
   "cell_type": "code",
   "execution_count": 32,
   "metadata": {},
   "outputs": [
    {
     "data": {
      "image/png": "[encoded data removed]",
      "text/plain": [
       "<Figure size 720x720 with 1 Axes>"
      ]
     },
     "metadata": {
      "needs_background": "light"
     },
     "output_type": "display_data"
    }
   ],
   "source": [
    "plt.figure(figsize=(10, 10))\n",
    "plt.title('Moving-averaged batch losses')\n",
    "plt.plot(np.arange(len(train_losses)), moving_average(train_losses), label='train')\n",
    "plt.plot(np.arange(len(val_losses)), moving_average(val_losses), label='validation')\n",
    "\n",
    "plt.legend(loc='best')\n",
    "plt.yscale('log')\n",
    "\n",
    "# plt.ylim([1e-2, 1])\n",
    "plt.show()"
   ]
  },
  {
   "cell_type": "code",
   "execution_count": 33,
   "metadata": {
    "scrolled": true
   },
   "outputs": [],
   "source": [
    "mean_train_loss = [np.mean(item) for item in results['train_losses']]\n",
    "mean_val_loss = [np.mean(item) for item in results['val_losses']]"
   ]
  },
  {
   "cell_type": "code",
   "execution_count": 34,
   "metadata": {},
   "outputs": [
    {
     "data": {
      "image/png": "[encoded data removed]",
      "text/plain": [
       "<Figure size 720x720 with 1 Axes>"
      ]
     },
     "metadata": {
      "needs_background": "light"
     },
     "output_type": "display_data"
    }
   ],
   "source": [
    "plt.figure(figsize=(10, 10))\n",
    "plt.title('Epoch losses')\n",
    "plt.plot(np.arange(len(mean_train_loss)) + 1, mean_train_loss, label='train')\n",
    "plt.plot(np.arange(len(mean_val_loss)) + 1, mean_val_loss, label='val')\n",
    "\n",
    "plt.yscale('log')\n",
    "plt.legend(loc='best')\n",
    "\n",
    "plt.xlim([1, len(mean_train_loss) + 1])\n",
    "plt.show()"
   ]
  },
  {
   "cell_type": "markdown",
   "metadata": {},
   "source": [
    "## Results"
   ]
  },
  {
   "cell_type": "code",
   "execution_count": 35,
   "metadata": {},
   "outputs": [],
   "source": [
    "import pandas as pd"
   ]
  },
  {
   "cell_type": "code",
   "execution_count": 36,
   "metadata": {},
   "outputs": [],
   "source": [
    "from visualization_utils import make_df"
   ]
  },
  {
   "cell_type": "code",
   "execution_count": 37,
   "metadata": {},
   "outputs": [
    {
     "data": {
      "text/html": [
       "<div>\n",
       "<style scoped>\n",
       "    .dataframe tbody tr th:only-of-type {\n",
       "        vertical-align: middle;\n",
       "    }\n",
       "\n",
       "    .dataframe tbody tr th {\n",
       "        vertical-align: top;\n",
       "    }\n",
       "\n",
       "    .dataframe thead th {\n",
       "        text-align: right;\n",
       "    }\n",
       "</style>\n",
       "<table border=\"1\" class=\"dataframe\">\n",
       "  <thead>\n",
       "    <tr style=\"text-align: right;\">\n",
       "      <th></th>\n",
       "      <th>accuracy</th>\n",
       "      <th>precision</th>\n",
       "      <th>recall</th>\n",
       "      <th>f1</th>\n",
       "      <th>pr_auc</th>\n",
       "      <th>iou</th>\n",
       "      <th>stack</th>\n",
       "      <th>model</th>\n",
       "    </tr>\n",
       "  </thead>\n",
       "  <tbody>\n",
       "    <tr>\n",
       "      <th>0</th>\n",
       "      <td>0.996981</td>\n",
       "      <td>0.979863</td>\n",
       "      <td>0.981856</td>\n",
       "      <td>0.980859</td>\n",
       "      <td>0.998851</td>\n",
       "      <td>0.962437</td>\n",
       "      <td>carb96558</td>\n",
       "      <td>basic</td>\n",
       "    </tr>\n",
       "    <tr>\n",
       "      <th>1</th>\n",
       "      <td>0.989138</td>\n",
       "      <td>0.925722</td>\n",
       "      <td>0.989220</td>\n",
       "      <td>0.956418</td>\n",
       "      <td>0.983804</td>\n",
       "      <td>0.916476</td>\n",
       "      <td>carb71</td>\n",
       "      <td>basic</td>\n",
       "    </tr>\n",
       "    <tr>\n",
       "      <th>2</th>\n",
       "      <td>0.984184</td>\n",
       "      <td>0.969380</td>\n",
       "      <td>0.854781</td>\n",
       "      <td>0.908481</td>\n",
       "      <td>0.973506</td>\n",
       "      <td>0.832309</td>\n",
       "      <td>carbRNF</td>\n",
       "      <td>basic</td>\n",
       "    </tr>\n",
       "    <tr>\n",
       "      <th>3</th>\n",
       "      <td>0.992832</td>\n",
       "      <td>0.996552</td>\n",
       "      <td>0.907944</td>\n",
       "      <td>0.950187</td>\n",
       "      <td>0.996957</td>\n",
       "      <td>0.905101</td>\n",
       "      <td>SPE_carb10_58_box3</td>\n",
       "      <td>basic</td>\n",
       "    </tr>\n",
       "    <tr>\n",
       "      <th>4</th>\n",
       "      <td>0.991394</td>\n",
       "      <td>0.987126</td>\n",
       "      <td>0.921074</td>\n",
       "      <td>0.952957</td>\n",
       "      <td>0.995020</td>\n",
       "      <td>0.910141</td>\n",
       "      <td>SoilAh-1</td>\n",
       "      <td>basic</td>\n",
       "    </tr>\n",
       "    <tr>\n",
       "      <th>5</th>\n",
       "      <td>0.996220</td>\n",
       "      <td>0.974509</td>\n",
       "      <td>0.976300</td>\n",
       "      <td>0.975404</td>\n",
       "      <td>0.997986</td>\n",
       "      <td>0.951989</td>\n",
       "      <td>SoilB-2</td>\n",
       "      <td>basic</td>\n",
       "    </tr>\n",
       "    <tr>\n",
       "      <th>6</th>\n",
       "      <td>0.990270</td>\n",
       "      <td>0.996591</td>\n",
       "      <td>0.919572</td>\n",
       "      <td>0.956534</td>\n",
       "      <td>0.990609</td>\n",
       "      <td>0.916688</td>\n",
       "      <td>TeTree_subset1</td>\n",
       "      <td>basic</td>\n",
       "    </tr>\n",
       "    <tr>\n",
       "      <th>7</th>\n",
       "      <td>0.992933</td>\n",
       "      <td>0.996063</td>\n",
       "      <td>0.949968</td>\n",
       "      <td>0.972470</td>\n",
       "      <td>0.994653</td>\n",
       "      <td>0.946414</td>\n",
       "      <td>TiTree_subset2</td>\n",
       "      <td>basic</td>\n",
       "    </tr>\n",
       "    <tr>\n",
       "      <th>8</th>\n",
       "      <td>0.993749</td>\n",
       "      <td>0.971066</td>\n",
       "      <td>0.977943</td>\n",
       "      <td>0.974492</td>\n",
       "      <td>0.997937</td>\n",
       "      <td>0.950253</td>\n",
       "      <td>Urna_22</td>\n",
       "      <td>basic</td>\n",
       "    </tr>\n",
       "    <tr>\n",
       "      <th>9</th>\n",
       "      <td>0.991562</td>\n",
       "      <td>0.973800</td>\n",
       "      <td>0.977308</td>\n",
       "      <td>0.975550</td>\n",
       "      <td>0.998174</td>\n",
       "      <td>0.952268</td>\n",
       "      <td>Urna_30</td>\n",
       "      <td>basic</td>\n",
       "    </tr>\n",
       "    <tr>\n",
       "      <th>10</th>\n",
       "      <td>0.985569</td>\n",
       "      <td>0.976547</td>\n",
       "      <td>0.917087</td>\n",
       "      <td>0.945884</td>\n",
       "      <td>0.985571</td>\n",
       "      <td>0.897324</td>\n",
       "      <td>Urna_34</td>\n",
       "      <td>basic</td>\n",
       "    </tr>\n",
       "  </tbody>\n",
       "</table>\n",
       "</div>"
      ],
      "text/plain": [
       "    accuracy  precision    recall        f1    pr_auc       iou  \\\n",
       "0   0.996981   0.979863  0.981856  0.980859  0.998851  0.962437   \n",
       "1   0.989138   0.925722  0.989220  0.956418  0.983804  0.916476   \n",
       "2   0.984184   0.969380  0.854781  0.908481  0.973506  0.832309   \n",
       "3   0.992832   0.996552  0.907944  0.950187  0.996957  0.905101   \n",
       "4   0.991394   0.987126  0.921074  0.952957  0.995020  0.910141   \n",
       "5   0.996220   0.974509  0.976300  0.975404  0.997986  0.951989   \n",
       "6   0.990270   0.996591  0.919572  0.956534  0.990609  0.916688   \n",
       "7   0.992933   0.996063  0.949968  0.972470  0.994653  0.946414   \n",
       "8   0.993749   0.971066  0.977943  0.974492  0.997937  0.950253   \n",
       "9   0.991562   0.973800  0.977308  0.975550  0.998174  0.952268   \n",
       "10  0.985569   0.976547  0.917087  0.945884  0.985571  0.897324   \n",
       "\n",
       "                 stack  model  \n",
       "0            carb96558  basic  \n",
       "1               carb71  basic  \n",
       "2              carbRNF  basic  \n",
       "3   SPE_carb10_58_box3  basic  \n",
       "4             SoilAh-1  basic  \n",
       "5              SoilB-2  basic  \n",
       "6       TeTree_subset1  basic  \n",
       "7       TiTree_subset2  basic  \n",
       "8              Urna_22  basic  \n",
       "9              Urna_30  basic  \n",
       "10             Urna_34  basic  "
      ]
     },
     "execution_count": 37,
     "metadata": {},
     "output_type": "execute_result"
    }
   ],
   "source": [
    "df = make_df(results, model_name='basic')\n",
    "df"
   ]
  },
  {
   "cell_type": "code",
   "execution_count": 38,
   "metadata": {},
   "outputs": [
    {
     "name": "stdout",
     "output_type": "stream",
     "text": [
      "Mean   IOU: 0.92195\n",
      "Std    IOU: 0.037394\n",
      "Min    IOU: 0.83231\n",
      "Median IOU: 0.91669\n"
     ]
    }
   ],
   "source": [
    "print('Mean   IOU: {:.5}'.format(df['iou'].mean()))\n",
    "print('Std    IOU: {:.5}'.format(df['iou'].std()))\n",
    "print('Min    IOU: {:.5}'.format(df['iou'].min()))\n",
    "print('Median IOU: {:.5}'.format(df['iou'].median()))"
   ]
  },
  {
   "cell_type": "code",
   "execution_count": null,
   "metadata": {},
   "outputs": [],
   "source": []
  },
  {
   "cell_type": "code",
   "execution_count": null,
   "metadata": {},
   "outputs": [],
   "source": []
  }
 ],
 "metadata": {
  "kernelspec": {
   "display_name": "Conda python 3.7",
   "language": "python",
   "name": "py37"
  },
  "language_info": {
   "codemirror_mode": {
    "name": "ipython",
    "version": 3
   },
   "file_extension": ".py",
   "mimetype": "text/x-python",
   "name": "python",
   "nbconvert_exporter": "python",
   "pygments_lexer": "ipython3",
   "version": "3.7.5"
  }
 },
 "nbformat": 4,
 "nbformat_minor": 2
}
