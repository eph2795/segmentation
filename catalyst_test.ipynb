{
 "cells": [
  {
   "cell_type": "code",
   "execution_count": 1,
   "metadata": {},
   "outputs": [
    {
     "name": "stdout",
     "output_type": "stream",
     "text": [
      "--2019-05-30 17:48:26--  https://www.dropbox.com/s/0rvuae4mj6jn922/isbi.tar.gz\n",
      "Resolving www.dropbox.com (www.dropbox.com)... 162.125.70.1, 2620:100:6026:1::a27d:4601\n",
      "Connecting to www.dropbox.com (www.dropbox.com)|162.125.70.1|:443... connected.\n",
      "HTTP request sent, awaiting response... 301 Moved Permanently\n",
      "Location: /s/raw/0rvuae4mj6jn922/isbi.tar.gz [following]\n",
      "--2019-05-30 17:48:27--  https://www.dropbox.com/s/raw/0rvuae4mj6jn922/isbi.tar.gz\n",
      "Reusing existing connection to www.dropbox.com:443.\n",
      "HTTP request sent, awaiting response... 302 Found\n",
      "Location: https://uc963322bc1a11d5caa011e50cc4.dl.dropboxusercontent.com/cd/0/inline/Ah44JR0-CjUaGyLemFowNrrOAL-_pwaKCrrs9br3UZZu3qT4yw6xIbX3iTMjyrywebwWy6cQYhZ8A_kiswtLdGmOR1npasuHAfTcrrGNjqnsvQ/file# [following]\n",
      "--2019-05-30 17:48:28--  https://uc963322bc1a11d5caa011e50cc4.dl.dropboxusercontent.com/cd/0/inline/Ah44JR0-CjUaGyLemFowNrrOAL-_pwaKCrrs9br3UZZu3qT4yw6xIbX3iTMjyrywebwWy6cQYhZ8A_kiswtLdGmOR1npasuHAfTcrrGNjqnsvQ/file\n",
      "Resolving uc963322bc1a11d5caa011e50cc4.dl.dropboxusercontent.com (uc963322bc1a11d5caa011e50cc4.dl.dropboxusercontent.com)... 162.125.70.6, 2620:100:6026:6::a27d:4606\n",
      "Connecting to uc963322bc1a11d5caa011e50cc4.dl.dropboxusercontent.com (uc963322bc1a11d5caa011e50cc4.dl.dropboxusercontent.com)|162.125.70.6|:443... connected.\n",
      "HTTP request sent, awaiting response... 302 FOUND\n",
      "Location: /cd/0/inline2/Ah6nXn1zN2ou4MePiq6Q9tbjBuTPDZrGpWne-J_d1wLy3zBLwcyaEwnGdMqgl73cYc9Ieb0O427W-SIwJU_Xc9WumUdDtucXiYmfmsyMHojnkk_vV-dhhmBEu96aLLzk2CDijTm46QyTD5czYCO8_Leufdjku0eWaiy-elyDLx2Slj7zp2Dq7Hd2jRTUDl5kqqmeVCQSpJ4lNOFxFhidfgLupw3FzNNwb1M0bA4Cmm0Lihp_oq11hUE_EaeTGNLgT_jVyfVqIvfeBTIEDuvid4ho0QChjP9bKsk-v-IkEP2DUEqZh58WLsI0wiqpsYEWR4e-Z0oUu7ApdQBo9kvOPU9p/file [following]\n",
      "--2019-05-30 17:48:29--  https://uc963322bc1a11d5caa011e50cc4.dl.dropboxusercontent.com/cd/0/inline2/Ah6nXn1zN2ou4MePiq6Q9tbjBuTPDZrGpWne-J_d1wLy3zBLwcyaEwnGdMqgl73cYc9Ieb0O427W-SIwJU_Xc9WumUdDtucXiYmfmsyMHojnkk_vV-dhhmBEu96aLLzk2CDijTm46QyTD5czYCO8_Leufdjku0eWaiy-elyDLx2Slj7zp2Dq7Hd2jRTUDl5kqqmeVCQSpJ4lNOFxFhidfgLupw3FzNNwb1M0bA4Cmm0Lihp_oq11hUE_EaeTGNLgT_jVyfVqIvfeBTIEDuvid4ho0QChjP9bKsk-v-IkEP2DUEqZh58WLsI0wiqpsYEWR4e-Z0oUu7ApdQBo9kvOPU9p/file\n",
      "Reusing existing connection to uc963322bc1a11d5caa011e50cc4.dl.dropboxusercontent.com:443.\n",
      "HTTP request sent, awaiting response... 200 OK\n",
      "Length: 23616000 (23M) [application/octet-stream]\n",
      "Saving to: ‘./data/isbi.tar.gz’\n",
      "\n",
      "isbi.tar.gz         100%[===================>]  22.52M  5.04MB/s    in 5.2s    \n",
      "\n",
      "2019-05-30 17:48:35 (4.30 MB/s) - ‘./data/isbi.tar.gz’ saved [23616000/23616000]\n",
      "\n"
     ]
    }
   ],
   "source": [
    "! wget -P ./data/ https://www.dropbox.com/s/0rvuae4mj6jn922/isbi.tar.gz\n",
    "! tar -xf ./data/isbi.tar.gz -C ./data/"
   ]
  },
  {
   "cell_type": "code",
   "execution_count": 1,
   "metadata": {},
   "outputs": [],
   "source": [
    "import os\n",
    "os.environ[\"CUDA_VISIBLE_DEVICES\"] = \"1\""
   ]
  },
  {
   "cell_type": "code",
   "execution_count": 2,
   "metadata": {},
   "outputs": [],
   "source": [
    "import tifffile as tiff\n",
    "\n",
    "images = tiff.imread('./data/isbi/train-volume.tif')\n",
    "masks = tiff.imread('./data/isbi/train-labels.tif')\n",
    "\n",
    "data = list(zip(images, masks))\n",
    "\n",
    "train_data = data[:-4]\n",
    "valid_data = data[-4:]"
   ]
  },
  {
   "cell_type": "code",
   "execution_count": 3,
   "metadata": {},
   "outputs": [
    {
     "data": {
      "text/plain": [
       "[(array([[126, 107, 122, ..., 161, 164, 177],\n",
       "         [138, 118, 123, ..., 153, 149, 153],\n",
       "         [141, 135, 145, ..., 144, 145, 137],\n",
       "         ...,\n",
       "         [155, 149, 168, ..., 139, 115, 120],\n",
       "         [163, 154, 166, ..., 158, 141, 148],\n",
       "         [151, 141, 160, ..., 183, 164, 171]], dtype=uint8),\n",
       "  array([[255, 255, 255, ..., 255, 255, 255],\n",
       "         [255, 255, 255, ..., 255, 255, 255],\n",
       "         [255, 255, 255, ..., 255, 255, 255],\n",
       "         ...,\n",
       "         [255, 255, 255, ..., 255, 255, 255],\n",
       "         [255, 255, 255, ..., 255, 255, 255],\n",
       "         [255, 255, 255, ..., 255, 255, 255]], dtype=uint8)),\n",
       " (array([[115, 131, 130, ..., 124, 125, 137],\n",
       "         [115, 132, 131, ..., 105, 111, 143],\n",
       "         [118, 127, 110, ..., 115, 131, 152],\n",
       "         ...,\n",
       "         [125, 146, 144, ..., 169, 172, 174],\n",
       "         [150, 169, 155, ..., 177, 178, 172],\n",
       "         [139, 139, 128, ..., 182, 171, 155]], dtype=uint8),\n",
       "  array([[255, 255, 255, ..., 255, 255, 255],\n",
       "         [255, 255, 255, ..., 255, 255, 255],\n",
       "         [255, 255, 255, ..., 255, 255, 255],\n",
       "         ...,\n",
       "         [255, 255, 255, ..., 255, 255, 255],\n",
       "         [255, 255, 255, ..., 255, 255, 255],\n",
       "         [255, 255, 255, ..., 255, 255, 255]], dtype=uint8)),\n",
       " (array([[156, 185, 201, ..., 165, 162, 160],\n",
       "         [164, 201, 206, ..., 146, 141, 150],\n",
       "         [174, 196, 208, ..., 147, 159, 160],\n",
       "         ...,\n",
       "         [164, 163, 178, ..., 248, 252, 246],\n",
       "         [164, 162, 187, ..., 250, 254, 249],\n",
       "         [177, 175, 200, ..., 252, 252, 251]], dtype=uint8),\n",
       "  array([[255, 255, 255, ..., 255, 255, 255],\n",
       "         [255, 255, 255, ..., 255, 255, 255],\n",
       "         [255, 255, 255, ..., 255, 255, 255],\n",
       "         ...,\n",
       "         [255, 255, 255, ..., 255, 255, 255],\n",
       "         [255, 255, 255, ..., 255, 255, 255],\n",
       "         [255, 255, 255, ..., 255, 255, 255]], dtype=uint8)),\n",
       " (array([[147, 157, 156, ..., 116, 128, 129],\n",
       "         [162, 152, 142, ..., 154, 160, 152],\n",
       "         [176, 151, 147, ..., 187, 192, 186],\n",
       "         ...,\n",
       "         [149, 151, 138, ..., 181, 193, 175],\n",
       "         [124, 125, 118, ..., 146, 163, 163],\n",
       "         [ 80,  83,  66, ..., 116, 123, 128]], dtype=uint8),\n",
       "  array([[255, 255, 255, ..., 255, 255, 255],\n",
       "         [255, 255, 255, ..., 255, 255, 255],\n",
       "         [255, 255, 255, ..., 255, 255, 255],\n",
       "         ...,\n",
       "         [255,   0,   0, ..., 255, 255, 255],\n",
       "         [255,   0,   0, ..., 255, 255, 255],\n",
       "         [255,   0,   0, ..., 255, 255, 255]], dtype=uint8)),\n",
       " (array([[162, 176, 183, ...,  78, 109, 152],\n",
       "         [145, 145, 165, ...,  99, 144, 169],\n",
       "         [147, 125, 149, ..., 124, 152, 153],\n",
       "         ...,\n",
       "         [132, 133, 120, ...,  98, 104, 129],\n",
       "         [120, 126, 109, ..., 113, 108, 120],\n",
       "         [104, 110, 100, ..., 141, 128,  89]], dtype=uint8),\n",
       "  array([[255, 255, 255, ..., 255, 255, 255],\n",
       "         [255, 255, 255, ..., 255, 255, 255],\n",
       "         [255, 255, 255, ..., 255, 255, 255],\n",
       "         ...,\n",
       "         [255, 255, 255, ..., 255, 255, 255],\n",
       "         [255, 255, 255, ..., 255, 255, 255],\n",
       "         [255, 255, 255, ..., 255, 255, 255]], dtype=uint8)),\n",
       " (array([[182, 166, 148, ..., 163, 169, 174],\n",
       "         [174, 157, 137, ..., 168, 173, 178],\n",
       "         [161, 144, 124, ..., 162, 173, 171],\n",
       "         ...,\n",
       "         [133, 134, 115, ...,  80,  92,  94],\n",
       "         [115, 112,  97, ...,  84,  99, 112],\n",
       "         [ 86,  90,  95, ...,  65,  80, 107]], dtype=uint8),\n",
       "  array([[255, 255, 255, ..., 255, 255, 255],\n",
       "         [255, 255, 255, ..., 255, 255, 255],\n",
       "         [255, 255, 255, ..., 255, 255, 255],\n",
       "         ...,\n",
       "         [255, 255, 255, ..., 255, 255, 255],\n",
       "         [255, 255, 255, ..., 255, 255, 255],\n",
       "         [255, 255, 255, ..., 255, 255, 255]], dtype=uint8)),\n",
       " (array([[ 82,  79, 113, ...,  76, 113, 129],\n",
       "         [ 80,  94, 124, ...,  76,  95, 113],\n",
       "         [ 89, 102, 120, ...,  77,  82,  91],\n",
       "         ...,\n",
       "         [134, 116, 116, ..., 131, 130, 125],\n",
       "         [140, 129, 127, ..., 136, 149, 149],\n",
       "         [110,  75,  65, ..., 111, 139, 159]], dtype=uint8),\n",
       "  array([[255, 255, 255, ..., 255, 255, 255],\n",
       "         [255, 255, 255, ..., 255, 255, 255],\n",
       "         [255, 255, 255, ..., 255, 255, 255],\n",
       "         ...,\n",
       "         [255,   0,   0, ..., 255, 255, 255],\n",
       "         [  0,   0,   0, ..., 255, 255, 255],\n",
       "         [  0,   0,   0, ..., 255, 255, 255]], dtype=uint8)),\n",
       " (array([[155, 120,  79, ..., 114, 114, 118],\n",
       "         [107,  58,  62, ..., 142, 134, 131],\n",
       "         [ 51,  20,  42, ..., 154, 151, 140],\n",
       "         ...,\n",
       "         [140, 139, 129, ..., 160, 163, 148],\n",
       "         [139, 135, 134, ..., 159, 161, 140],\n",
       "         [138, 134, 137, ..., 132, 134, 126]], dtype=uint8),\n",
       "  array([[  0,   0,   0, ..., 255, 255, 255],\n",
       "         [  0,   0,   0, ..., 255, 255, 255],\n",
       "         [  0,   0,   0, ..., 255, 255, 255],\n",
       "         ...,\n",
       "         [255, 255, 255, ..., 255, 255, 255],\n",
       "         [255, 255, 255, ..., 255, 255, 255],\n",
       "         [255, 255, 255, ..., 255, 255, 255]], dtype=uint8)),\n",
       " (array([[ 42,  54,  57, ..., 105,  89,  94],\n",
       "         [ 54,  61,  54, ..., 117,  95, 104],\n",
       "         [ 63,  61,  52, ..., 140, 123, 126],\n",
       "         ...,\n",
       "         [152, 162, 148, ...,  86,  68,  51],\n",
       "         [151, 165, 157, ...,  83,  65,  64],\n",
       "         [158, 169, 157, ...,  76,  80,  81]], dtype=uint8),\n",
       "  array([[  0,   0,   0, ..., 255, 255, 255],\n",
       "         [  0,   0,   0, ..., 255, 255, 255],\n",
       "         [  0,   0,   0, ..., 255, 255, 255],\n",
       "         ...,\n",
       "         [255, 255, 255, ..., 255, 255, 255],\n",
       "         [255, 255, 255, ..., 255, 255, 255],\n",
       "         [255, 255, 255, ..., 255, 255, 255]], dtype=uint8)),\n",
       " (array([[180, 164, 150, ..., 167, 163, 158],\n",
       "         [181, 169, 165, ..., 172, 157, 154],\n",
       "         [200, 192, 184, ..., 168, 144, 150],\n",
       "         ...,\n",
       "         [189, 197, 216, ...,  95, 104, 115],\n",
       "         [196, 204, 216, ...,  99, 104, 122],\n",
       "         [185, 199, 209, ..., 117, 131, 158]], dtype=uint8),\n",
       "  array([[255, 255, 255, ..., 255, 255, 255],\n",
       "         [255, 255, 255, ..., 255, 255, 255],\n",
       "         [255, 255, 255, ..., 255, 255, 255],\n",
       "         ...,\n",
       "         [255, 255, 255, ..., 255, 255, 255],\n",
       "         [255, 255, 255, ..., 255, 255, 255],\n",
       "         [255, 255, 255, ..., 255, 255, 255]], dtype=uint8)),\n",
       " (array([[209, 200, 199, ..., 161, 161, 167],\n",
       "         [218, 215, 205, ..., 157, 144, 154],\n",
       "         [214, 213, 199, ..., 171, 161, 146],\n",
       "         ...,\n",
       "         [171, 182, 171, ...,  94,  94,  74],\n",
       "         [169, 173, 187, ...,  83,  85, 101],\n",
       "         [191, 167, 191, ...,  96,  99, 129]], dtype=uint8),\n",
       "  array([[255, 255, 255, ..., 255, 255, 255],\n",
       "         [255, 255, 255, ..., 255, 255, 255],\n",
       "         [255, 255, 255, ..., 255, 255, 255],\n",
       "         ...,\n",
       "         [255, 255, 255, ..., 255, 255, 255],\n",
       "         [255, 255, 255, ..., 255, 255, 255],\n",
       "         [255, 255, 255, ..., 255, 255, 255]], dtype=uint8)),\n",
       " (array([[ 98,  91, 107, ..., 116,  92,  77],\n",
       "         [ 86,  97, 118, ...,  78,  68,  78],\n",
       "         [ 72,  84, 107, ...,  62,  64,  78],\n",
       "         ...,\n",
       "         [102,  73,  78, ..., 137, 137, 132],\n",
       "         [121,  91,  97, ..., 118, 116, 129],\n",
       "         [130, 110,  92, ..., 114, 108, 121]], dtype=uint8),\n",
       "  array([[255, 255, 255, ..., 255, 255, 255],\n",
       "         [255, 255, 255, ..., 255, 255, 255],\n",
       "         [255, 255, 255, ...,   0,   0, 255],\n",
       "         ...,\n",
       "         [255, 255, 255, ..., 255, 255, 255],\n",
       "         [255, 255, 255, ..., 255, 255, 255],\n",
       "         [255, 255, 255, ..., 255, 255, 255]], dtype=uint8)),\n",
       " (array([[203, 192, 174, ..., 163, 154, 144],\n",
       "         [183, 163, 146, ..., 163, 160, 145],\n",
       "         [145, 135, 127, ..., 151, 157, 162],\n",
       "         ...,\n",
       "         [ 47,  47,  54, ..., 149, 128, 102],\n",
       "         [ 38,  37,  53, ..., 134, 116, 117],\n",
       "         [ 47,  35,  64, ..., 131, 114, 127]], dtype=uint8),\n",
       "  array([[255, 255, 255, ..., 255, 255, 255],\n",
       "         [255, 255, 255, ..., 255, 255, 255],\n",
       "         [255, 255, 255, ..., 255, 255, 255],\n",
       "         ...,\n",
       "         [  0,   0,   0, ..., 255, 255, 255],\n",
       "         [  0,   0,   0, ..., 255, 255, 255],\n",
       "         [  0,   0,   0, ..., 255, 255, 255]], dtype=uint8)),\n",
       " (array([[201, 180, 163, ..., 121, 125, 121],\n",
       "         [161, 163, 163, ..., 123, 108, 107],\n",
       "         [142, 158, 179, ..., 119,  93,  98],\n",
       "         ...,\n",
       "         [ 68,  80,  80, ..., 148, 139, 114],\n",
       "         [ 96, 109, 115, ..., 163, 136, 112],\n",
       "         [117, 131, 141, ..., 155, 127, 126]], dtype=uint8),\n",
       "  array([[255, 255, 255, ..., 255, 255, 255],\n",
       "         [255, 255, 255, ..., 255, 255, 255],\n",
       "         [255, 255, 255, ..., 255, 255, 255],\n",
       "         ...,\n",
       "         [  0,   0,   0, ..., 255, 255, 255],\n",
       "         [255,   0,   0, ..., 255, 255, 255],\n",
       "         [255, 255, 255, ..., 255, 255, 255]], dtype=uint8)),\n",
       " (array([[201, 194, 175, ...,  85,  76,  76],\n",
       "         [183, 172, 164, ..., 130,  81,  48],\n",
       "         [159, 157, 171, ..., 146,  93,  64],\n",
       "         ...,\n",
       "         [166, 129,  92, ..., 104,  87,  98],\n",
       "         [140, 105,  83, ..., 108,  81,  90],\n",
       "         [109,  88,  80, ..., 115, 102, 101]], dtype=uint8),\n",
       "  array([[255, 255, 255, ..., 255, 255, 255],\n",
       "         [255, 255, 255, ..., 255, 255, 255],\n",
       "         [255, 255, 255, ..., 255, 255, 255],\n",
       "         ...,\n",
       "         [  0,   0,   0, ..., 255, 255, 255],\n",
       "         [  0,   0,   0, ..., 255, 255, 255],\n",
       "         [  0,   0,   0, ..., 255, 255, 255]], dtype=uint8)),\n",
       " (array([[181, 172, 169, ..., 122,  80,  77],\n",
       "         [184, 182, 166, ...,  83,  81,  59],\n",
       "         [211, 208, 196, ...,  89,  70,  99],\n",
       "         ...,\n",
       "         [142, 108, 103, ..., 153, 141, 138],\n",
       "         [105,  82,  67, ..., 153, 135, 141],\n",
       "         [112,  81,  71, ..., 137, 137, 184]], dtype=uint8),\n",
       "  array([[255, 255, 255, ...,   0,   0,   0],\n",
       "         [255, 255, 255, ...,   0,   0,   0],\n",
       "         [255, 255, 255, ...,   0,   0, 255],\n",
       "         ...,\n",
       "         [255, 255, 255, ..., 255, 255, 255],\n",
       "         [255, 255, 255, ..., 255, 255, 255],\n",
       "         [255, 255, 255, ..., 255, 255, 255]], dtype=uint8)),\n",
       " (array([[163, 149, 177, ...,  72,  53,  25],\n",
       "         [177, 187, 219, ...,  51,  59,  58],\n",
       "         [186, 207, 209, ...,  64, 109, 135],\n",
       "         ...,\n",
       "         [131, 155, 136, ..., 190, 160, 165],\n",
       "         [129, 139, 163, ..., 180, 149, 152],\n",
       "         [141, 133, 140, ..., 154, 126, 127]], dtype=uint8),\n",
       "  array([[255, 255, 255, ...,   0,   0, 255],\n",
       "         [255, 255, 255, ...,   0, 255, 255],\n",
       "         [255, 255, 255, ..., 255, 255, 255],\n",
       "         ...,\n",
       "         [255, 255, 255, ..., 255, 255, 255],\n",
       "         [255, 255, 255, ..., 255, 255, 255],\n",
       "         [255, 255, 255, ..., 255, 255, 255]], dtype=uint8)),\n",
       " (array([[177, 198, 176, ..., 157, 151, 135],\n",
       "         [158, 169, 164, ..., 129, 112, 105],\n",
       "         [179, 188, 178, ..., 109,  74,  95],\n",
       "         ...,\n",
       "         [ 18,  65, 104, ..., 135, 144, 159],\n",
       "         [102, 120, 105, ..., 154, 148, 132],\n",
       "         [148, 189, 114, ..., 183, 196, 174]], dtype=uint8),\n",
       "  array([[255, 255, 255, ..., 255, 255, 255],\n",
       "         [255, 255, 255, ..., 255, 255, 255],\n",
       "         [255, 255, 255, ..., 255,   0,   0],\n",
       "         ...,\n",
       "         [255, 255, 255, ..., 255, 255, 255],\n",
       "         [255, 255, 255, ..., 255, 255, 255],\n",
       "         [255, 255, 255, ..., 255, 255, 255]], dtype=uint8)),\n",
       " (array([[189, 165, 161, ..., 164, 155, 111],\n",
       "         [180, 159, 191, ..., 128, 105, 102],\n",
       "         [171, 179, 198, ..., 103,  77, 123],\n",
       "         ...,\n",
       "         [ 74,  66, 121, ..., 128, 137, 122],\n",
       "         [ 86,  84, 153, ...,  89, 157, 147],\n",
       "         [ 86, 106,  94, ..., 106, 146, 163]], dtype=uint8),\n",
       "  array([[255, 255, 255, ..., 255, 255, 255],\n",
       "         [255, 255, 255, ..., 255, 255, 255],\n",
       "         [255, 255, 255, ..., 255, 255, 255],\n",
       "         ...,\n",
       "         [255, 255, 255, ..., 255, 255, 255],\n",
       "         [255, 255, 255, ..., 255, 255, 255],\n",
       "         [255, 255, 255, ..., 255, 255, 255]], dtype=uint8)),\n",
       " (array([[156, 142, 168, ..., 119, 140, 122],\n",
       "         [189, 172, 183, ..., 120, 173, 152],\n",
       "         [182, 183, 173, ..., 168, 176, 156],\n",
       "         ...,\n",
       "         [128, 112,  79, ..., 195, 158, 135],\n",
       "         [126, 102,  75, ..., 197, 180, 173],\n",
       "         [146, 145, 128, ..., 160, 149, 135]], dtype=uint8),\n",
       "  array([[255, 255, 255, ..., 255, 255, 255],\n",
       "         [255, 255, 255, ..., 255, 255, 255],\n",
       "         [255, 255, 255, ..., 255, 255, 255],\n",
       "         ...,\n",
       "         [255, 255, 255, ..., 255, 255, 255],\n",
       "         [255, 255, 255, ..., 255, 255, 255],\n",
       "         [255, 255, 255, ..., 255, 255, 255]], dtype=uint8)),\n",
       " (array([[223, 216, 183, ..., 148, 129, 136],\n",
       "         [204, 216, 190, ..., 104,  76, 111],\n",
       "         [211, 223, 204, ...,  85, 103,  61],\n",
       "         ...,\n",
       "         [ 80,  59,  78, ...,  68,  92,  52],\n",
       "         [ 90,  76, 117, ...,  27,  80,  75],\n",
       "         [108, 103, 124, ...,  27,  69,  43]], dtype=uint8),\n",
       "  array([[255, 255, 255, ..., 255, 255, 255],\n",
       "         [255, 255, 255, ...,   0,   0,   0],\n",
       "         [255, 255, 255, ...,   0,   0,   0],\n",
       "         ...,\n",
       "         [255, 255, 255, ..., 255, 255, 255],\n",
       "         [255, 255, 255, ..., 255, 255, 255],\n",
       "         [255, 255, 255, ..., 255, 255, 255]], dtype=uint8)),\n",
       " (array([[224, 230, 193, ..., 206, 175, 151],\n",
       "         [196, 216, 204, ..., 172, 166, 154],\n",
       "         [222, 183, 210, ...,  96, 105, 143],\n",
       "         ...,\n",
       "         [ 12,  83, 142, ...,  51,  74, 114],\n",
       "         [ 50,  65, 142, ...,  73,  71,  87],\n",
       "         [ 93, 106, 103, ...,  82,  70,  96]], dtype=uint8),\n",
       "  array([[255, 255, 255, ..., 255, 255, 255],\n",
       "         [255, 255, 255, ..., 255, 255, 255],\n",
       "         [255, 255, 255, ..., 255, 255, 255],\n",
       "         ...,\n",
       "         [255, 255, 255, ..., 255, 255, 255],\n",
       "         [255, 255, 255, ..., 255, 255, 255],\n",
       "         [255, 255, 255, ..., 255, 255, 255]], dtype=uint8)),\n",
       " (array([[164, 141, 108, ...,  58,  61,  70],\n",
       "         [115, 102,  80, ...,  81, 107,  65],\n",
       "         [151, 156, 100, ..., 106,  85,  63],\n",
       "         ...,\n",
       "         [104,  71,  59, ...,  47,  78, 106],\n",
       "         [ 89,  61,  56, ...,  93, 117, 111],\n",
       "         [ 79,  82,  63, ...,  73,  91,  93]], dtype=uint8),\n",
       "  array([[255, 255, 255, ...,   0,   0,   0],\n",
       "         [255, 255, 255, ...,   0,   0,   0],\n",
       "         [255, 255, 255, ...,   0,   0,   0],\n",
       "         ...,\n",
       "         [255, 255, 255, ..., 255, 255, 255],\n",
       "         [255, 255, 255, ..., 255, 255, 255],\n",
       "         [255, 255, 255, ..., 255, 255, 255]], dtype=uint8)),\n",
       " (array([[ 59,  70,  90, ..., 179,  97,  78],\n",
       "         [ 54,  93, 108, ...,  76,  75, 120],\n",
       "         [ 44,  75,  93, ...,  91,  77, 148],\n",
       "         ...,\n",
       "         [121, 137, 136, ..., 202, 157, 122],\n",
       "         [150, 124, 125, ..., 196, 131,  81],\n",
       "         [162, 151, 114, ..., 114, 108,  84]], dtype=uint8),\n",
       "  array([[255, 255, 255, ..., 255, 255, 255],\n",
       "         [255, 255, 255, ..., 255, 255, 255],\n",
       "         [255, 255, 255, ..., 255, 255, 255],\n",
       "         ...,\n",
       "         [255, 255, 255, ..., 255, 255, 255],\n",
       "         [255, 255, 255, ..., 255, 255, 255],\n",
       "         [255, 255, 255, ..., 255, 255, 255]], dtype=uint8)),\n",
       " (array([[ 83,  68,  64, ...,  63,  55,  76],\n",
       "         [ 92,  47,  49, ...,  68, 105,  85],\n",
       "         [116, 101, 106, ...,  67,  94, 108],\n",
       "         ...,\n",
       "         [158, 116, 104, ..., 139,  51,  63],\n",
       "         [133, 100, 101, ..., 150, 136,  83],\n",
       "         [ 75,  73,  73, ..., 146, 161, 102]], dtype=uint8),\n",
       "  array([[255, 255, 255, ...,   0,   0,   0],\n",
       "         [255, 255, 255, ...,   0,   0,   0],\n",
       "         [255, 255, 255, ...,   0,   0,   0],\n",
       "         ...,\n",
       "         [255, 255, 255, ..., 255, 255, 255],\n",
       "         [255, 255, 255, ..., 255, 255, 255],\n",
       "         [255, 255, 255, ..., 255, 255, 255]], dtype=uint8)),\n",
       " (array([[ 91,  83,  78, ..., 152, 160, 181],\n",
       "         [126,  86,  92, ..., 151, 163, 231],\n",
       "         [130, 107,  84, ..., 204, 241, 178],\n",
       "         ...,\n",
       "         [ 85, 122, 115, ..., 148, 116,  94],\n",
       "         [125, 152, 173, ..., 166, 178, 174],\n",
       "         [150, 160, 155, ..., 132, 179, 142]], dtype=uint8),\n",
       "  array([[255, 255, 255, ..., 255, 255, 255],\n",
       "         [255, 255, 255, ..., 255, 255, 255],\n",
       "         [255, 255, 255, ..., 255, 255, 255],\n",
       "         ...,\n",
       "         [255, 255, 255, ..., 255, 255, 255],\n",
       "         [255, 255, 255, ..., 255, 255, 255],\n",
       "         [255, 255, 255, ..., 255, 255, 255]], dtype=uint8))]"
      ]
     },
     "execution_count": 3,
     "metadata": {},
     "output_type": "execute_result"
    }
   ],
   "source": [
    "train_data"
   ]
  },
  {
   "cell_type": "code",
   "execution_count": 4,
   "metadata": {},
   "outputs": [],
   "source": [
    "import collections\n",
    "import numpy as np\n",
    "import torch\n",
    "import torchvision\n",
    "import torchvision.transforms as transforms\n",
    "from catalyst.data.augmentor import Augmentor\n",
    "from catalyst.dl.utils import UtilsFactory\n",
    "\n",
    "bs = 4\n",
    "num_workers = 4\n",
    "\n",
    "data_transform = transforms.Compose([\n",
    "    Augmentor(\n",
    "        dict_key=\"features\",\n",
    "        augment_fn=lambda x: \\\n",
    "            torch.from_numpy(x.copy().astype(np.float32) / 255.).unsqueeze_(0)),\n",
    "    Augmentor(\n",
    "        dict_key=\"features\",\n",
    "        augment_fn=transforms.Normalize(\n",
    "            (0.5, ),\n",
    "            (0.5, ))),\n",
    "    Augmentor(\n",
    "        dict_key=\"targets\",\n",
    "        augment_fn=lambda x: \\\n",
    "            torch.from_numpy(x.copy().astype(np.float32) / 255.).unsqueeze_(0))\n",
    "])\n",
    "\n",
    "open_fn = lambda x: {\"features\": x[0], \"targets\": x[1]}\n",
    "\n",
    "loaders = collections.OrderedDict()\n",
    "\n",
    "train_loader = UtilsFactory.create_loader(\n",
    "    train_data, \n",
    "    open_fn=open_fn, \n",
    "    dict_transform=data_transform, \n",
    "    batch_size=bs, \n",
    "    num_workers=num_workers, \n",
    "    shuffle=True)\n",
    "\n",
    "valid_loader = UtilsFactory.create_loader(\n",
    "    valid_data, \n",
    "    open_fn=open_fn, \n",
    "    dict_transform=data_transform, \n",
    "    batch_size=bs, \n",
    "    num_workers=num_workers, \n",
    "    shuffle=False)\n",
    "\n",
    "loaders[\"train\"] = train_loader\n",
    "loaders[\"valid\"] = valid_loader"
   ]
  },
  {
   "cell_type": "code",
   "execution_count": 5,
   "metadata": {},
   "outputs": [],
   "source": [
    "for x in train_loader:\n",
    "    break"
   ]
  },
  {
   "cell_type": "code",
   "execution_count": 12,
   "metadata": {},
   "outputs": [
    {
     "data": {
      "text/plain": [
       "torch.Size([4, 1, 512, 512])"
      ]
     },
     "execution_count": 12,
     "metadata": {},
     "output_type": "execute_result"
    }
   ],
   "source": [
    "x['features'].shape"
   ]
  },
  {
   "cell_type": "code",
   "execution_count": 13,
   "metadata": {},
   "outputs": [
    {
     "data": {
      "text/plain": [
       "tensor(-0.0092)"
      ]
     },
     "execution_count": 13,
     "metadata": {},
     "output_type": "execute_result"
    }
   ],
   "source": [
    "x['features'].mean()"
   ]
  },
  {
   "cell_type": "code",
   "execution_count": 18,
   "metadata": {},
   "outputs": [
    {
     "data": {
      "text/plain": [
       "torch.Size([4, 1, 512, 512])"
      ]
     },
     "execution_count": 18,
     "metadata": {},
     "output_type": "execute_result"
    }
   ],
   "source": [
    "x['targets'].shape"
   ]
  },
  {
   "cell_type": "code",
   "execution_count": 23,
   "metadata": {},
   "outputs": [
    {
     "data": {
      "text/plain": [
       "tensor([[[[-0.0294, -0.0343, -0.0434,  ..., -0.0370, -0.0403, -0.0400],\n",
       "          [-0.0227, -0.0185, -0.0259,  ..., -0.0164, -0.0266, -0.0350],\n",
       "          [-0.0210, -0.0109, -0.0159,  ..., -0.0170, -0.0280, -0.0396],\n",
       "          ...,\n",
       "          [-0.0132, -0.0082, -0.0179,  ..., -0.0184, -0.0337, -0.0390],\n",
       "          [-0.0163, -0.0135, -0.0222,  ..., -0.0204, -0.0352, -0.0410],\n",
       "          [-0.0226, -0.0216, -0.0259,  ..., -0.0261, -0.0310, -0.0418]]],\n",
       "\n",
       "\n",
       "        [[[-0.0339, -0.0363, -0.0367,  ..., -0.0392, -0.0444, -0.0447],\n",
       "          [-0.0255, -0.0214, -0.0219,  ..., -0.0237, -0.0320, -0.0406],\n",
       "          [-0.0251, -0.0239, -0.0234,  ..., -0.0239, -0.0257, -0.0390],\n",
       "          ...,\n",
       "          [-0.0258, -0.0202, -0.0202,  ..., -0.0156, -0.0284, -0.0395],\n",
       "          [-0.0273, -0.0206, -0.0237,  ..., -0.0214, -0.0319, -0.0375],\n",
       "          [-0.0306, -0.0253, -0.0267,  ..., -0.0228, -0.0307, -0.0399]]],\n",
       "\n",
       "\n",
       "        [[[-0.0346, -0.0380, -0.0389,  ..., -0.0407, -0.0463, -0.0427],\n",
       "          [-0.0207, -0.0201, -0.0222,  ..., -0.0222, -0.0316, -0.0389],\n",
       "          [-0.0206, -0.0190, -0.0218,  ..., -0.0131, -0.0288, -0.0426],\n",
       "          ...,\n",
       "          [-0.0186, -0.0175, -0.0234,  ..., -0.0227, -0.0317, -0.0364],\n",
       "          [-0.0232, -0.0190, -0.0242,  ..., -0.0184, -0.0278, -0.0365],\n",
       "          [-0.0276, -0.0258, -0.0280,  ..., -0.0218, -0.0251, -0.0388]]],\n",
       "\n",
       "\n",
       "        [[[-0.0330, -0.0368, -0.0395,  ..., -0.0283, -0.0348, -0.0367],\n",
       "          [-0.0227, -0.0127, -0.0167,  ..., -0.0153, -0.0258, -0.0327],\n",
       "          [-0.0224, -0.0138, -0.0141,  ..., -0.0252, -0.0313, -0.0326],\n",
       "          ...,\n",
       "          [-0.0219, -0.0129, -0.0181,  ..., -0.0242, -0.0314, -0.0418],\n",
       "          [-0.0254, -0.0137, -0.0157,  ..., -0.0221, -0.0335, -0.0405],\n",
       "          [-0.0316, -0.0258, -0.0263,  ..., -0.0257, -0.0323, -0.0382]]]],\n",
       "       grad_fn=<MkldnnConvolutionBackward>)"
      ]
     },
     "execution_count": 23,
     "metadata": {},
     "output_type": "execute_result"
    }
   ],
   "source": [
    "model(x['features'])"
   ]
  },
  {
   "cell_type": "code",
   "execution_count": 24,
   "metadata": {},
   "outputs": [],
   "source": [
    "pred = _"
   ]
  },
  {
   "cell_type": "code",
   "execution_count": 25,
   "metadata": {},
   "outputs": [
    {
     "data": {
      "text/plain": [
       "torch.Size([4, 1, 512, 512])"
      ]
     },
     "execution_count": 25,
     "metadata": {},
     "output_type": "execute_result"
    }
   ],
   "source": [
    "pred.shape"
   ]
  },
  {
   "cell_type": "code",
   "execution_count": null,
   "metadata": {},
   "outputs": [],
   "source": []
  },
  {
   "cell_type": "code",
   "execution_count": null,
   "metadata": {},
   "outputs": [],
   "source": []
  },
  {
   "cell_type": "code",
   "execution_count": 20,
   "metadata": {},
   "outputs": [],
   "source": [
    "from catalyst.contrib.models.segmentation import UNet"
   ]
  },
  {
   "cell_type": "code",
   "execution_count": 21,
   "metadata": {},
   "outputs": [],
   "source": [
    "import torch\n",
    "import torch.nn as nn\n",
    "from catalyst.dl.experiments import SupervisedRunner"
   ]
  },
  {
   "cell_type": "code",
   "execution_count": 22,
   "metadata": {},
   "outputs": [],
   "source": [
    "# experiment setup\n",
    "num_epochs = 10\n",
    "logdir = \"./logs/segmentation_notebook\"\n",
    "\n",
    "# model, criterion, optimizer\n",
    "model = UNet(num_classes=1, in_channels=1, num_filters=64, num_blocks=4)\n",
    "criterion = nn.BCEWithLogitsLoss()\n",
    "optimizer = torch.optim.Adam(model.parameters(), lr=1e-3)\n",
    "scheduler = torch.optim.lr_scheduler.MultiStepLR(optimizer, milestones=[10, 20, 40], gamma=0.3)\n",
    "\n",
    "\n",
    "# model runner\n",
    "runner = SupervisedRunner(device='cuda:0')"
   ]
  },
  {
   "cell_type": "code",
   "execution_count": 8,
   "metadata": {},
   "outputs": [
    {
     "name": "stdout",
     "output_type": "stream",
     "text": [
      "0/10 * Epoch (train): 100% 7/7 [00:09<00:00,  1.84s/it, _timers/_fps=2.229, loss=0.614]  \n",
      "0/10 * Epoch (valid): 100% 1/1 [00:00<00:00,  4.60it/s, _timers/_fps=39.573, loss=0.517]\n",
      "[2019-05-31 11:02:36,924] \n",
      "0/10 * Epoch 0 (train): _base/lr=0.0010 | _base/momentum=0.9000 | _timers/_fps=29.0345 | _timers/batch_time=0.6977 | _timers/data_time=0.2190 | _timers/model_time=0.4786 | loss=0.8429\n",
      "0/10 * Epoch 0 (valid): _base/lr=0.0010 | _base/momentum=0.9000 | _timers/_fps=39.5725 | _timers/batch_time=0.1011 | _timers/data_time=0.0871 | _timers/model_time=0.0134 | loss=0.5172\n",
      "1/10 * Epoch (train): 100% 7/7 [00:02<00:00,  2.70it/s, _timers/_fps=14.527, loss=0.488]\n",
      "1/10 * Epoch (valid): 100% 1/1 [00:00<00:00,  4.31it/s, _timers/_fps=35.626, loss=0.454]\n",
      "[2019-05-31 11:02:40,100] \n",
      "1/10 * Epoch 1 (train): _base/lr=0.0010 | _base/momentum=0.9000 | _timers/_fps=16.5422 | _timers/batch_time=0.2590 | _timers/data_time=0.2538 | _timers/model_time=0.0052 | loss=0.5535\n",
      "1/10 * Epoch 1 (valid): _base/lr=0.0010 | _base/momentum=0.9000 | _timers/_fps=35.6256 | _timers/batch_time=0.1123 | _timers/data_time=0.1043 | _timers/model_time=0.0074 | loss=0.4537\n",
      "2/10 * Epoch (train): 100% 7/7 [00:02<00:00,  2.72it/s, _timers/_fps=14.156, loss=0.536]\n",
      "2/10 * Epoch (valid): 100% 1/1 [00:00<00:00,  4.35it/s, _timers/_fps=35.908, loss=0.433]\n",
      "[2019-05-31 11:02:43,245] \n",
      "2/10 * Epoch 2 (train): _base/lr=0.0010 | _base/momentum=0.9000 | _timers/_fps=17.9910 | _timers/batch_time=0.2544 | _timers/data_time=0.2508 | _timers/model_time=0.0035 | loss=0.4806\n",
      "2/10 * Epoch 2 (valid): _base/lr=0.0010 | _base/momentum=0.9000 | _timers/_fps=35.9081 | _timers/batch_time=0.1114 | _timers/data_time=0.1035 | _timers/model_time=0.0074 | loss=0.4328\n",
      "3/10 * Epoch (train): 100% 7/7 [00:02<00:00,  2.74it/s, _timers/_fps=14.457, loss=0.387]\n",
      "3/10 * Epoch (valid): 100% 1/1 [00:00<00:00,  4.33it/s, _timers/_fps=35.827, loss=0.380]\n",
      "[2019-05-31 11:02:46,392] \n",
      "3/10 * Epoch 3 (train): _base/lr=0.0010 | _base/momentum=0.9000 | _timers/_fps=17.7939 | _timers/batch_time=0.2524 | _timers/data_time=0.2489 | _timers/model_time=0.0034 | loss=1.0272\n",
      "3/10 * Epoch 3 (valid): _base/lr=0.0010 | _base/momentum=0.9000 | _timers/_fps=35.8273 | _timers/batch_time=0.1116 | _timers/data_time=0.1033 | _timers/model_time=0.0078 | loss=0.3799\n",
      "4/10 * Epoch (train): 100% 7/7 [00:02<00:00,  2.71it/s, _timers/_fps=14.340, loss=0.371]\n",
      "4/10 * Epoch (valid): 100% 1/1 [00:00<00:00,  4.25it/s, _timers/_fps=34.127, loss=0.346]\n",
      "[2019-05-31 11:02:49,580] \n",
      "4/10 * Epoch 4 (train): _base/lr=0.0010 | _base/momentum=0.9000 | _timers/_fps=17.2623 | _timers/batch_time=0.2555 | _timers/data_time=0.2525 | _timers/model_time=0.0029 | loss=0.5721\n",
      "4/10 * Epoch 4 (valid): _base/lr=0.0010 | _base/momentum=0.9000 | _timers/_fps=34.1269 | _timers/batch_time=0.1172 | _timers/data_time=0.1076 | _timers/model_time=0.0091 | loss=0.3459\n",
      "5/10 * Epoch (train): 100% 7/7 [00:02<00:00,  2.72it/s, _timers/_fps=14.508, loss=0.427]\n",
      "5/10 * Epoch (valid): 100% 1/1 [00:00<00:00,  4.20it/s, _timers/_fps=31.841, loss=0.359]\n",
      "[2019-05-31 11:02:52,670] \n",
      "5/10 * Epoch 5 (train): _base/lr=0.0010 | _base/momentum=0.9000 | _timers/_fps=17.6942 | _timers/batch_time=0.2536 | _timers/data_time=0.2503 | _timers/model_time=0.0032 | loss=0.4147\n",
      "5/10 * Epoch 5 (valid): _base/lr=0.0010 | _base/momentum=0.9000 | _timers/_fps=31.8411 | _timers/batch_time=0.1256 | _timers/data_time=0.1114 | _timers/model_time=0.0137 | loss=0.3590\n",
      "6/10 * Epoch (train): 100% 7/7 [00:02<00:00,  2.72it/s, _timers/_fps=14.616, loss=0.329]\n",
      "6/10 * Epoch (valid): 100% 1/1 [00:00<00:00,  4.36it/s, _timers/_fps=36.013, loss=0.325]\n",
      "[2019-05-31 11:02:55,834] \n",
      "6/10 * Epoch 6 (train): _base/lr=0.0010 | _base/momentum=0.9000 | _timers/_fps=17.0820 | _timers/batch_time=0.2541 | _timers/data_time=0.2506 | _timers/model_time=0.0034 | loss=0.3641\n",
      "6/10 * Epoch 6 (valid): _base/lr=0.0010 | _base/momentum=0.9000 | _timers/_fps=36.0127 | _timers/batch_time=0.1111 | _timers/data_time=0.1028 | _timers/model_time=0.0077 | loss=0.3254\n",
      "7/10 * Epoch (train): 100% 7/7 [00:02<00:00,  2.72it/s, _timers/_fps=14.410, loss=0.333]\n",
      "7/10 * Epoch (valid): 100% 1/1 [00:00<00:00,  4.05it/s, _timers/_fps=31.021, loss=0.331]\n",
      "[2019-05-31 11:02:58,947] \n",
      "7/10 * Epoch 7 (train): _base/lr=0.0010 | _base/momentum=0.9000 | _timers/_fps=17.5577 | _timers/batch_time=0.2542 | _timers/data_time=0.2505 | _timers/model_time=0.0037 | loss=0.3547\n",
      "7/10 * Epoch 7 (valid): _base/lr=0.0010 | _base/momentum=0.9000 | _timers/_fps=31.0207 | _timers/batch_time=0.1289 | _timers/data_time=0.1207 | _timers/model_time=0.0077 | loss=0.3305\n",
      "8/10 * Epoch (train): 100% 7/7 [00:02<00:00,  2.71it/s, _timers/_fps=14.168, loss=0.344]\n",
      "8/10 * Epoch (valid): 100% 1/1 [00:00<00:00,  4.13it/s, _timers/_fps=32.644, loss=0.308]\n",
      "[2019-05-31 11:03:02,154] \n",
      "8/10 * Epoch 8 (train): _base/lr=0.0010 | _base/momentum=0.9000 | _timers/_fps=17.3654 | _timers/batch_time=0.2548 | _timers/data_time=0.2515 | _timers/model_time=0.0032 | loss=0.3518\n",
      "8/10 * Epoch 8 (valid): _base/lr=0.0010 | _base/momentum=0.9000 | _timers/_fps=32.6444 | _timers/batch_time=0.1225 | _timers/data_time=0.1143 | _timers/model_time=0.0077 | loss=0.3079\n",
      "9/10 * Epoch (train): 100% 7/7 [00:02<00:00,  2.70it/s, _timers/_fps=14.105, loss=0.308]\n",
      "9/10 * Epoch (valid): 100% 1/1 [00:00<00:00,  4.29it/s, _timers/_fps=35.143, loss=0.288]\n",
      "[2019-05-31 11:03:05,339] \n",
      "9/10 * Epoch 9 (train): _base/lr=0.0010 | _base/momentum=0.9000 | _timers/_fps=17.2311 | _timers/batch_time=0.2558 | _timers/data_time=0.2526 | _timers/model_time=0.0031 | loss=0.3229\n",
      "9/10 * Epoch 9 (valid): _base/lr=0.0010 | _base/momentum=0.9000 | _timers/_fps=35.1427 | _timers/batch_time=0.1138 | _timers/data_time=0.1055 | _timers/model_time=0.0077 | loss=0.2877\n",
      "Top best models:\n",
      "logs/segmentation_notebook/checkpoints//train.9.pth\t0.2877\n",
      "logs/segmentation_notebook/checkpoints//train.8.pth\t0.3079\n",
      "logs/segmentation_notebook/checkpoints//train.6.pth\t0.3254\n"
     ]
    }
   ],
   "source": [
    "# model training\n",
    "runner.train(\n",
    "    model=model,\n",
    "    criterion=criterion,\n",
    "    optimizer=optimizer,\n",
    "    loaders=loaders,\n",
    "    logdir=logdir,\n",
    "    num_epochs=num_epochs,\n",
    "    verbose=True\n",
    ")"
   ]
  },
  {
   "cell_type": "code",
   "execution_count": 1,
   "metadata": {},
   "outputs": [
    {
     "data": {
      "text/plain": [
       "123"
      ]
     },
     "execution_count": 1,
     "metadata": {},
     "output_type": "execute_result"
    }
   ],
   "source": [
    "123"
   ]
  },
  {
   "cell_type": "code",
   "execution_count": null,
   "metadata": {},
   "outputs": [],
   "source": []
  },
  {
   "cell_type": "code",
   "execution_count": null,
   "metadata": {},
   "outputs": [],
   "source": []
  },
  {
   "cell_type": "code",
   "execution_count": 83,
   "metadata": {},
   "outputs": [],
   "source": [
    "class Cls:\n",
    "    \n",
    "    def __init__(self, *dims):\n",
    "        self.data = np.random.rand(*dims)\n",
    "    \n",
    "    def __getitem__(self, keys):\n",
    "        print(keys, type(keys))\n",
    "        return self.data[keys]"
   ]
  },
  {
   "cell_type": "code",
   "execution_count": 84,
   "metadata": {},
   "outputs": [],
   "source": [
    "a = Cls(10, 20, 30)"
   ]
  },
  {
   "cell_type": "code",
   "execution_count": 67,
   "metadata": {},
   "outputs": [
    {
     "data": {
      "text/plain": [
       "0.4617349964075692"
      ]
     },
     "execution_count": 67,
     "metadata": {},
     "output_type": "execute_result"
    }
   ],
   "source": [
    "a.data"
   ]
  },
  {
   "cell_type": "code",
   "execution_count": 86,
   "metadata": {},
   "outputs": [
    {
     "name": "stdout",
     "output_type": "stream",
     "text": [
      "slice(1, 2, None) <class 'slice'>\n"
     ]
    },
    {
     "data": {
      "text/plain": [
       "(1, 20, 30)"
      ]
     },
     "execution_count": 86,
     "metadata": {},
     "output_type": "execute_result"
    }
   ],
   "source": [
    "a[1:2].shape"
   ]
  },
  {
   "cell_type": "code",
   "execution_count": null,
   "metadata": {},
   "outputs": [],
   "source": []
  },
  {
   "cell_type": "code",
   "execution_count": 45,
   "metadata": {},
   "outputs": [
    {
     "data": {
      "text/plain": [
       "(slice(1, 2, None), slice(1, 2, None))"
      ]
     },
     "execution_count": 45,
     "metadata": {},
     "output_type": "execute_result"
    }
   ],
   "source": [
    "args[0]"
   ]
  },
  {
   "cell_type": "code",
   "execution_count": 31,
   "metadata": {},
   "outputs": [],
   "source": [
    "z = np.random.rand(10, 20, 30)"
   ]
  },
  {
   "cell_type": "code",
   "execution_count": 50,
   "metadata": {},
   "outputs": [
    {
     "data": {
      "text/plain": [
       "(1, 1, 30)"
      ]
     },
     "execution_count": 50,
     "metadata": {},
     "output_type": "execute_result"
    }
   ],
   "source": [
    "z[args[0]].shape"
   ]
  }
 ],
 "metadata": {
  "kernelspec": {
   "display_name": "py37_geo",
   "language": "python",
   "name": "py37_geo"
  },
  "language_info": {
   "codemirror_mode": {
    "name": "ipython",
    "version": 3
   },
   "file_extension": ".py",
   "mimetype": "text/x-python",
   "name": "python",
   "nbconvert_exporter": "python",
   "pygments_lexer": "ipython3",
   "version": "3.7.3"
  }
 },
 "nbformat": 4,
 "nbformat_minor": 2
}
